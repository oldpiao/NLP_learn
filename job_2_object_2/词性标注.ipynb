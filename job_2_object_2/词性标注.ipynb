{
 "cells": [
  {
   "cell_type": "markdown",
   "metadata": {},
   "source": [
    "### 数据准备"
   ]
  },
  {
   "cell_type": "code",
   "execution_count": 18,
   "metadata": {},
   "outputs": [
    {
     "name": "stdout",
     "output_type": "stream",
     "text": [
      "12528\n"
     ]
    }
   ],
   "source": [
    "import re\n",
    "from jieba import posseg\n",
    "\n",
    "with open('./data/三体.txt', 'r', encoding='utf-8') as f:\n",
    "    data = f.read().strip()\n",
    "lines = [i.strip() for i in re.split(r'\\n+', data)]\n",
    "print(len(lines))"
   ]
  },
  {
   "cell_type": "code",
   "execution_count": 19,
   "metadata": {},
   "outputs": [],
   "source": [
    "all_words = []\n",
    "for line in lines:\n",
    "    words  = \"\\n\".join([\"%s/%s\" % (i.word, i.flag) for i in posseg.cut(line)])\n",
    "    all_words.append(words)\n",
    "with open('./data/三体分词.txt', 'w', encoding='utf-8') as f:\n",
    "    f.write('\\n\\n'.join(all_words))"
   ]
  },
  {
   "cell_type": "markdown",
   "metadata": {},
   "source": [
    "### 词性标注"
   ]
  },
  {
   "cell_type": "code",
   "execution_count": 3,
   "metadata": {},
   "outputs": [],
   "source": [
    "import re\n",
    "from jieba import posseg\n",
    "\n",
    "# 建立词典库\n",
    "tag2id, id2tag = {}, {}\n",
    "word2id, id2word = {}, {}\n",
    "with open('./data/三体分词.txt', 'r', encoding='utf-8') as f:\n",
    "    lines = re.split('\\n+', f.read())\n",
    "    for line in lines:\n",
    "        items = line.split('/')\n",
    "        # print(items)\n",
    "        word, tag = items[0], items[1]\n",
    "        if word not in word2id:\n",
    "            id2word[len(id2word)] = word\n",
    "            word2id[word] = len(word2id)\n",
    "        \n",
    "        if tag not in tag2id:\n",
    "            id2tag[len(tag2id)] = tag\n",
    "            tag2id[tag] = len(tag2id)\n",
    "\n",
    "M = len(word2id)  # M: 词典大小\n",
    "N = len(tag2id)  # N: 词性的种类个数"
   ]
  },
  {
   "cell_type": "code",
   "execution_count": 4,
   "metadata": {},
   "outputs": [
    {
     "name": "stdout",
     "output_type": "stream",
     "text": [
      "28363 57\n",
      "{'x': 0, 'm': 1, 'nr': 2, 'n': 3, 'v': 4, 'eng': 5, 'd': 6, 'nrfg': 7, 'r': 8, 'uj': 9, 'c': 10, 'j': 11, 'p': 12, 'q': 13, 'zg': 14, 'ul': 15, 'a': 16, 'ud': 17, 'i': 18, 'z': 19, 'u': 20, 'f': 21, 'ad': 22, 's': 23, 'df': 24, 'l': 25, 'vn': 26, 'uz': 27, 'y': 28, 't': 29, 'ug': 30, 'ns': 31, 'nt': 32, 'uv': 33, 'nrt': 34, 'b': 35, 'ng': 36, 'nz': 37, 'mq': 38, 'k': 39, 'o': 40, 'an': 41, 'rr': 42, '': 43, 'vd': 44, 'vg': 45, 'e': 46, 'h': 47, 'rz': 48, 'tg': 49, 'ag': 50, 'yg': 51, 'dg': 52, 'g': 53, 'vi': 54, 'rg': 55, 'vq': 56}\n"
     ]
    }
   ],
   "source": [
    "print(M, N)\n",
    "print(tag2id)"
   ]
  },
  {
   "cell_type": "code",
   "execution_count": 5,
   "metadata": {},
   "outputs": [],
   "source": [
    "# 构建 pi, A, B（状态转移矩阵）\n",
    "import numpy as np\n",
    "pi = np.zeros(N)  # 每个词性出现在句子中的概率， pi[i]: tag i出现在句子中第一个位置的概率\n",
    "A = np.zeros((N, M))  # A[i][j]: 给定tag i,出现单词j的概率\n",
    "B = np.zeros((N, N))  # B[i][j]: 之前的状态是i，之后转换成j的概率"
   ]
  },
  {
   "cell_type": "code",
   "execution_count": 6,
   "metadata": {},
   "outputs": [
    {
     "name": "stderr",
     "output_type": "stream",
     "text": [
      "D:\\ProgramData\\Anaconda3\\lib\\site-packages\\ipykernel_launcher.py:28: RuntimeWarning: invalid value encountered in true_divide\n"
     ]
    }
   ],
   "source": [
    "prev_tag = \"\"\n",
    "with open('./data/三体分词.txt', 'r', encoding='utf-8') as f:\n",
    "    lines = re.split('\\n', f.read())\n",
    "for line in lines:\n",
    "    # 用于切分句子的空格，不是词\n",
    "    if line == \"\":\n",
    "        prev_tag = \"\"\n",
    "        continue\n",
    "    items = line.split('/')\n",
    "    wordId, tagId = word2id[items[0]], tag2id[items[1]]\n",
    "    # 该词是句子的开始\n",
    "    if prev_tag == '':\n",
    "        pi[tagId] += 1\n",
    "        A[tagId][wordId] += 1\n",
    "    else:\n",
    "        A[tagId][wordId] += 1\n",
    "        B[tag2id[prev_tag]][tagId] += 1\n",
    "    # 句子结尾条件二，该词依然是句子中的词，因此写在处理模块后面\n",
    "    if re.search(r'。？?!！', items[0]) is not None:\n",
    "        prev_tag = \"\"\n",
    "    else:\n",
    "        prev_tag = items[1]\n",
    "\n",
    "# normalize, 之前求的是频数，将其转化为概率 \n",
    "pi = pi / sum(pi)\n",
    "for i in range(N):\n",
    "    A[i] /= sum(A[i])\n",
    "    B[i] /= sum(B[i])"
   ]
  },
  {
   "cell_type": "code",
   "execution_count": 7,
   "metadata": {},
   "outputs": [
    {
     "name": "stdout",
     "output_type": "stream",
     "text": [
      "[1.71403197e-01 3.71427929e-02 3.17017784e-02 1.14182611e-01\n",
      " 1.20522967e-01 3.05776019e-03 7.40495087e-02 4.13696967e-03\n",
      " 1.88737999e-01 1.51763833e-03 9.05186951e-02 1.37149538e-03\n",
      " 5.41515840e-02 3.69854082e-03 6.90244396e-03 7.86923578e-05\n",
      " 1.37037120e-02 1.34901185e-04 3.55239787e-03 2.12469366e-03\n",
      " 4.94637678e-04 1.02524901e-02 2.50691369e-03 3.77723318e-03\n",
      " 9.78033590e-04 1.00613800e-02 4.74402500e-03 0.00000000e+00\n",
      " 4.38428851e-04 1.97180565e-02 2.58560604e-04 8.73485172e-03\n",
      " 8.76857702e-04 6.74505924e-05 4.51918969e-03 4.42925557e-03\n",
      " 3.26011197e-04 2.31580367e-03 6.74505924e-04 5.62088270e-05\n",
      " 4.72154147e-04 2.58560604e-04 1.01175889e-04 1.12417654e-05\n",
      " 3.37252962e-05 7.86923578e-05 5.39604740e-04 2.24835308e-05\n",
      " 1.01175889e-04 3.37252962e-05 1.46142950e-04 1.34901185e-04\n",
      " 0.00000000e+00 1.46142950e-04 0.00000000e+00 0.00000000e+00\n",
      " 0.00000000e+00]\n",
      "[0.         0.00992198 0.00161126 ... 0.         0.         0.        ]\n",
      "{0: 'x', 1: 'm', 2: 'nr', 3: 'n', 4: 'v', 5: 'eng', 6: 'd', 7: 'nrfg', 8: 'r', 9: 'uj', 10: 'c', 11: 'j', 12: 'p', 13: 'q', 14: 'zg', 15: 'ul', 16: 'a', 17: 'ud', 18: 'i', 19: 'z', 20: 'u', 21: 'f', 22: 'ad', 23: 's', 24: 'df', 25: 'l', 26: 'vn', 27: 'uz', 28: 'y', 29: 't', 30: 'ug', 31: 'ns', 32: 'nt', 33: 'uv', 34: 'nrt', 35: 'b', 36: 'ng', 37: 'nz', 38: 'mq', 39: 'k', 40: 'o', 41: 'an', 42: 'rr', 43: '', 44: 'vd', 45: 'vg', 46: 'e', 47: 'h', 48: 'rz', 49: 'tg', 50: 'ag', 51: 'yg', 52: 'dg', 53: 'g', 54: 'vi', 55: 'rg', 56: 'vq'}\n"
     ]
    }
   ],
   "source": [
    "print(B[0])\n",
    "print(A[1])\n",
    "print(id2tag)"
   ]
  },
  {
   "cell_type": "code",
   "execution_count": 8,
   "metadata": {},
   "outputs": [],
   "source": [
    "def log(v):\n",
    "    if v == 0:\n",
    "        v = v + 0.000001\n",
    "    return np.log(v)\n",
    "    \n",
    "def viterbi(x: list, pi, A, B):\n",
    "    \"\"\"\n",
    "    param: x: 用户输入的字符串\n",
    "    param: pi: 标签初始概率\n",
    "    param: A: 给定词性tag,每个词出现的概率\n",
    "    param: B: 状态转移矩阵，词性之间的转移概率\n",
    "    \"\"\"\n",
    "    x = [word2id[word] for word in x]\n",
    "    T = len(x)\n",
    "    dp = np.zeros((T, N))\n",
    "    # ptr = np.zeros((T, N)).astype(np.int16)\n",
    "    ptr = np.array([[0 for x in range(N)] for y in range(T)])\n",
    "    for j in range(N):\n",
    "        dp[0][j] = log(pi[j]) + log(A[j][x[0]])\n",
    "        \n",
    "    for i in range(1, T):\n",
    "        for j in range(N):\n",
    "            dp[i][j] = -999999\n",
    "            for k in range(N):\n",
    "                score = dp[i-1][k] + log(B[k][j]) + log(A[j][x[i]])\n",
    "                if score > dp[i][j]:\n",
    "                    dp[i][j] = score\n",
    "                    ptr[i][j] = k\n",
    "    # 将识别出的最好的词性打印出来\n",
    "    best_seq = [0] * T\n",
    "    best_seq[T-1] = np.argmax(dp[T-1])\n",
    "    for i in range(T-2, -1, -1):\n",
    "        best_seq[i] = ptr[i+1][best_seq[i+1]]\n",
    "    print(best_seq)\n",
    "    for i in best_seq:\n",
    "        yield id2tag[i]"
   ]
  },
  {
   "cell_type": "code",
   "execution_count": 9,
   "metadata": {},
   "outputs": [
    {
     "name": "stderr",
     "output_type": "stream",
     "text": [
      "Building prefix dict from the default dictionary ...\n",
      "Loading model from cache C:\\Users\\oscar\\AppData\\Local\\Temp\\jieba.cache\n",
      "Loading model cost 1.162 seconds.\n",
      "Prefix dict has been built succesfully.\n"
     ]
    },
    {
     "name": "stdout",
     "output_type": "stream",
     "text": [
      "[8, 4, 27, 0, 29, 4, 3, 21, 9, 3, 6, 4, 7, 23, 0]\n",
      "他/r/r\n",
      "说/v/v\n",
      "着/uz/uz\n",
      "，/x/x\n",
      "刚才/t/t\n",
      "吸进/v/v\n",
      "肚子/n/n\n",
      "里/f/f\n",
      "的/uj/uj\n",
      "烟/n/n\n",
      "都/d/d\n",
      "喷到/v/v\n",
      "汪淼/nrfg/nrfg\n",
      "脸上/s/s\n",
      "。/x/x\n"
     ]
    }
   ],
   "source": [
    "sentence = '他说着，刚才吸进肚子里的烟都喷到汪淼脸上。'\n",
    "words, flags = zip(*[[i.word, i.flag] for i in posseg.cut(sentence)])\n",
    "pred_flags = list(viterbi(words, pi, A, B))\n",
    "for word, flag, pred_flag in zip(words, flags, pred_flags):\n",
    "    print(\"%s/%s/%s\" % (word, flag, pred_flag))"
   ]
  },
  {
   "cell_type": "code",
   "execution_count": null,
   "metadata": {},
   "outputs": [],
   "source": []
  },
  {
   "cell_type": "code",
   "execution_count": null,
   "metadata": {},
   "outputs": [],
   "source": []
  }
 ],
 "metadata": {
  "kernelspec": {
   "display_name": "Python 3",
   "language": "python",
   "name": "python3"
  },
  "language_info": {
   "codemirror_mode": {
    "name": "ipython",
    "version": 3
   },
   "file_extension": ".py",
   "mimetype": "text/x-python",
   "name": "python",
   "nbconvert_exporter": "python",
   "pygments_lexer": "ipython3",
   "version": "3.7.3"
  }
 },
 "nbformat": 4,
 "nbformat_minor": 2
}
