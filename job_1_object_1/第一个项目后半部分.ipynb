{
 "cells": [
  {
   "cell_type": "code",
   "execution_count": 1,
   "metadata": {},
   "outputs": [],
   "source": [
    "import numpy as np"
   ]
  },
  {
   "cell_type": "code",
   "execution_count": 12,
   "metadata": {},
   "outputs": [],
   "source": [
    "class Tokenizer(object):\n",
    "    \n",
    "    def get_words_probs(self, sentence):\n",
    "        \"\"\"获取单词分词结果与概率，具体方法已完成，在另一台电脑里，已字典树的形式实现\"\"\"\n",
    "        words = [\"经常\", \"经\", \"有\", \"有意见\", \"意见\", \"分歧\", \"见\", \"意\", \"见分歧\", \"分\"]\n",
    "        probs = [0.1, 0.05, 0.1, 0.1, 0.2, 0.2, 0.05, 0.05, 0.05, 0.1]\n",
    "        return words, probs\n",
    "    \n",
    "    def get_words_lose_ln_probs(self, sentence):\n",
    "        \"\"\"获取初步分词结果与概率的-log()(实际代表数学公式的-ln())\"\"\"\n",
    "        words, probs = self.get_words_probs(sentence)\n",
    "        lose_ln_probs = -np.log(probs)\n",
    "        lose_ln_probs = np.around(lose_ln_probs, decimals=2)\n",
    "        # np.set_printoptions(precision=4)\n",
    "        return np.array(words), lose_ln_probs\n",
    "    \n",
    "    def node_tree(self, sentence, words, lose_ln_probs):\n",
    "        probs = [[100, None]]\n",
    "        for n, char in enumerate(sentence, 1):\n",
    "            probs.append([100 + probs[n-1][0], n-1])\n",
    "            for word, prob in zip(words, lose_ln_probs):\n",
    "                if len(word) <= n and word == sentence[n - len(word): n]:\n",
    "                    new_prob = prob\n",
    "                    before_n = n - len(word)\n",
    "                    if before_n > 0:\n",
    "                        new_prob += probs[before_n][0]\n",
    "                    if new_prob < probs[n][0]: \n",
    "                        probs[n] = [new_prob, before_n]\n",
    "        return probs\n",
    "    \n",
    "    def _cut(self, sentence, sentence_probs):\n",
    "        next_n = -1\n",
    "        words = []\n",
    "        while True:\n",
    "            words.append(sentence[sentence_probs[next_n][1]:])\n",
    "            sentence = sentence[:sentence_probs[next_n][1]]\n",
    "            if sentence_probs[next_n][1] == 0:\n",
    "                break\n",
    "            next_n = sentence_probs[next_n][1]\n",
    "        return words[::-1]\n",
    "    \n",
    "    def cut(self, sentence):\n",
    "        words, lose_ln_probs = self.get_words_lose_ln_probs(sentence)\n",
    "        # print(words)\n",
    "        # print(lose_ln_probs)\n",
    "        sentence_probs = self.node_tree(sentence, words, lose_ln_probs)\n",
    "        # print(sentence_probs)\n",
    "        words = self._cut(sentence, sentence_probs)\n",
    "        # print(words)\n",
    "        return words\n"
   ]
  },
  {
   "cell_type": "code",
   "execution_count": 13,
   "metadata": {},
   "outputs": [
    {
     "data": {
      "text/plain": [
       "['经常', '有意见', '分歧']"
      ]
     },
     "execution_count": 13,
     "metadata": {},
     "output_type": "execute_result"
    }
   ],
   "source": [
    "sentence = '经常有意见分歧'\n",
    "t = Tokenizer()\n",
    "t.cut(sentence)"
   ]
  },
  {
   "cell_type": "code",
   "execution_count": 14,
   "metadata": {},
   "outputs": [
    {
     "data": {
      "text/plain": [
       "numpy.ndarray"
      ]
     },
     "execution_count": 14,
     "metadata": {},
     "output_type": "execute_result"
    }
   ],
   "source": [
    "type(-np.log([0.1, 0.2]))"
   ]
  },
  {
   "cell_type": "code",
   "execution_count": null,
   "metadata": {},
   "outputs": [],
   "source": []
  }
 ],
 "metadata": {
  "kernelspec": {
   "display_name": "Python 3",
   "language": "python",
   "name": "python3"
  },
  "language_info": {
   "codemirror_mode": {
    "name": "ipython",
    "version": 3
   },
   "file_extension": ".py",
   "mimetype": "text/x-python",
   "name": "python",
   "nbconvert_exporter": "python",
   "pygments_lexer": "ipython3",
   "version": "3.7.3"
  }
 },
 "nbformat": 4,
 "nbformat_minor": 2
}
