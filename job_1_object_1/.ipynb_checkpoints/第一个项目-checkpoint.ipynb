{
 "cells": [
  {
   "cell_type": "markdown",
   "metadata": {},
   "source": [
    "### 搭建一个分词系统"
   ]
  },
  {
   "cell_type": "code",
   "execution_count": 1,
   "metadata": {
    "collapsed": true
   },
   "outputs": [],
   "source": [
    "train_v2_file = 'data/train-v3.0.json'\n",
    "dic_words_file = 'data/综合类中文词库.xlsx'"
   ]
  },
  {
   "cell_type": "code",
   "execution_count": 2,
   "metadata": {
    "collapsed": true
   },
   "outputs": [],
   "source": [
    "import numpy as np\n",
    "import pandas as pd"
   ]
  },
  {
   "cell_type": "code",
   "execution_count": 3,
   "metadata": {
    "collapsed": true
   },
   "outputs": [],
   "source": [
    "df_dic_words = pd.read_excel(dic_words_file, header=None)\n",
    "df_dic_words.columns = [\"word\", \"info\", \"v\"]"
   ]
  },
  {
   "cell_type": "code",
   "execution_count": 16,
   "metadata": {},
   "outputs": [
    {
     "data": {
      "text/html": [
       "<div>\n",
       "<style>\n",
       "    .dataframe thead tr:only-child th {\n",
       "        text-align: right;\n",
       "    }\n",
       "\n",
       "    .dataframe thead th {\n",
       "        text-align: left;\n",
       "    }\n",
       "\n",
       "    .dataframe tbody tr th {\n",
       "        vertical-align: top;\n",
       "    }\n",
       "</style>\n",
       "<table border=\"1\" class=\"dataframe\">\n",
       "  <thead>\n",
       "    <tr style=\"text-align: right;\">\n",
       "      <th></th>\n",
       "      <th>word</th>\n",
       "      <th>info</th>\n",
       "      <th>v</th>\n",
       "    </tr>\n",
       "  </thead>\n",
       "  <tbody>\n",
       "    <tr>\n",
       "      <th>0</th>\n",
       "      <td>酢</td>\n",
       "      <td>9  @</td>\n",
       "      <td>237692</td>\n",
       "    </tr>\n",
       "    <tr>\n",
       "      <th>1</th>\n",
       "      <td>做做事</td>\n",
       "      <td>120  v</td>\n",
       "      <td>191456</td>\n",
       "    </tr>\n",
       "    <tr>\n",
       "      <th>2</th>\n",
       "      <td>做做饭</td>\n",
       "      <td>134  n</td>\n",
       "      <td>95350</td>\n",
       "    </tr>\n",
       "    <tr>\n",
       "      <th>3</th>\n",
       "      <td>做做</td>\n",
       "      <td>210  v</td>\n",
       "      <td>223109</td>\n",
       "    </tr>\n",
       "    <tr>\n",
       "      <th>4</th>\n",
       "      <td>做作</td>\n",
       "      <td>208  a</td>\n",
       "      <td>34124</td>\n",
       "    </tr>\n",
       "  </tbody>\n",
       "</table>\n",
       "</div>"
      ],
      "text/plain": [
       "  word    info       v\n",
       "0    酢    9  @  237692\n",
       "1  做做事  120  v  191456\n",
       "2  做做饭  134  n   95350\n",
       "3   做做  210  v  223109\n",
       "4   做作  208  a   34124"
      ]
     },
     "execution_count": 16,
     "metadata": {},
     "output_type": "execute_result"
    }
   ],
   "source": [
    "df_dic_words.head()"
   ]
  },
  {
   "cell_type": "code",
   "execution_count": 5,
   "metadata": {
    "collapsed": true
   },
   "outputs": [],
   "source": [
    "# df_dic_words[df_dic_words['word'].isin(['我', '学习'])]"
   ]
  },
  {
   "cell_type": "code",
   "execution_count": 90,
   "metadata": {},
   "outputs": [],
   "source": [
    "# # df_dic_words = df_dic_words.reset_index()\n",
    "# df_dic_words = df_dic_words.set_index('word')\n",
    "# # 'dict', 'list', 'series', 'split', 'records', 'index'\n",
    "# dic_words1 = df_dic_words.to_dict(orient='index')\n",
    "# dic_words1"
   ]
  },
  {
   "cell_type": "code",
   "execution_count": 79,
   "metadata": {
    "collapsed": true
   },
   "outputs": [],
   "source": [
    "class Node(object):\n",
    "    def __init__(self, name, info=None):\n",
    "        self.name = name\n",
    "        self.info = info\n",
    "        self.children = {}\n",
    "    \n",
    "    def set_info(self, info):\n",
    "        self.info = info\n",
    "    \n",
    "    def add_child(self, name, info=None):\n",
    "        if not self.find_child(name):\n",
    "            self.children[name] = Node(name, info=info)\n",
    "        return self.children[name]\n",
    "    \n",
    "    def find_child(self, name):\n",
    "        \"\"\"查询子节点是否存在\"\"\"\n",
    "        if name in self.children.keys():\n",
    "            return True\n",
    "        else:\n",
    "            return False\n",
    "    \n",
    "    def get_child(self, name):\n",
    "        \"\"\"获取某个子节点\"\"\"\n",
    "        if name in self.children.keys():\n",
    "            return self.children[name]\n",
    "        else:\n",
    "            return None\n",
    "    \n",
    "    def to_dict(self):\n",
    "        children = {}\n",
    "        for child_name, child_node in self.children.items():\n",
    "            children[child_name] = child_node.to_dict()\n",
    "        return {\n",
    "            'name': self.name,\n",
    "            'info': self.info,\n",
    "            'children': children,\n",
    "        }\n",
    "    \n",
    "    def read_dict(self, node_dict):\n",
    "        self.name = node_dict['name']\n",
    "        self.info = node_dict['info']\n",
    "        for child_name, child_dict in node_dict['children'].items():\n",
    "            self.children[child_name] = Node(None).read_dict(child_dict)\n",
    "\n",
    "    \n",
    "class DictTree(object):\n",
    "    \n",
    "    def __init__(self):\n",
    "        self.dic_words = Node('root')\n",
    "    \n",
    "    def cut_words(self, sentence):\n",
    "        \"\"\"查询字典树\"\"\"\n",
    "        return self.cut_words_(sentence, self.dic_words)\n",
    "    \n",
    "    def cut_words_(self, sentence, child_dic_words):\n",
    "        pass\n",
    "    \n",
    "    def cut_word(self, word):\n",
    "        \"\"\"\n",
    "        查询字典树中是否有某个词\n",
    "        return: 没有该词会返回空，有该值会返回该词的信息\n",
    "        \"\"\"\n",
    "        return self.cut_word_(word, self.dic_words)\n",
    "\n",
    "    def cut_word_(self, chars, child_dic_words):\n",
    "        if len(chars) == 0:\n",
    "            return child_dic_words.info\n",
    "        elif child_dic_words.find_child(chars[0]):\n",
    "            return self.cut_word_(chars[1:], child_dic_words.children[chars[0]])\n",
    "        else:\n",
    "            return None\n",
    "    \n",
    "    def get_dic_tree(self, chars, info):\n",
    "        \"\"\"将数据创建成字典树\"\"\"\n",
    "        self.get_dic_tree_(chars, info, self.dic_words)\n",
    "\n",
    "    def get_dic_tree_(self, chars, info, child_dic_words):\n",
    "        \"\"\"将数据创建成字典树\"\"\"\n",
    "        if len(chars) <= 0:\n",
    "            child_dic_words.set_info(info)\n",
    "        else:\n",
    "            child_node = child_dic_words.add_child(chars[0])\n",
    "            self.get_dic_tree_(chars[1:], info, child_node)\n",
    "    \n",
    "    def add_words(self, dic_words: dict):\n",
    "        \"\"\"添加词，格式为{词: 信息}\"\"\"\n",
    "        for dic_word, info in dic_words.items():\n",
    "            self.get_dic_tree(dic_word, info)\n"
   ]
  },
  {
   "cell_type": "code",
   "execution_count": 81,
   "metadata": {},
   "outputs": [
    {
     "name": "stdout",
     "output_type": "stream",
     "text": [
      "aabbcc\n",
      "aaccdd\n",
      "None\n",
      "None\n",
      "aa\n"
     ]
    }
   ],
   "source": [
    "# 测试\n",
    "dict_tree = DictTree()\n",
    "dict_tree.add_words({'abc': 'aabbcc', 'a': 'aa', 'acd': 'aaccdd', 'bcd': 'bbccdd'})\n",
    "print(dict_tree.cut_word('abc'))\n",
    "print(dict_tree.cut_word('acd'))\n",
    "print(dict_tree.cut_word('ab'))\n",
    "print(dict_tree.cut_word('ace'))\n",
    "print(dict_tree.cut_word('a'))"
   ]
  },
  {
   "cell_type": "code",
   "execution_count": 88,
   "metadata": {},
   "outputs": [],
   "source": [
    "def deal_line(x, dict_tree):\n",
    "    dict_tree.get_dic_tree(x['word'], x.to_dict())\n",
    "    \n",
    "dict_tree = DictTree()\n",
    "df_dic_words.apply(lambda x: deal_line(x, dict_tree), axis=1);  # 分号防止打印"
   ]
  },
  {
   "cell_type": "code",
   "execution_count": 89,
   "metadata": {},
   "outputs": [
    {
     "name": "stdout",
     "output_type": "stream",
     "text": [
      "{'word': '做张做致', 'info': '1  i', 'v': 281467}\n"
     ]
    }
   ],
   "source": [
    "# '做张做致': {'info': '1  i', 'v': 281467},\n",
    "print(dict_tree.cut_word('做张做致'))"
   ]
  },
  {
   "cell_type": "code",
   "execution_count": null,
   "metadata": {
    "collapsed": true
   },
   "outputs": [],
   "source": []
  }
 ],
 "metadata": {
  "kernelspec": {
   "display_name": "Python 3",
   "language": "python",
   "name": "python3"
  },
  "language_info": {
   "codemirror_mode": {
    "name": "ipython",
    "version": 3
   },
   "file_extension": ".py",
   "mimetype": "text/x-python",
   "name": "python",
   "nbconvert_exporter": "python",
   "pygments_lexer": "ipython3",
   "version": "3.6.1"
  }
 },
 "nbformat": 4,
 "nbformat_minor": 2
}
