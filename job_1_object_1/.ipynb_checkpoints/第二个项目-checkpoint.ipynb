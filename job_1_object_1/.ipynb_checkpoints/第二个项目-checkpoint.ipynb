{
 "cells": [
  {
   "cell_type": "code",
   "execution_count": 1,
   "metadata": {
    "collapsed": true
   },
   "outputs": [],
   "source": [
    "# 分数（5）\n",
    "import json\n",
    "\n",
    "\n",
    "def read_corpus():\n",
    "    \"\"\"\n",
    "    读取给定的语料库，并把问题列表和答案列表分别写入到 qlist, alist 里面。 在此过程中，不用对字符换做任何的处理（这部分需要在 Part 2.3里处理）\n",
    "    qlist = [\"问题1\"， “问题2”， “问题3” ....]\n",
    "    alist = [\"答案1\", \"答案2\", \"答案3\" ....]\n",
    "    务必要让每一个问题和答案对应起来（下标位置一致）\n",
    "    \"\"\"\n",
    "    qjson = 'data/train-v3.0.json'\n",
    "    with open(qjson, 'r', encoding='utf-8') as rf:\n",
    "        qdict = json.loads(rf.read())\n",
    "    qlist, alist = [], []\n",
    "    for data in qdict['data']:\n",
    "        # print(data['title'])\n",
    "        for paragraph in data['paragraphs']:\n",
    "            for qa in paragraph['qas']:\n",
    "                # print(len(qa['answers']), qa)\n",
    "                if len(qa['answers'])==1:\n",
    "                    qlist.append(qa['question'])\n",
    "                    alist.append(qa['answers'][0]['text'])\n",
    "                # else:\n",
    "                #     alist.append('')\n",
    "            # print(paragraph['context'])\n",
    "    assert len(qlist) == len(alist)  # 确保长度一样\n",
    "    return qlist, alist"
   ]
  },
  {
   "cell_type": "code",
   "execution_count": 2,
   "metadata": {},
   "outputs": [
    {
     "name": "stdout",
     "output_type": "stream",
     "text": [
      "86821\n"
     ]
    }
   ],
   "source": [
    "qlist, alist = read_corpus()\n",
    "print(len(qlist))"
   ]
  },
  {
   "cell_type": "code",
   "execution_count": 3,
   "metadata": {},
   "outputs": [
    {
     "name": "stdout",
     "output_type": "stream",
     "text": [
      "903411 63780\n",
      "['When', 'did', 'Beyonce', 'start', 'becoming', 'popular?', 'What', 'areas', 'did', 'Beyonce', 'compete', 'in', 'when', 'she', 'was', 'growing', 'up?', 'When', 'did', 'Beyonce', 'leave', \"Destiny's\", 'Child', 'and', 'become', 'a', 'solo', 'singer?', 'In', 'what', 'city', 'and', 'state', 'did', 'Beyonce', '', 'grow', 'up?', '', 'In', 'which', 'decade', 'did', 'Beyonce', 'become', 'famous?', 'In', 'what', 'R&B', 'group', 'was', 'she', 'the', 'lead', 'singer?', 'What', 'album', 'made', 'her', 'a', 'worldwide', 'known', 'artist?', 'Who', 'managed', 'the', \"Destiny's\", 'Child', 'group?', 'When', 'did', 'Beyoncé', 'rise', 'to', 'fame?', 'What', 'role', 'did', 'Beyoncé', 'have', 'in', \"Destiny's\", 'Child?', 'What', 'was', 'the', 'first', 'album', 'Beyoncé', 'released', 'as', 'a', 'solo', 'artist?', 'When', 'did', 'Beyoncé', 'release', 'Dangerously', 'in']\n"
     ]
    }
   ],
   "source": [
    "# 分数（10）\n",
    "# TODO: 统计一下在qlist 总共出现了多少个单词？ 总共出现了多少个不同的单词？\n",
    "#       这里需要做简单的分词，对于英文我们根据空格来分词即可，其他过滤暂不考虑（只需分词）\n",
    "q_total = [word for each_q in qlist for word in each_q.split(' ') ]\n",
    "q_total_set = set(q_total)\n",
    "print(len(q_total), len(q_total_set))\n",
    "print(q_total[:100])"
   ]
  },
  {
   "cell_type": "code",
   "execution_count": 4,
   "metadata": {},
   "outputs": [
    {
     "data": {
      "image/png": "[encoded data removed]",
      "text/plain": [
       "<matplotlib.figure.Figure at 0x23b80ce05f8>"
      ]
     },
     "metadata": {},
     "output_type": "display_data"
    }
   ],
   "source": [
    "# TODO: 统计一下qlist中每个单词出现的频率，并把这些频率排一下序，然后画成plot. 比如总共出现了总共7个不同单词，而且每个单词出现的频率为 4, 5,10,2, 1, 1,1\n",
    "#       把频率排序之后就可以得到(从大到小) 10, 5, 4, 2, 1, 1, 1. 然后把这7个数plot即可（从大到小）\n",
    "#       需要使用matplotlib里的plot函数。y轴是词频\n",
    "%matplotlib inline\n",
    "\n",
    "import collections\n",
    "import matplotlib.pyplot as plt\n",
    "\n",
    "qs_counter = collections.Counter(q_total)\n",
    "qs, qs_c = zip(*qs_counter.most_common())\n",
    "plt.plot(range(100), qs_c[:100]);\n",
    "# plt.plot(range(len(qs_c)), qs_c);"
   ]
  },
  {
   "cell_type": "code",
   "execution_count": 5,
   "metadata": {
    "collapsed": true
   },
   "outputs": [],
   "source": [
    "# TODO： 从上面的图中能观察到什么样的现象？ 这样的一个图的形状跟一个非常著名的函数形状很类似，能所出此定理吗？ \n",
    "#       hint: [XXX]'s law\n",
    "# 指数函数\n",
    "# "
   ]
  },
  {
   "cell_type": "code",
   "execution_count": 6,
   "metadata": {},
   "outputs": [
    {
     "name": "stdout",
     "output_type": "stream",
     "text": [
      "qlist出现次数最多的TOP 10单词及词频:\n",
      " [('the', 60959), ('What', 36994), ('of', 33300), ('', 29438), ('in', 21267), ('to', 17579), ('was', 17041), ('is', 16165), ('did', 15624), ('what', 11255)]\n",
      "alist出现次数最多的TOP 10单词及词频:\n",
      " [('the', 13211), ('of', 8892), ('and', 8172), ('to', 3440), ('a', 3294), ('in', 2838), ('The', 1769), ('or', 1261), ('for', 1032), ('million', 853)]\n"
     ]
    }
   ],
   "source": [
    "# TODO: 在qlist和alist里出现次数最多的TOP 10单词分别是什么？ \n",
    "a_total = [word for each_a in alist for word in each_a.split(' ') ]\n",
    "a_total_set = set(a_total)\n",
    "as_counter = collections.Counter(a_total)\n",
    "print(\"qlist出现次数最多的TOP 10单词及词频:\\n\", qs_counter.most_common(10))\n",
    "print(\"alist出现次数最多的TOP 10单词及词频:\\n\", as_counter.most_common(10))"
   ]
  },
  {
   "cell_type": "markdown",
   "metadata": {},
   "source": [
    "### 2.3 文本预处理\n",
    "次部分需要尝试做文本的处理。在这里我们面对的是英文文本，所以任何对英文适合的技术都可以考虑进来。"
   ]
  },
  {
   "cell_type": "code",
   "execution_count": 7,
   "metadata": {
    "collapsed": true
   },
   "outputs": [],
   "source": [
    "import json\n",
    "\n",
    "\n",
    "class DictTree(object):\n",
    "    def __init__(self, name='root', word=None, info=None):\n",
    "        self.name = name\n",
    "        self.info = info\n",
    "        self.word = word\n",
    "        self.children = {}\n",
    "    \n",
    "    def __str__(self):\n",
    "        return json.dumps({self.word: self.info}, ensure_ascii=False)\n",
    "    \n",
    "    def set_info(self, info):\n",
    "        self.info = info\n",
    "    \n",
    "    def find_child(self, name):\n",
    "        \"\"\"查询子节点是否存在\"\"\"\n",
    "        if name in self.children.keys():\n",
    "            return True\n",
    "        else:\n",
    "            return False\n",
    "    \n",
    "    def add_word(self, chars, info, pointer=0):\n",
    "        \"\"\"将数据创建成字典树\"\"\"\n",
    "        if len(chars[pointer:]) <= 0:\n",
    "            self.info = info\n",
    "            self.word = chars\n",
    "        else:\n",
    "            if not self.find_child(chars[pointer]):\n",
    "                self.children[chars[pointer]] = DictTree(chars[pointer])\n",
    "            self.children[chars[pointer]].add_word(chars, info, pointer + 1)\n",
    "    \n",
    "    def add_words(self, words, infos):\n",
    "        \"\"\"添加多组词\"\"\"\n",
    "        for word, info in zip(words, infos):\n",
    "            self.add_word(word, info)\n",
    "            \n",
    "    def add_words2(self, words):\n",
    "        \"\"\"添加多组词，不添加此相关信息\"\"\"\n",
    "        for word in words:\n",
    "            self.add_word(word, None)\n",
    "    \n",
    "    def cut_word(self, chars):\n",
    "        \"\"\"\n",
    "        查询字典树中是否有某个词\n",
    "        return: 没有该词会返回空，有该值会返回该词的信息\n",
    "        \"\"\"\n",
    "        if len(chars) == 0:\n",
    "            if self.word is None:\n",
    "                return None\n",
    "            else:\n",
    "                return self\n",
    "        elif self.find_child(chars[0]):\n",
    "            return self.children[chars[0]].cut_word(chars[1:])\n",
    "        else:\n",
    "            return None\n",
    "    \n",
    "    def _cut_words(self, chars):\n",
    "        \"\"\"\n",
    "        查询字典树中是否有某个词\n",
    "        return: 没有该词会返回空，有该值会返回该词的信息\n",
    "        \"\"\"\n",
    "        words = set()\n",
    "        if len(chars) == 0:\n",
    "            return words\n",
    "        if self.word is not None:\n",
    "            words.add(self)\n",
    "        if self.find_child(chars[0]):\n",
    "            words.update(self.children[chars[0]]._cut_words(chars[1:]))\n",
    "        return words\n",
    "        \n",
    "    def cut_words(self, sentence):\n",
    "        \"\"\"查询字典树\"\"\"\n",
    "        words = set()\n",
    "        if len(sentence) == 0:\n",
    "            return words\n",
    "        for n in range(len(sentence)):\n",
    "            words.update(self._cut_words(sentence[n:]))\n",
    "        return words\n",
    "    \n",
    "    def to_dict(self):\n",
    "        \"\"\"输出成dict\"\"\"\n",
    "        children = {}\n",
    "        for child_name, child_node in self.children.items():\n",
    "            children[child_name] = child_node.to_dict()\n",
    "        return {\n",
    "            'name': self.name,\n",
    "            'info': self.info,\n",
    "            'children': children,\n",
    "        }\n",
    "    \n",
    "    def read_dict(self, node_dict):\n",
    "        \"\"\"从dict中读入\"\"\"\n",
    "        self.name = node_dict['name']\n",
    "        self.info = node_dict['info']\n",
    "        for child_name, child_dict in node_dict['children'].items():\n",
    "            self.children[child_name] = Node(None).read_dict(child_dict)\n"
   ]
  },
  {
   "cell_type": "code",
   "execution_count": 8,
   "metadata": {
    "collapsed": true
   },
   "outputs": [],
   "source": [
    "with open('data/英文停用词.txt', 'r', encoding='utf-8') as f:\n",
    "    words = set(f.read().split('\\n') + [''])\n",
    "stop_words = DictTree()\n",
    "stop_words.add_words2(words)"
   ]
  },
  {
   "cell_type": "code",
   "execution_count": 9,
   "metadata": {
    "collapsed": true
   },
   "outputs": [],
   "source": [
    "import re\n",
    "import nltk\n",
    "from nltk.stem.porter import PorterStemmer\n",
    "\n",
    "porter_stemmer = PorterStemmer()\n",
    "\n",
    "def cut(sentence):\n",
    "    \"\"\"英文分词\"\"\"\n",
    "    words = []\n",
    "    for word in re.split(r'\\s+', sentence):\n",
    "        find_punc = re.search('^(.+)([,.?!:;]+)$', word)\n",
    "        if find_punc is not None:\n",
    "            words.append(find_punc.groups()[0])\n",
    "            words.append(find_punc.groups()[1])\n",
    "        else:\n",
    "            words.append(word)\n",
    "    return words\n",
    "\n",
    "def lower_case(words):\n",
    "    \"\"\"全部转为小写字母\"\"\"\n",
    "    return [i.lower() for i in words]\n",
    "\n",
    "def del_stop_words(words):\n",
    "    \"\"\"去除停用词\"\"\"\n",
    "    # 不在停用词表的词\n",
    "    return [i for i in words if stop_words.cut_word(i) is None]\n",
    "\n",
    "def porter_stemming(words):\n",
    "    return [porter_stemmer.stem(w) for w in words]\n",
    "\n",
    "def number2word(words):\n",
    "    return ['#number' if re.search(r'\\d+\\.*\\d*', word) else word for word in words]\n",
    "\n",
    "def get_counter(all_words):\n",
    "    \"\"\"获取词频\"\"\"\n",
    "    return collections.Counter([word for words in all_words for word in words])\n",
    "\n",
    "def del_low_freq_words(all_words, w_counter, low_freq=1):\n",
    "    \"\"\"删除低频词\n",
    "    param: all_words: [[words], ...]\n",
    "    param: low_freq: 删除低于该频率的词\n",
    "    \"\"\"\n",
    "    low_freq_words = [i[0] for i in w_counter.most_common() if i[1] <= low_freq]\n",
    "    lfw_tree = DictTree()\n",
    "    lfw_tree.add_words2(low_freq_words)\n",
    "    print(len(low_freq_words), len(w_counter.most_common()))\n",
    "    return [[word for word in words if lfw_tree.cut_word(word) is None] for words in all_words]"
   ]
  },
  {
   "cell_type": "code",
   "execution_count": 10,
   "metadata": {},
   "outputs": [
    {
     "name": "stdout",
     "output_type": "stream",
     "text": [
      "['I', 'am', 'bjm', '.', '']\n",
      "['I', 'bjm', '.']\n",
      "2 6\n",
      "[['1', '1', '3', '3'], ['1', '3', '4', '4', '5', '5']]\n"
     ]
    }
   ],
   "source": [
    "# test\n",
    "print(cut('I am bjm. '))\n",
    "print(del_stop_words(cut('I am bjm. ')))\n",
    "test_all_words = [['1','1','2','3','3'],['1','3','4','4','5','5', '8']]\n",
    "print(del_low_freq_words(test_all_words, get_counter(test_all_words)))"
   ]
  },
  {
   "cell_type": "code",
   "execution_count": 20,
   "metadata": {},
   "outputs": [
    {
     "name": "stdout",
     "output_type": "stream",
     "text": [
      "34927 40382\n",
      "37235 40093\n"
     ]
    }
   ],
   "source": [
    "def sentence2words(sentence):\n",
    "    \"\"\"单个句子的预处理，处理为词\"\"\"\n",
    "    words = cut(sentence)\n",
    "    dsw_words = del_stop_words(words)\n",
    "    # ps_words = porter_stemming(dsw_words)\n",
    "    lc_words = lower_case(dsw_words)\n",
    "    dsw_words = del_stop_words(lc_words)\n",
    "    n2w_words = number2word(dsw_words)\n",
    "    return n2w_words\n",
    "\n",
    "def preprocess(sentences):\n",
    "    \"\"\"数据处理\"\"\"\n",
    "    all_words = []\n",
    "    for sentence in sentences:\n",
    "        words = sentence2words(sentence)\n",
    "        all_words.append(words)\n",
    "    w_counter = get_counter(all_words)\n",
    "    all_words = del_low_freq_words(all_words, w_counter, low_freq=10)\n",
    "    return all_words\n",
    "all_q_words = preprocess(qlist)\n",
    "all_a_words = preprocess(alist)"
   ]
  },
  {
   "cell_type": "code",
   "execution_count": 21,
   "metadata": {},
   "outputs": [
    {
     "name": "stdout",
     "output_type": "stream",
     "text": [
      "When did Beyonce start becoming popular?\n",
      "['beyonce', 'start', 'popular', '?']\n",
      "What areas did Beyonce compete in when she was growing up?\n",
      "['beyonce', 'compete', 'growing', '?']\n",
      "When did Beyonce leave Destiny's Child and become a solo singer?\n",
      "['beyonce', 'leave', \"destiny's\", 'child', 'solo', 'singer', '?']\n",
      "In what city and state did Beyonce  grow up? \n",
      "['city', 'beyonce', 'grow', '?']\n",
      "In which decade did Beyonce become famous?\n",
      "['decade', 'beyonce', 'famous', '?']\n",
      "In what R&B group was she the lead singer?\n",
      "['r&b', 'lead', 'singer', '?']\n",
      "What album made her a worldwide known artist?\n",
      "['album', 'worldwide', 'artist', '?']\n",
      "Who managed the Destiny's Child group?\n",
      "['managed', \"destiny's\", 'child', '?']\n",
      "When did Beyoncé rise to fame?\n",
      "['beyoncé', 'rise', 'fame', '?']\n",
      "What role did Beyoncé have in Destiny's Child?\n",
      "['role', 'beyoncé', \"destiny's\", 'child', '?']\n"
     ]
    }
   ],
   "source": [
    "# 打印前十个问题，及其分词\n",
    "for i, j in zip(qlist, all_q_words[:10]):\n",
    "    print('%s\\n%s' % (i, j))"
   ]
  },
  {
   "cell_type": "code",
   "execution_count": 13,
   "metadata": {
    "collapsed": true
   },
   "outputs": [],
   "source": [
    "# 若返回空则证明数字已被处理为#number\n",
    "i = 0\n",
    "for q_words in all_q_words:\n",
    "    for word in q_words:\n",
    "        if re.search(r'^\\d+$', word) is not None:\n",
    "            i += 1\n",
    "            if i >= 10:\n",
    "                break\n",
    "            print(word, q_words)"
   ]
  },
  {
   "cell_type": "code",
   "execution_count": 14,
   "metadata": {
    "collapsed": true
   },
   "outputs": [],
   "source": [
    "# TODO: 在前面步骤里，我们删除了出现次数比较少的单词，那你选择的阈值是多少（小于多少的去掉？）， 这个阈值是根据什么来选择的？ \n",
    "#  \n"
   ]
  },
  {
   "cell_type": "markdown",
   "metadata": {},
   "source": [
    "### 2.4 文本表示\n",
    "当我们做完关键的预处理过程之后，就需要把每一个文本转换成向量。"
   ]
  },
  {
   "cell_type": "code",
   "execution_count": 37,
   "metadata": {},
   "outputs": [],
   "source": [
    "# 分数（10）\n",
    "\n",
    "# TODO: 把qlist中的每一个问题字符串转换成tf-idf向量, \n",
    "# 转换之后的结果存储在X矩阵里。 X的大小是： N* D的矩阵。 \n",
    "# 这里N是问题的个数（样本个数），\n",
    "#       D是字典库的大小。 \n",
    "from sklearn.feature_extraction.text import TfidfVectorizer\n",
    "\n",
    "q_corpus = [' '.join(q_words) for q_words in all_q_words]\n",
    "\n",
    "# 直接生成tf-idf值\n",
    "vectorizer = TfidfVectorizer()\n",
    "vectorizer.fit_transform(q_corpus).todense()\n",
    "\n",
    "# tfidf_matrix = tfidf_vec.fit_transform(q_corpus).todense()\n",
    "# vectorizer =  # 定义一个tf-idf的vectorizer\n",
    "\n",
    "X = vectorizer.transform(q_corpus)  # 结果存放在X矩阵"
   ]
  },
  {
   "cell_type": "code",
   "execution_count": 43,
   "metadata": {},
   "outputs": [
    {
     "name": "stdout",
     "output_type": "stream",
     "text": [
      "  (0, 4572)\t0.559309159306\n",
      "  (0, 3642)\t0.582243424418\n",
      "  (0, 498)\t0.590055810105\n"
     ]
    }
   ],
   "source": [
    "print(X[0])"
   ]
  },
  {
   "cell_type": "code",
   "execution_count": 48,
   "metadata": {},
   "outputs": [
    {
     "data": {
      "text/plain": [
       "TfidfVectorizer(analyzer='word', binary=False, decode_error='strict',\n",
       "        dtype=<class 'numpy.int64'>, encoding='utf-8', input='content',\n",
       "        lowercase=True, max_df=1.0, max_features=None, min_df=1,\n",
       "        ngram_range=(1, 1), norm='l2', preprocessor=None, smooth_idf=True,\n",
       "        stop_words=None, strip_accents=None, sublinear_tf=False,\n",
       "        token_pattern='(?u)\\\\b\\\\w\\\\w+\\\\b', tokenizer=None, use_idf=True,\n",
       "        vocabulary=None)"
      ]
     },
     "execution_count": 48,
     "metadata": {},
     "output_type": "execute_result"
    }
   ],
   "source": [
    "vectorizer"
   ]
  },
  {
   "cell_type": "code",
   "execution_count": 33,
   "metadata": {
    "scrolled": false
   },
   "outputs": [],
   "source": [
    "# X_2 = [[[n, j] for n, j in enumerate(i) if j != 0] for i in tfidf_matrix.toarray()]\n",
    "# print(X_2[0])"
   ]
  },
  {
   "cell_type": "code",
   "execution_count": 34,
   "metadata": {},
   "outputs": [],
   "source": [
    "# TODO: 矩阵X有什么特点？ 计算一下它的稀疏度\n",
    "# sparsity = len(X[X[i]!=0, i])/len(X[i])\n",
    "# print (sparsity)  # 打印出稀疏度(sparsity)"
   ]
  },
  {
   "cell_type": "markdown",
   "metadata": {},
   "source": [
    "### 2.5 对于用户的输入问题，找到相似度最高的TOP5问题，并把5个潜在的答案做返回"
   ]
  },
  {
   "cell_type": "code",
   "execution_count": 55,
   "metadata": {},
   "outputs": [
    {
     "name": "stdout",
     "output_type": "stream",
     "text": [
      "  (0, 4190)\t0.391256639144\n",
      "  (0, 2449)\t0.554388627511\n",
      "  (0, 1389)\t0.488485807568\n",
      "  (0, 814)\t0.38588564231\n",
      "  (0, 499)\t0.389929966629\n"
     ]
    }
   ],
   "source": [
    "# 分数（10）\n",
    "\n",
    "def top5results(input_q):\n",
    "    \"\"\"\n",
    "    给定用户输入的问题 input_q, 返回最有可能的TOP 5问题。这里面需要做到以下几点：\n",
    "    1. 对于用户的输入 input_q 首先做一系列的预处理，然后再转换成tf-idf向量（利用上面的vectorizer)\n",
    "    2. 计算跟每个库里的问题之间的相似度\n",
    "    3. 找出相似度最高的top5问题的答案\n",
    "    \"\"\"\n",
    "#     tfidf_matrix.todense()\n",
    "    tfidf_q = vectorizer.transform([input_q])\n",
    "    print(tfidf_q)\n",
    "    top_idxs = []  # top_idxs存放相似度最高的（存在qlist里的）问题的下表 \n",
    "                   # hint: 利用priority queue来找出top results. 思考为什么可以这么做？ \n",
    "    \n",
    "#     return alist[top_idxs]  # 返回相似度最高的问题对应的答案，作为TOP5答案    \n",
    "top5results(\"What role did Beyoncé have in Destiny's Child?\")"
   ]
  },
  {
   "cell_type": "code",
   "execution_count": 29,
   "metadata": {},
   "outputs": [
    {
     "name": "stdout",
     "output_type": "stream",
     "text": [
      "  (0, 1)\t1.0\n",
      "  (1, 2)\t1.0\n",
      "  (2, 0)\t1.0\n",
      "  (0, 2)\t1.0\n",
      "  (2, 0)\t1.0\n"
     ]
    }
   ],
   "source": [
    "X_train = ['hello', 'hi', 'hei']\n",
    "X_test = ['hi', 'haa', 'hei']\n",
    "vectorizer = TfidfVectorizer(stop_words='english')\n",
    "vectorizer.fit_transform(X_train).todense()\n",
    "X_train = vectorizer.transform(X_train)\n",
    "print(X_train)\n",
    "X_test = vectorizer.transform(X_test)\n",
    "print(X_test)"
   ]
  },
  {
   "cell_type": "code",
   "execution_count": null,
   "metadata": {
    "collapsed": true
   },
   "outputs": [],
   "source": []
  },
  {
   "cell_type": "code",
   "execution_count": null,
   "metadata": {
    "collapsed": true
   },
   "outputs": [],
   "source": []
  },
  {
   "cell_type": "code",
   "execution_count": null,
   "metadata": {
    "collapsed": true
   },
   "outputs": [],
   "source": []
  }
 ],
 "metadata": {
  "kernelspec": {
   "display_name": "Python 3",
   "language": "python",
   "name": "python3"
  },
  "language_info": {
   "codemirror_mode": {
    "name": "ipython",
    "version": 3
   },
   "file_extension": ".py",
   "mimetype": "text/x-python",
   "name": "python",
   "nbconvert_exporter": "python",
   "pygments_lexer": "ipython3",
   "version": "3.6.1"
  }
 },
 "nbformat": 4,
 "nbformat_minor": 2
}
