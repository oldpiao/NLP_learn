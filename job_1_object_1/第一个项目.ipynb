{
 "cells": [
  {
   "cell_type": "markdown",
   "metadata": {},
   "source": [
    "### 搭建一个分词系统"
   ]
  },
  {
   "cell_type": "code",
   "execution_count": 1,
   "metadata": {
    "collapsed": true
   },
   "outputs": [],
   "source": [
    "train_v2_file = 'data/train-v3.0.json'\n",
    "dic_words_file = 'data/综合类中文词库.xlsx'"
   ]
  },
  {
   "cell_type": "code",
   "execution_count": 2,
   "metadata": {
    "collapsed": true
   },
   "outputs": [],
   "source": [
    "import numpy as np\n",
    "import pandas as pd"
   ]
  },
  {
   "cell_type": "code",
   "execution_count": 3,
   "metadata": {
    "collapsed": true
   },
   "outputs": [],
   "source": [
    "df_dic_words = pd.read_excel(dic_words_file, header=None)\n",
    "df_dic_words.columns = [\"word\", \"info\", \"v\"]"
   ]
  },
  {
   "cell_type": "code",
   "execution_count": 4,
   "metadata": {},
   "outputs": [
    {
     "data": {
      "text/html": [
       "<div>\n",
       "<style>\n",
       "    .dataframe thead tr:only-child th {\n",
       "        text-align: right;\n",
       "    }\n",
       "\n",
       "    .dataframe thead th {\n",
       "        text-align: left;\n",
       "    }\n",
       "\n",
       "    .dataframe tbody tr th {\n",
       "        vertical-align: top;\n",
       "    }\n",
       "</style>\n",
       "<table border=\"1\" class=\"dataframe\">\n",
       "  <thead>\n",
       "    <tr style=\"text-align: right;\">\n",
       "      <th></th>\n",
       "      <th>word</th>\n",
       "      <th>info</th>\n",
       "      <th>v</th>\n",
       "    </tr>\n",
       "  </thead>\n",
       "  <tbody>\n",
       "    <tr>\n",
       "      <th>0</th>\n",
       "      <td>酢</td>\n",
       "      <td>9  @</td>\n",
       "      <td>237692</td>\n",
       "    </tr>\n",
       "    <tr>\n",
       "      <th>1</th>\n",
       "      <td>做做事</td>\n",
       "      <td>120  v</td>\n",
       "      <td>191456</td>\n",
       "    </tr>\n",
       "    <tr>\n",
       "      <th>2</th>\n",
       "      <td>做做饭</td>\n",
       "      <td>134  n</td>\n",
       "      <td>95350</td>\n",
       "    </tr>\n",
       "    <tr>\n",
       "      <th>3</th>\n",
       "      <td>做做</td>\n",
       "      <td>210  v</td>\n",
       "      <td>223109</td>\n",
       "    </tr>\n",
       "    <tr>\n",
       "      <th>4</th>\n",
       "      <td>做作</td>\n",
       "      <td>208  a</td>\n",
       "      <td>34124</td>\n",
       "    </tr>\n",
       "  </tbody>\n",
       "</table>\n",
       "</div>"
      ],
      "text/plain": [
       "  word    info       v\n",
       "0    酢    9  @  237692\n",
       "1  做做事  120  v  191456\n",
       "2  做做饭  134  n   95350\n",
       "3   做做  210  v  223109\n",
       "4   做作  208  a   34124"
      ]
     },
     "execution_count": 4,
     "metadata": {},
     "output_type": "execute_result"
    }
   ],
   "source": [
    "df_dic_words.head()"
   ]
  },
  {
   "cell_type": "code",
   "execution_count": 5,
   "metadata": {
    "collapsed": true
   },
   "outputs": [],
   "source": [
    "# df_dic_words[df_dic_words['word'].isin(['我', '学习'])]"
   ]
  },
  {
   "cell_type": "code",
   "execution_count": 6,
   "metadata": {
    "collapsed": true
   },
   "outputs": [],
   "source": [
    "# # df_dic_words = df_dic_words.reset_index()\n",
    "# df_dic_words = df_dic_words.set_index('word')\n",
    "# # 'dict', 'list', 'series', 'split', 'records', 'index'\n",
    "# dic_words1 = df_dic_words.to_dict(orient='index')\n",
    "# dic_words1"
   ]
  },
  {
   "cell_type": "code",
   "execution_count": 7,
   "metadata": {
    "collapsed": true
   },
   "outputs": [],
   "source": [
    "import json\n",
    "\n",
    "\n",
    "class DictTree(object):\n",
    "    def __init__(self, name='root', word=None, info=None):\n",
    "        self.name = name\n",
    "        self.info = info\n",
    "        self.word = word\n",
    "        self.children = {}\n",
    "    \n",
    "    def __str__(self):\n",
    "        return json.dumps({self.word: self.info}, ensure_ascii=False)\n",
    "    \n",
    "    def set_info(self, info):\n",
    "        self.info = info\n",
    "    \n",
    "    def find_child(self, name):\n",
    "        \"\"\"查询子节点是否存在\"\"\"\n",
    "        if name in self.children.keys():\n",
    "            return True\n",
    "        else:\n",
    "            return False\n",
    "    \n",
    "    def add_word(self, chars, info, pointer=0):\n",
    "        \"\"\"将数据创建成字典树\"\"\"\n",
    "        if len(chars[pointer:]) <= 0:\n",
    "            self.info = info\n",
    "            self.word = chars\n",
    "        else:\n",
    "            if not self.find_child(chars[pointer]):\n",
    "                self.children[chars[pointer]] = DictTree(chars[pointer])\n",
    "            self.children[chars[pointer]].add_word(chars, info, pointer + 1)\n",
    "    \n",
    "    def add_words(self, words, infos):\n",
    "        \"\"\"添加多组词\"\"\"\n",
    "        for word, info in zip(words, infos):\n",
    "            self.add_word(word, info)\n",
    "    \n",
    "    def add_words2(self, words):\n",
    "        \"\"\"添加多组词，不添加此相关信息\"\"\"\n",
    "        for word in words:\n",
    "            self.add_word(word, None)\n",
    "            \n",
    "    def cut_word(self, chars):\n",
    "        \"\"\"\n",
    "        查询字典树中是否有某个词\n",
    "        return: 没有该词会返回空，有该值会返回该词的信息\n",
    "        \"\"\"\n",
    "        if len(chars) == 0:\n",
    "            if self.word is None:\n",
    "                return None\n",
    "            else:\n",
    "                return self\n",
    "        elif self.find_child(chars[0]):\n",
    "            return self.children[chars[0]].cut_word(chars[1:])\n",
    "        else:\n",
    "            return None\n",
    "    \n",
    "    def _cut_words(self, chars):\n",
    "        \"\"\"\n",
    "        查询字典树中是否有某个词\n",
    "        return: 没有该词会返回空，有该值会返回该词的信息\n",
    "        \"\"\"\n",
    "        words = set()\n",
    "        if len(chars) == 0:\n",
    "            return words\n",
    "        if self.word is not None:\n",
    "            words.add(self)\n",
    "        if self.find_child(chars[0]):\n",
    "            words.update(self.children[chars[0]]._cut_words(chars[1:]))\n",
    "        return words\n",
    "        \n",
    "    def cut_words(self, sentence):\n",
    "        \"\"\"查询字典树\"\"\"\n",
    "        words = set()\n",
    "        if len(sentence) == 0:\n",
    "            return words\n",
    "        for n in range(len(sentence)):\n",
    "            words.update(self._cut_words(sentence[n:]))\n",
    "        return words\n",
    "    \n",
    "    def to_dict(self):\n",
    "        \"\"\"输出成dict\"\"\"\n",
    "        children = {}\n",
    "        for child_name, child_node in self.children.items():\n",
    "            children[child_name] = child_node.to_dict()\n",
    "        return {\n",
    "            'name': self.name,\n",
    "            'info': self.info,\n",
    "            'children': children,\n",
    "        }\n",
    "    \n",
    "    def read_dict(self, node_dict):\n",
    "        \"\"\"从dict中读入\"\"\"\n",
    "        self.name = node_dict['name']\n",
    "        self.info = node_dict['info']\n",
    "        for child_name, child_dict in node_dict['children'].items():\n",
    "            self.children[child_name] = Node(None).read_dict(child_dict)\n"
   ]
  },
  {
   "cell_type": "code",
   "execution_count": 8,
   "metadata": {},
   "outputs": [
    {
     "name": "stdout",
     "output_type": "stream",
     "text": [
      "{\"abc\": [\"abc\", \"aabbcc\"]}\n",
      "{\"acd\": [\"acd\", \"aaccdd\"]}\n",
      "None\n",
      "None\n",
      "{\"a\": [\"a\", \"aa\"]}\n",
      "['abc', 'bcd', 'a']\n"
     ]
    }
   ],
   "source": [
    "# 测试\n",
    "dict_tree = DictTree()\n",
    "words = {'abc': 'aabbcc', 'a': 'aa', 'acd': 'aaccdd', 'bcd': 'bbccdd'}\n",
    "dict_tree.add_words(words.keys(), zip(words.keys(), words.values()))\n",
    "# print(json.dumps(dict_tree.to_dict(), indent=1))\n",
    "print(dict_tree.cut_word('abc'))\n",
    "print(dict_tree.cut_word('acd'))\n",
    "print(dict_tree.cut_word('ab'))\n",
    "print(dict_tree.cut_word('ace'))\n",
    "print(dict_tree.cut_word('a'))\n",
    "print([i.word for i in dict_tree.cut_words('abcdacd')])"
   ]
  },
  {
   "cell_type": "code",
   "execution_count": 9,
   "metadata": {
    "collapsed": true
   },
   "outputs": [],
   "source": [
    "def deal_line(x, dict_tree):\n",
    "    dict_tree.add_word(x['word'], x.to_dict())\n",
    "    \n",
    "dict_tree = DictTree()\n",
    "df_dic_words.apply(lambda x: deal_line(x, dict_tree), axis=1);  # 分号防止打印"
   ]
  },
  {
   "cell_type": "code",
   "execution_count": 10,
   "metadata": {},
   "outputs": [
    {
     "name": "stdout",
     "output_type": "stream",
     "text": [
      "{\"做张做致\": {\"word\": \"做张做致\", \"info\": \"1  i\", \"v\": 281467}}\n"
     ]
    }
   ],
   "source": [
    "# '做张做致': {'info': '1  i', 'v': 281467},\n",
    "print(dict_tree.cut_word('做张做致'))"
   ]
  },
  {
   "cell_type": "code",
   "execution_count": 11,
   "metadata": {},
   "outputs": [
    {
     "name": "stdout",
     "output_type": "stream",
     "text": [
      "['我们', '们', '习', '智能', '工智', '人', '学', '智', '人工智能', '未', '能', '是', '人工', '工', '我', '学习']\n"
     ]
    }
   ],
   "source": [
    "print([i.word for i in dict_tree.cut_words('我们学习人工智能，人工智能是未来')])"
   ]
  },
  {
   "cell_type": "code",
   "execution_count": null,
   "metadata": {
    "collapsed": true
   },
   "outputs": [],
   "source": []
  }
 ],
 "metadata": {
  "kernelspec": {
   "display_name": "Python 3",
   "language": "python",
   "name": "python3"
  },
  "language_info": {
   "codemirror_mode": {
    "name": "ipython",
    "version": 3
   },
   "file_extension": ".py",
   "mimetype": "text/x-python",
   "name": "python",
   "nbconvert_exporter": "python",
   "pygments_lexer": "ipython3",
   "version": "3.7.3"
  }
 },
 "nbformat": 4,
 "nbformat_minor": 2
}
