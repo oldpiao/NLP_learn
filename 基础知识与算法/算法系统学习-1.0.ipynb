{
 "cells": [
  {
   "cell_type": "markdown",
   "metadata": {},
   "source": [
    "# 算法系统学习\n",
    "\n",
    "## 学习计划\n",
    "\n",
    "**算法**\n",
    "- 二分搜索 Binary Search \n",
    "- 分治 Divide Conquer \n",
    "- 宽度优先搜索 Breadth First Search \n",
    "- 深度优先搜索 Depth First Search\n",
    "- 回溯法 Backtracking \n",
    "- 双指针 Two Pointers \n",
    "- 动态规划 Dynamic Programming \n",
    "- 扫描线 Scan-line algorithm\n",
    "- 快排 Quick Sort\n",
    "\n",
    "**数据结构**\n",
    "- 栈 Stack\n",
    "- 队列 Queue\n",
    "- 链表 Linked List \n",
    "- 数组 Array \n",
    "- 哈希表 Hash Table\n",
    "- 二叉树 Binary Tree  \n",
    "- 堆 Heap\n",
    "- 并查集 Union Find\n",
    "- 字典树 Trie"
   ]
  },
  {
   "cell_type": "markdown",
   "metadata": {},
   "source": [
    "### 尾部的零"
   ]
  },
  {
   "cell_type": "code",
   "execution_count": null,
   "metadata": {},
   "outputs": [],
   "source": [
    "class Solution:\n",
    "    \"\"\"\n",
    "    @param: n: An integer\n",
    "    @return: An integer, denote the number of trailing zeros in n!\n",
    "    \"\"\"\n",
    "    def trailingZeros(self, n):\n",
    "        # write your code here, try to do it without arithmetic operators.\n",
    "        m1 = m2 = n // 5\n",
    "        while True:\n",
    "            m2 = m2 // 5\n",
    "            if m2 == 0:\n",
    "                return m1\n",
    "            m1 += m2"
   ]
  },
  {
   "cell_type": "markdown",
   "metadata": {},
   "source": [
    "### 开平方根\n",
    "\n",
    "[牛顿迭代法](https://www.cnblogs.com/turn-wind/p/9912002.html)"
   ]
  },
  {
   "cell_type": "code",
   "execution_count": 6,
   "metadata": {},
   "outputs": [],
   "source": [
    "import math\n",
    "\n",
    "\n",
    "class Solution:\n",
    "    \"\"\"\n",
    "    @param x: An integer\n",
    "    @return: The sqrt of x\n",
    "    \"\"\"\n",
    "    def sqrt(self, x):\n",
    "        # write your code here\n",
    "        if x == 0:\n",
    "            return 0\n",
    "        if x == 1:\n",
    "            return 1\n",
    "        res = x // 2\n",
    "        while True:\n",
    "            if res**2 <= x and (res+1)**2 > x:\n",
    "                return res\n",
    "            else:\n",
    "                res = (res**2 + x) // (2 * res)\n",
    "\n",
    "s = Solution()\n",
    "for i in range(1000):\n",
    "    assert s.sqrt(i) == int(math.sqrt(i))"
   ]
  },
  {
   "cell_type": "markdown",
   "metadata": {},
   "source": [
    "### 大整数乘法\n",
    "\n",
    "[分治法](https://blog.csdn.net/qq_27437197/article/details/85739473)"
   ]
  },
  {
   "cell_type": "code",
   "execution_count": 7,
   "metadata": {},
   "outputs": [],
   "source": [
    "class Solution:\n",
    "    \"\"\"\n",
    "    @param num1: a non-negative integers\n",
    "    @param num2: a non-negative integers\n",
    "    @return: return product of num1 and num2\n",
    "    \"\"\"\n",
    "    def multiply(self, num1, num2):\n",
    "        # write your code here\n",
    "        str_num1, str_num2 = str(num1), str(num2)\n",
    "        len_num1, len_num2 = len(str_num1), len(str_num2)\n",
    "        return str(self._multiply(str_num1, str_num2, len_num1, len_num2))\n",
    "    \n",
    "    def _multiply(self, str_n1, str_n2, len_n1, len_n2):\n",
    "        if len_n1 == 1 or len_n2 == 1:\n",
    "            return int(str_n1) * int(str_n2)\n",
    "\n",
    "        len_n1_h = len_n1 // 2\n",
    "        len_n1_l = len_n1 - len_n1_h\n",
    "        n1_h, n1_l = str_n1[: len_n1_h], str_n1[len_n1_h:]\n",
    "\n",
    "        len_n2_h = len_n2 // 2\n",
    "        len_n2_l = len_n2 - len_n2_h\n",
    "        n2_h, n2_l = str_n2[: len_n2_h], str_n2[len_n2_h:]\n",
    "        \n",
    "        n_hh = self._multiply(n1_h, n2_h, len_n1_h, len_n2_h) * 10**(len_n1_l + len_n2_l) \n",
    "        n_hl = self._multiply(n1_h, n2_l, len_n1_h, len_n2_l) * 10**(len_n1_l)\n",
    "        n_lh = self._multiply(n1_l, n2_h, len_n1_l, len_n2_h) * 10**(len_n2_l)\n",
    "        n_ll = self._multiply(n1_l, n2_l, len_n1_l, len_n2_l)\n",
    "        return n_hh + n_hl + n_lh + n_ll\n",
    "\n",
    "\n",
    "s = Solution()\n",
    "assert s.multiply(12345, 56789) == str(12345 * 56789)"
   ]
  },
  {
   "cell_type": "markdown",
   "metadata": {},
   "source": [
    "### 骰子求和\n",
    "[动态规划](https://blog.csdn.net/qq_38709999/article/details/81391404)"
   ]
  },
  {
   "cell_type": "code",
   "execution_count": 14,
   "metadata": {},
   "outputs": [
    {
     "name": "stdout",
     "output_type": "stream",
     "text": [
      "[[1, 0.16666666666666666], [2, 0.16666666666666666], [3, 0.16666666666666666], [4, 0.16666666666666666], [5, 0.16666666666666666], [6, 0.16666666666666666]]\n",
      "1 [0]\n",
      "2 [0, 1]\n",
      "3 [0, 1, 2]\n",
      "4 [0, 1, 2, 3]\n",
      "5 [0, 1, 2, 3, 4]\n",
      "6 [0, 1, 2, 3, 4, 5]\n",
      "7 [1, 2, 3, 4, 5, 6]\n",
      "8 [2, 3, 4, 5, 6, 7]\n",
      "9 [3, 4, 5, 6, 7, 8]\n",
      "10 [4, 5, 6, 7, 8, 9]\n",
      "11 [5, 6, 7, 8, 9, 10]\n",
      "[[2, 0.027777777777777776], [3, 0.05555555555555555], [4, 0.08333333333333333], [5, 0.1111111111111111], [6, 0.13888888888888887], [7, 0.16666666666666666], [8, 0.13888888888888887], [9, 0.1111111111111111], [10, 0.08333333333333333], [11, 0.05555555555555555], [12, 0.027777777777777776]]\n"
     ]
    }
   ],
   "source": [
    "class Solution:\n",
    "    # @param {int} n an integer\n",
    "    # @return {tuple[]} a list of tuple(sum, probability)\n",
    "    \n",
    "    def dicesSum(self, n):\n",
    "        # Write your code here\n",
    "        prob_list = self._dicesSum(n)\n",
    "        return [[k, i]for k, i in enumerate(prob_list[n-1:], n)]\n",
    "    \n",
    "    def _dicesSum(self, n):\n",
    "        prob_list = [1/6 for i in range(6)]\n",
    "        if n == 1:\n",
    "            return prob_list\n",
    "        for i in range(1, n):\n",
    "            dice = i + 1  # 几个骰子\n",
    "            n_pro_list = [0 for j in range(6 * dice)]\n",
    "            for k in range(i, 6 * dice):\n",
    "                # dice-1个骰子时投出小于k的点数的概率, 由于当前骰子最大点数为6，所以仅往前看6位\n",
    "                # 每个点数出现的概率是1/6，所以要除以6\n",
    "                print(k, list(range(max(k-6, i-1), min(k, 6 * dice-1))))\n",
    "                n_pro_list[k] = sum([prob_list[m] for m in range(max(k-6, i-1), min(k, 6 * (dice-1)))]) / 6\n",
    "            prob_list = n_pro_list\n",
    "        return prob_list\n",
    "        \n",
    "s = Solution()\n",
    "print(s.dicesSum(1))\n",
    "print(s.dicesSum(2))"
   ]
  },
  {
   "cell_type": "markdown",
   "metadata": {},
   "source": [
    "### 最多有多少个点在一条直线上\n",
    "[题目链接](https://link.zhihu.com/?target=http%3A//www.lintcode.com/zh-cn/problem/max-points-on-a-line/)\n",
    "- 两层遍历 \n",
    "- 注意计算相同的点的情况\n",
    "- 注意计算梯度为无穷大的情况"
   ]
  },
  {
   "cell_type": "markdown",
   "metadata": {},
   "source": [
    "#### 别人的代码"
   ]
  },
  {
   "cell_type": "code",
   "execution_count": 16,
   "metadata": {},
   "outputs": [
    {
     "name": "stdout",
     "output_type": "stream",
     "text": [
      "3\n",
      "4\n",
      "5\n"
     ]
    }
   ],
   "source": [
    "class Point:\n",
    "    def __init__(self, a=0, b=0):\n",
    "        self.x = a\n",
    "        self.y = b\n",
    "\n",
    "        \n",
    "class Solution:\n",
    "    \"\"\"\n",
    "    @param points: an array of point\n",
    "    @return: An integer\n",
    "    \"\"\"\n",
    "    def maxPoints(self, points):\n",
    "        # write your code here\n",
    "        if not points:\n",
    "            return 0\n",
    "\n",
    "        n = len(points)\n",
    "        \n",
    "        max_l = 0\n",
    "        for i in range(n):\n",
    "            p1 = points[i]\n",
    "            gradient2count = {}\n",
    "            infinites,duplicates = 0, 0\n",
    "            for j in range(i, n):\n",
    "                p2 = points[j]\n",
    "                dx, dy = p1.x - p2.x, p1.y - p2.y\n",
    "                if dx == 0 and dy == 0:\n",
    "                    duplicates += 1\n",
    "                if dx == 0:\n",
    "                    infinites += 1\n",
    "                else:\n",
    "                    g = dy / dx\n",
    "                    gradient2count[g] = gradient2count.get(g, 0) + 1\n",
    "            \n",
    "            max_l = max(max_l, infinites)\n",
    "            for g, count in gradient2count.items():\n",
    "                max_l = max(max_l, count + duplicates)\n",
    "            \n",
    "        return max_l\n",
    "\n",
    "        \n",
    "s = Solution()\n",
    "points = [Point(a, b) for a, b in [(1,2),(3,6),(0,0),(1,3)]]\n",
    "print(s.maxPoints(points))\n",
    "points = [Point(a, b) for a, b in [(1,2),(1,2),(3,6),(0,0),(1,3)]]\n",
    "print(s.maxPoints(points))\n",
    "points = [Point(a, b) for a, b in [(1,2),(1,2),(1,2),(3,6),(0,0),(1,3)]]\n",
    "print(s.maxPoints(points))"
   ]
  },
  {
   "cell_type": "markdown",
   "metadata": {},
   "source": [
    "### 超级丑数\n",
    "[题目链接](https://www.lintcode.com/problem/super-ugly-number/description)\n",
    "\n",
    "- 动态比较每个质数与丑数的乘积；\n",
    "- 开始都乘第1个丑数；\n",
    "- 谁乘出的小，把谁的乘出的丑数加进去，并更新该质数的丑数为乘以第2个丑数的积；\n",
    "- 再比较，再添加；\n",
    "- 注意重复出现的数，如2*7与7*2，仅需比较找出的最小丑数与上次的丑数是否相同即可"
   ]
  },
  {
   "cell_type": "code",
   "execution_count": 5,
   "metadata": {},
   "outputs": [
    {
     "name": "stdout",
     "output_type": "stream",
     "text": [
      "[1, 2, 4, 7, 8, 13]\n",
      "[1, 2, 3, 4, 5, 6, 8, 9, 10, 12, 15]\n"
     ]
    }
   ],
   "source": [
    "class Solution:\n",
    "    \"\"\"\n",
    "    @param n: a positive integer\n",
    "    @param primes: the given prime list\n",
    "    @return: the nth super ugly number\n",
    "    \"\"\"\n",
    "    def nthSuperUglyNumber(self, n, primes):\n",
    "        # write your code here\n",
    "        if n == 1:\n",
    "            return 1\n",
    "        k = [0 for i in primes]\n",
    "        v = [i for i in primes]\n",
    "        ugly_nums, i = [1], 1\n",
    "        while i < n:\n",
    "            ugly_num = min(v)\n",
    "            if ugly_num != ugly_nums[-1]:\n",
    "                ugly_nums.append(ugly_num)\n",
    "                i += 1\n",
    "            ind = v.index(ugly_nums[-1])\n",
    "            k[ind] += 1\n",
    "            v[ind] = primes[ind] * ugly_nums[k[ind]]            \n",
    "        print(ugly_nums)\n",
    "        return ugly_nums[-1]\n",
    "\n",
    "\n",
    "s = Solution()\n",
    "assert s.nthSuperUglyNumber(6, [2,7,13,19]) == 13\n",
    "assert s.nthSuperUglyNumber(11, [2, 3, 5]) == 15"
   ]
  },
  {
   "cell_type": "code",
   "execution_count": null,
   "metadata": {},
   "outputs": [],
   "source": []
  }
 ],
 "metadata": {
  "kernelspec": {
   "display_name": "pytorch",
   "language": "python",
   "name": "pytorch"
  },
  "language_info": {
   "codemirror_mode": {
    "name": "ipython",
    "version": 3
   },
   "file_extension": ".py",
   "mimetype": "text/x-python",
   "name": "python",
   "nbconvert_exporter": "python",
   "pygments_lexer": "ipython3",
   "version": "3.7.8"
  }
 },
 "nbformat": 4,
 "nbformat_minor": 4
}
