{
 "cells": [
  {
   "cell_type": "markdown",
   "metadata": {},
   "source": [
    "# 算法系统学习\n",
    "\n",
    "## 学习计划\n",
    "\n",
    "**算法**\n",
    "- 二分搜索 Binary Search \n",
    "- 分治 Divide Conquer \n",
    "- 宽度优先搜索 Breadth First Search \n",
    "- 深度优先搜索 Depth First Search\n",
    "- 回溯法 Backtracking \n",
    "- 双指针 Two Pointers \n",
    "- 动态规划 Dynamic Programming \n",
    "- 扫描线 Scan-line algorithm\n",
    "- 快排 Quick Sort\n",
    "\n",
    "**数据结构**\n",
    "- 栈 Stack\n",
    "- 队列 Queue\n",
    "- 链表 Linked List \n",
    "- 数组 Array \n",
    "- 哈希表 Hash Table\n",
    "- 二叉树 Binary Tree  \n",
    "- 堆 Heap\n",
    "- 并查集 Union Find\n",
    "- 字典树 Trie"
   ]
  },
  {
   "cell_type": "markdown",
   "metadata": {},
   "source": [
    "### 尾部的零"
   ]
  },
  {
   "cell_type": "code",
   "execution_count": null,
   "metadata": {},
   "outputs": [],
   "source": [
    "class Solution:\n",
    "    \"\"\"\n",
    "    @param: n: An integer\n",
    "    @return: An integer, denote the number of trailing zeros in n!\n",
    "    \"\"\"\n",
    "    def trailingZeros(self, n):\n",
    "        # write your code here, try to do it without arithmetic operators.\n",
    "        m1 = m2 = n // 5\n",
    "        while True:\n",
    "            m2 = m2 // 5\n",
    "            if m2 == 0:\n",
    "                return m1\n",
    "            m1 += m2"
   ]
  },
  {
   "cell_type": "markdown",
   "metadata": {},
   "source": [
    "### 开平方根\n",
    "\n",
    "[牛顿迭代法](https://www.cnblogs.com/turn-wind/p/9912002.html)"
   ]
  },
  {
   "cell_type": "code",
   "execution_count": 6,
   "metadata": {},
   "outputs": [],
   "source": [
    "import math\n",
    "\n",
    "\n",
    "class Solution:\n",
    "    \"\"\"\n",
    "    @param x: An integer\n",
    "    @return: The sqrt of x\n",
    "    \"\"\"\n",
    "    def sqrt(self, x):\n",
    "        # write your code here\n",
    "        if x == 0:\n",
    "            return 0\n",
    "        if x == 1:\n",
    "            return 1\n",
    "        res = x // 2\n",
    "        while True:\n",
    "            if res**2 <= x and (res+1)**2 > x:\n",
    "                return res\n",
    "            else:\n",
    "                res = (res**2 + x) // (2 * res)\n",
    "\n",
    "s = Solution()\n",
    "for i in range(1000):\n",
    "    assert s.sqrt(i) == int(math.sqrt(i))"
   ]
  },
  {
   "cell_type": "markdown",
   "metadata": {},
   "source": [
    "### 大整数乘法\n",
    "\n",
    "[分治法](https://blog.csdn.net/qq_27437197/article/details/85739473)"
   ]
  },
  {
   "cell_type": "code",
   "execution_count": 7,
   "metadata": {},
   "outputs": [],
   "source": [
    "class Solution:\n",
    "    \"\"\"\n",
    "    @param num1: a non-negative integers\n",
    "    @param num2: a non-negative integers\n",
    "    @return: return product of num1 and num2\n",
    "    \"\"\"\n",
    "    def multiply(self, num1, num2):\n",
    "        # write your code here\n",
    "        str_num1, str_num2 = str(num1), str(num2)\n",
    "        len_num1, len_num2 = len(str_num1), len(str_num2)\n",
    "        return str(self._multiply(str_num1, str_num2, len_num1, len_num2))\n",
    "    \n",
    "    def _multiply(self, str_n1, str_n2, len_n1, len_n2):\n",
    "        if len_n1 == 1 or len_n2 == 1:\n",
    "            return int(str_n1) * int(str_n2)\n",
    "\n",
    "        len_n1_h = len_n1 // 2\n",
    "        len_n1_l = len_n1 - len_n1_h\n",
    "        n1_h, n1_l = str_n1[: len_n1_h], str_n1[len_n1_h:]\n",
    "\n",
    "        len_n2_h = len_n2 // 2\n",
    "        len_n2_l = len_n2 - len_n2_h\n",
    "        n2_h, n2_l = str_n2[: len_n2_h], str_n2[len_n2_h:]\n",
    "        \n",
    "        n_hh = self._multiply(n1_h, n2_h, len_n1_h, len_n2_h) * 10**(len_n1_l + len_n2_l) \n",
    "        n_hl = self._multiply(n1_h, n2_l, len_n1_h, len_n2_l) * 10**(len_n1_l)\n",
    "        n_lh = self._multiply(n1_l, n2_h, len_n1_l, len_n2_h) * 10**(len_n2_l)\n",
    "        n_ll = self._multiply(n1_l, n2_l, len_n1_l, len_n2_l)\n",
    "        return n_hh + n_hl + n_lh + n_ll\n",
    "\n",
    "\n",
    "s = Solution()\n",
    "assert s.multiply(12345, 56789) == str(12345 * 56789)"
   ]
  },
  {
   "cell_type": "markdown",
   "metadata": {},
   "source": [
    "### 骰子求和\n",
    "[动态规划](https://blog.csdn.net/qq_38709999/article/details/81391404)"
   ]
  },
  {
   "cell_type": "code",
   "execution_count": 14,
   "metadata": {},
   "outputs": [
    {
     "name": "stdout",
     "output_type": "stream",
     "text": [
      "[[1, 0.16666666666666666], [2, 0.16666666666666666], [3, 0.16666666666666666], [4, 0.16666666666666666], [5, 0.16666666666666666], [6, 0.16666666666666666]]\n",
      "1 [0]\n",
      "2 [0, 1]\n",
      "3 [0, 1, 2]\n",
      "4 [0, 1, 2, 3]\n",
      "5 [0, 1, 2, 3, 4]\n",
      "6 [0, 1, 2, 3, 4, 5]\n",
      "7 [1, 2, 3, 4, 5, 6]\n",
      "8 [2, 3, 4, 5, 6, 7]\n",
      "9 [3, 4, 5, 6, 7, 8]\n",
      "10 [4, 5, 6, 7, 8, 9]\n",
      "11 [5, 6, 7, 8, 9, 10]\n",
      "[[2, 0.027777777777777776], [3, 0.05555555555555555], [4, 0.08333333333333333], [5, 0.1111111111111111], [6, 0.13888888888888887], [7, 0.16666666666666666], [8, 0.13888888888888887], [9, 0.1111111111111111], [10, 0.08333333333333333], [11, 0.05555555555555555], [12, 0.027777777777777776]]\n"
     ]
    }
   ],
   "source": [
    "class Solution:\n",
    "    # @param {int} n an integer\n",
    "    # @return {tuple[]} a list of tuple(sum, probability)\n",
    "    \n",
    "    def dicesSum(self, n):\n",
    "        # Write your code here\n",
    "        prob_list = self._dicesSum(n)\n",
    "        return [[k, i]for k, i in enumerate(prob_list[n-1:], n)]\n",
    "    \n",
    "    def _dicesSum(self, n):\n",
    "        prob_list = [1/6 for i in range(6)]\n",
    "        if n == 1:\n",
    "            return prob_list\n",
    "        for i in range(1, n):\n",
    "            dice = i + 1  # 几个骰子\n",
    "            n_pro_list = [0 for j in range(6 * dice)]\n",
    "            for k in range(i, 6 * dice):\n",
    "                # dice-1个骰子时投出小于k的点数的概率, 由于当前骰子最大点数为6，所以仅往前看6位\n",
    "                # 每个点数出现的概率是1/6，所以要除以6\n",
    "                print(k, list(range(max(k-6, i-1), min(k, 6 * dice-1))))\n",
    "                n_pro_list[k] = sum([prob_list[m] for m in range(max(k-6, i-1), min(k, 6 * (dice-1)))]) / 6\n",
    "            prob_list = n_pro_list\n",
    "        return prob_list\n",
    "        \n",
    "s = Solution()\n",
    "print(s.dicesSum(1))\n",
    "print(s.dicesSum(2))"
   ]
  },
  {
   "cell_type": "code",
   "execution_count": null,
   "metadata": {},
   "outputs": [],
   "source": []
  }
 ],
 "metadata": {
  "kernelspec": {
   "display_name": "pytorch",
   "language": "python",
   "name": "pytorch"
  }
 },
 "nbformat": 4,
 "nbformat_minor": 4
}
