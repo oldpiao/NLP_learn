{
 "cells": [
  {
   "cell_type": "code",
   "execution_count": 1,
   "metadata": {},
   "outputs": [],
   "source": [
    "# 两个字符串的编辑距离"
   ]
  },
  {
   "cell_type": "code",
   "execution_count": 2,
   "metadata": {},
   "outputs": [],
   "source": [
    "# 求数组中第K大的数"
   ]
  },
  {
   "cell_type": "code",
   "execution_count": 12,
   "metadata": {},
   "outputs": [],
   "source": [
    "def max_k(lis, k):\n",
    "    len_lis = len(lis)\n",
    "    for n in range(k):\n",
    "        for i in range(n+1, len_lis):\n",
    "            if lis[i] > lis[n]:\n",
    "                lis[n], lis[i] = lis[i], lis[n]\n",
    "    return lis[k-1]\n",
    "\n",
    "\n",
    "a = [1,3,24,4,5]\n",
    "\n",
    "assert max_k(a, k=1) == 24\n",
    "assert max_k(a, k=2) == 5\n",
    "assert max_k(a, k=3) == 4\n",
    "assert max_k(a, k=4) == 3\n",
    "assert max_k(a, k=5) == 1"
   ]
  },
  {
   "cell_type": "code",
   "execution_count": 17,
   "metadata": {},
   "outputs": [],
   "source": [
    "def add2n(lis, n):\n",
    "    for i in range(len(lis)-1):\n",
    "        m = n - lis[i]\n",
    "        if m in lis[i+1:]:\n",
    "            return [lis[i], m]\n",
    "\n",
    "    \n",
    "a = [1,2,33,44, 34]\n",
    "assert add2n(a, 34) == [1, 33]\n",
    "a = [2,44,34,1,33]\n",
    "assert add2n(a, 34) == [1, 33]"
   ]
  },
  {
   "cell_type": "code",
   "execution_count": 42,
   "metadata": {},
   "outputs": [
    {
     "name": "stdout",
     "output_type": "stream",
     "text": [
      "1 [2, 33, 34, 44]\n",
      "0 4 2 34 33\n",
      "0 2 2 34 33\n",
      "1 [3, 7, 10]\n",
      "0 3 1 7 9\n",
      "2 3 1 7 9\n",
      "3 [7, 10]\n",
      "0 2 1 10 7\n",
      "0 1 1 10 7\n"
     ]
    }
   ],
   "source": [
    "def add2n(lis, n):\n",
    "    len_lis = len(lis)\n",
    "    for i in range(len_lis-1):\n",
    "        m = n - a[i]\n",
    "        lis2 = lis[i+1:]\n",
    "        len_lis2 = len_lis - i - 1\n",
    "        begin, end, mod = 0, len_lis2, len_lis2//2\n",
    "        while begin < end:\n",
    "            mod = (begin + end)//2\n",
    "            if lis2[mod] == m:\n",
    "                return [lis[i], m]\n",
    "            elif lis2[mod] < m:\n",
    "                begin = mod + 1\n",
    "            else:\n",
    "                end = mod\n",
    "\n",
    "    \n",
    "a = [1,2,33,34,44]\n",
    "assert add2n(a, 34) == [1, 33]\n",
    "a = [1,3,7,10]\n",
    "assert add2n(a, 10) == [3, 7]"
   ]
  },
  {
   "cell_type": "code",
   "execution_count": 37,
   "metadata": {},
   "outputs": [
    {
     "data": {
      "text/plain": [
       "0"
      ]
     },
     "execution_count": 37,
     "metadata": {},
     "output_type": "execute_result"
    }
   ],
   "source": [
    "1 // 2"
   ]
  },
  {
   "cell_type": "code",
   "execution_count": 3,
   "metadata": {},
   "outputs": [],
   "source": [
    "def long_str(string):\n",
    "    dic = {}\n",
    "    max_len = 0\n",
    "    for n, i in enumerate(string):\n",
    "        if i in dic:\n",
    "            max_len = max(max_len, n - dic[i])\n",
    "        dic[i] = n\n",
    "    return max_len\n",
    "\n",
    "\n",
    "assert long_str(\"abcaefgha\") == 5\n",
    "assert long_str(\"abcaefghta\") == 6"
   ]
  },
  {
   "cell_type": "code",
   "execution_count": 6,
   "metadata": {},
   "outputs": [
    {
     "name": "stdout",
     "output_type": "stream",
     "text": [
      "[3, 5]\n",
      "[3, 6]\n"
     ]
    }
   ],
   "source": [
    "def long_str(string, k=2):\n",
    "    dic = {}\n",
    "    max_len = []\n",
    "    for n, i in enumerate(string):\n",
    "        if i in dic:\n",
    "            max_len.append(n-dic[i])\n",
    "        dic[i] = n\n",
    "    max_len.sort()\n",
    "    return max_len[-k]\n",
    "\n",
    "\n",
    "assert long_str(\"abcaefgha\") == 3\n",
    "assert long_str(\"abcaefghta\") == 3"
   ]
  },
  {
   "cell_type": "code",
   "execution_count": 8,
   "metadata": {},
   "outputs": [],
   "source": [
    "def long_str(string):\n",
    "    dic = {}\n",
    "    max_len, next_len = 0, 0\n",
    "    for n, i in enumerate(string):\n",
    "        if i in dic:\n",
    "            if n - dic[i] > max_len:\n",
    "                max_len, next_len = n - dic[i], max_len\n",
    "            elif n - dic[i] > next_len:\n",
    "                next_len = n - dic[i]\n",
    "        dic[i] = n\n",
    "    return next_len\n",
    "\n",
    "\n",
    "assert long_str(\"abcaefgha\") == 3\n",
    "assert long_str(\"abcaefghta\") == 3"
   ]
  },
  {
   "cell_type": "code",
   "execution_count": null,
   "metadata": {},
   "outputs": [],
   "source": []
  }
 ],
 "metadata": {
  "kernelspec": {
   "display_name": "Python 3",
   "language": "python",
   "name": "python3"
  },
  "language_info": {
   "codemirror_mode": {
    "name": "ipython",
    "version": 3
   },
   "file_extension": ".py",
   "mimetype": "text/x-python",
   "name": "python",
   "nbconvert_exporter": "python",
   "pygments_lexer": "ipython3",
   "version": "3.7.7"
  }
 },
 "nbformat": 4,
 "nbformat_minor": 4
}
