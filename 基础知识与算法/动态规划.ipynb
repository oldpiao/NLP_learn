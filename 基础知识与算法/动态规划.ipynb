{
 "cells": [
  {
   "cell_type": "markdown",
   "metadata": {},
   "source": [
    "### 最大子序和"
   ]
  },
  {
   "cell_type": "markdown",
   "metadata": {},
   "source": [
    "核心问题：\n",
    "+ 动态找出目前最大的子序和\n",
    "+ 逐位加和，遇负择后"
   ]
  },
  {
   "cell_type": "code",
   "execution_count": 2,
   "metadata": {},
   "outputs": [],
   "source": [
    "def max_sub_array(sums):\n",
    "    max_ret = cur_max = sums[0]\n",
    "    for i in range(1, len(sums)):\n",
    "        cur_max = max(cur_max + sums[i], sums[i])\n",
    "        if cur_max > max_ret:\n",
    "            max_ret = cur_max\n",
    "    return max_ret"
   ]
  },
  {
   "cell_type": "code",
   "execution_count": 3,
   "metadata": {},
   "outputs": [
    {
     "data": {
      "text/plain": [
       "6"
      ]
     },
     "execution_count": 3,
     "metadata": {},
     "output_type": "execute_result"
    }
   ],
   "source": [
    "max_sub_array([1,-2,1,-3,4,-1,2,1,-5,4])"
   ]
  },
  {
   "cell_type": "code",
   "execution_count": 4,
   "metadata": {},
   "outputs": [
    {
     "data": {
      "text/plain": [
       "1"
      ]
     },
     "execution_count": 4,
     "metadata": {},
     "output_type": "execute_result"
    }
   ],
   "source": [
    "max_sub_array([1])"
   ]
  },
  {
   "cell_type": "markdown",
   "metadata": {},
   "source": [
    "### 最长上升子序列"
   ]
  },
  {
   "cell_type": "code",
   "execution_count": 5,
   "metadata": {},
   "outputs": [],
   "source": [
    "def length_of_lis1(sums):\n",
    "    if len(sums) <= 1:\n",
    "        return len(sums)\n",
    "    lens = [1]\n",
    "    for i in range(1, len(sums)):\n",
    "        i_len = 1\n",
    "        for n, n_len in enumerate(lens, 0):\n",
    "            if sums[i] > sums[n]:\n",
    "                i_len = max(i_len, n_len + 1)\n",
    "        lens.append(i_len)\n",
    "    return max(lens)"
   ]
  },
  {
   "cell_type": "code",
   "execution_count": 6,
   "metadata": {},
   "outputs": [],
   "source": [
    "def length_of_lis2(sums):\n",
    "    if len(sums) <= 1:\n",
    "        return len(sums)\n",
    "    mem = [1 for i in sums]\n",
    "    for i in range(1, len(sums)):\n",
    "        for j in range(i):\n",
    "            if sums[i] > sums[j]:\n",
    "                mem[i] = max(mem[i], mem[j] + 1)\n",
    "    return max(mem)"
   ]
  },
  {
   "cell_type": "code",
   "execution_count": 7,
   "metadata": {},
   "outputs": [
    {
     "name": "stdout",
     "output_type": "stream",
     "text": [
      "4\n",
      "4\n"
     ]
    }
   ],
   "source": [
    "print(length_of_lis1([1,3,2,3,5]))\n",
    "print(length_of_lis2([1,3,2,3,5]))"
   ]
  },
  {
   "cell_type": "code",
   "execution_count": 8,
   "metadata": {},
   "outputs": [
    {
     "name": "stdout",
     "output_type": "stream",
     "text": [
      "1\n",
      "1\n"
     ]
    }
   ],
   "source": [
    "print(length_of_lis1([1]))\n",
    "print(length_of_lis2([1]))"
   ]
  },
  {
   "cell_type": "markdown",
   "metadata": {},
   "source": [
    "### 零钱兑换"
   ]
  },
  {
   "cell_type": "markdown",
   "metadata": {},
   "source": [
    "期待使用硬币最少组成一个数字\n",
    "+ 贪心算法：从最大的硬币逐个选到小的\n",
    "    + 当硬币数额不合理的时候，会有非最优解出现\n",
    "+ 全局最优解决：从1开始组合依次到当前选的数字，计算下一个的时候等于一个前的硬币数加一个硬币或者组合不出当前数值"
   ]
  },
  {
   "cell_type": "code",
   "execution_count": 9,
   "metadata": {},
   "outputs": [],
   "source": [
    "# 教程解法\n",
    "def coin_change2(coins, amount):\n",
    "    if amount == 0:\n",
    "        return 0\n",
    "    if len(coins) == 0:\n",
    "        return -1\n",
    "    if len(coins) == 1 and coins[0] > amount:\n",
    "        return -1\n",
    "    mem = [-1 for i in range(amount + 1)]\n",
    "    mem[0] = 0\n",
    "    for i in range(1, amount + 1):\n",
    "        cur_min = amount + 1\n",
    "        for c in coins:\n",
    "            if c <= i:\n",
    "                cur_min = mem[i - c] if mem[i - c] < cur_min else cur_min\n",
    "        mem[i] = cur_min + 1 if cur_min < amount + 1 else amount + 1\n",
    "    if mem[-1] == amount + 1:\n",
    "        return -1\n",
    "    else:\n",
    "        return mem[-1]"
   ]
  },
  {
   "cell_type": "code",
   "execution_count": 23,
   "metadata": {},
   "outputs": [
    {
     "name": "stdout",
     "output_type": "stream",
     "text": [
      "2\n",
      "0\n"
     ]
    }
   ],
   "source": [
    "print(coin_change2([1,3,4], 6))\n",
    "print(coin_change2([1,3,4], 0))"
   ]
  },
  {
   "cell_type": "code",
   "execution_count": 26,
   "metadata": {},
   "outputs": [],
   "source": [
    "def coin_change(coins, amount):\n",
    "    if amount == 0:\n",
    "        return 0\n",
    "    if amount < 0:\n",
    "        return -1\n",
    "    if len(coins) == 0:\n",
    "        return -1\n",
    "    if len(coins) == 1 and coins[0] > amount:\n",
    "        return -1\n",
    "    mem = [-1 for i in range(amount+1)]\n",
    "    mem[0] = 0\n",
    "    for i in range(1, amount + 1):\n",
    "        cur_min = amount + 1\n",
    "        for c in coins:\n",
    "            if c <= i:\n",
    "                cur_min = min(mem[i - c], cur_min)\n",
    "        mem[i] = min(cur_min + 1, amount + 1)\n",
    "    if mem[-1] == amount + 1:\n",
    "        return -1\n",
    "    return mem[-1]"
   ]
  },
  {
   "cell_type": "code",
   "execution_count": 27,
   "metadata": {},
   "outputs": [
    {
     "name": "stdout",
     "output_type": "stream",
     "text": [
      "2\n",
      "0\n"
     ]
    }
   ],
   "source": [
    "print(coin_change([1,3,4], 6))\n",
    "print(coin_change([1,3,4], 0))"
   ]
  },
  {
   "cell_type": "markdown",
   "metadata": {},
   "source": [
    "### 0-1背包问题"
   ]
  },
  {
   "cell_type": "markdown",
   "metadata": {},
   "source": [
    "有S个物品，每个物品价值不同，重量不同，放入一个载荷为C的背包中，要求，最终放入的物品价值最大。"
   ]
  },
  {
   "cell_type": "markdown",
   "metadata": {},
   "source": [
    "思路\n",
    "+ 一个物品时仅需要判断是否放入背包\n",
    "+ 两个物品时仅需要在一个物品的基础上考虑新物品是否放入背包，放入则加上一个物品时对应载荷的价值，不放入则和一个物品时当前载荷价值相同\n",
    "+ 以此类推N个物品仅需考虑是否放入与N-1个物品时的状态"
   ]
  },
  {
   "cell_type": "code",
   "execution_count": 33,
   "metadata": {},
   "outputs": [],
   "source": [
    "def knapsack(weight, value, amount):\n",
    "    mem = [[0 for j in range(amount + 1)] for i in range(len(weight) + 1)]\n",
    "    for i in range(1, len(weight) + 1):\n",
    "        for j in range(1, amount + 1):\n",
    "            if weight[i-1] <= j:\n",
    "                mem[i][j] = max(value[i-1] + mem[i-1][j-weight[i-1]], mem[i-1][j])\n",
    "            else:\n",
    "                mem[i][j] = mem[i-1][j]\n",
    "    for m in mem:\n",
    "        print(m)\n",
    "    return mem[-1][-1]"
   ]
  },
  {
   "cell_type": "code",
   "execution_count": 34,
   "metadata": {},
   "outputs": [
    {
     "name": "stdout",
     "output_type": "stream",
     "text": [
      "[0, 0, 0, 0, 0, 0, 0, 0, 0, 0, 0, 0, 0]\n",
      "[0, 0, 0, 0, 8, 8, 8, 8, 8, 8, 8, 8, 8]\n",
      "[0, 0, 0, 0, 8, 8, 10, 10, 10, 10, 18, 18, 18]\n",
      "[0, 0, 6, 6, 8, 8, 14, 14, 16, 16, 18, 18, 24]\n",
      "[0, 0, 6, 6, 9, 9, 14, 14, 17, 17, 19, 19, 24]\n",
      "[0, 0, 6, 6, 9, 9, 14, 14, 17, 17, 19, 21, 24]\n",
      "[0, 2, 6, 8, 9, 11, 14, 16, 17, 19, 19, 21, 24]\n"
     ]
    },
    {
     "data": {
      "text/plain": [
       "24"
      ]
     },
     "execution_count": 34,
     "metadata": {},
     "output_type": "execute_result"
    }
   ],
   "source": [
    "knapsack([4,6,2,2,5,1],[8,10,6,3,7,2], 12)"
   ]
  },
  {
   "cell_type": "code",
   "execution_count": 35,
   "metadata": {},
   "outputs": [
    {
     "name": "stdout",
     "output_type": "stream",
     "text": [
      "[0, 0, 0, 0, 0, 0, 0, 0, 0, 0, 0, 0, 0]\n",
      "[0, 0, 0, 0, 8, 8, 8, 8, 8, 8, 8, 8, 8]\n"
     ]
    },
    {
     "data": {
      "text/plain": [
       "8"
      ]
     },
     "execution_count": 35,
     "metadata": {},
     "output_type": "execute_result"
    }
   ],
   "source": [
    "knapsack([4],[8], 12)"
   ]
  },
  {
   "cell_type": "code",
   "execution_count": 16,
   "metadata": {},
   "outputs": [
    {
     "data": {
      "text/plain": [
       "array([[1., 0., 0.],\n",
       "       [0., 2., 0.],\n",
       "       [0., 0., 0.],\n",
       "       [0., 0., 0.],\n",
       "       [0., 0., 0.],\n",
       "       [0., 0., 0.],\n",
       "       [0., 0., 0.],\n",
       "       [0., 0., 0.],\n",
       "       [0., 0., 0.],\n",
       "       [0., 0., 0.]])"
      ]
     },
     "execution_count": 16,
     "metadata": {},
     "output_type": "execute_result"
    }
   ],
   "source": [
    "import numpy as np\n",
    "t = np.zeros((10, 3))\n",
    "t[0,0] = 1\n",
    "t[1, 1] = t[0, 0] + 1\n",
    "t"
   ]
  },
  {
   "cell_type": "code",
   "execution_count": null,
   "metadata": {},
   "outputs": [],
   "source": []
  },
  {
   "cell_type": "code",
   "execution_count": 22,
   "metadata": {},
   "outputs": [
    {
     "name": "stdout",
     "output_type": "stream",
     "text": [
      "_______________\n",
      "1 0 inf ry\n",
      "1 1 0 ryr\n",
      "_______________\n",
      "1 2 inf yr\n",
      "2 1 3 yry\n",
      "_______________\n",
      "0 1 inf rr\n",
      "0 1 1 rrr\n",
      "1 0 2 rrry\n",
      "2 0 1 rrryy\n",
      "3 0 1 rrryyy\n",
      "4 0 1 rrryyyy\n",
      "4 1 0 rrryyyyr\n",
      "4 2 0 rrryyyyrr\n",
      "5 2 1 rrryyyyrry\n",
      "6 2 2 rrryyyyrryy\n",
      "7 2 3 rrryyyyrryyy\n",
      "7 3 2 rrryyyyrryyyr\n",
      "7 4 2 rrryyyyrryyyrr\n",
      "7 5 2 rrryyyyrryyyrrr\n"
     ]
    }
   ],
   "source": [
    "class Solution:\n",
    "    def minimumOperations(self, leaves: str) -> int:\n",
    "        r, ry, ryr = 1 if leaves[0] == \"y\" else 0, float(\"inf\"), float(\"inf\")\n",
    "        leaves_n = leaves[0]\n",
    "        print('_______________')\n",
    "        for i in leaves[1:]:\n",
    "            if i == \"r\":\n",
    "                r, ry, ryr = r, min(r, ry) + 1, min(ry, ryr)\n",
    "            else:\n",
    "                r, ry, ryr = r + 1, min(r, ry), min(ry, ryr) + 1\n",
    "            leaves_n += i\n",
    "            print(r, ry, ryr, leaves_n)\n",
    "        return ryr\n",
    "\n",
    "                \n",
    "s = Solution()\n",
    "assert s.minimumOperations(\"ryr\") == 0\n",
    "assert s.minimumOperations(\"yry\") == 3\n",
    "assert s.minimumOperations(\"rrryyyyrryyyrrr\") == 2"
   ]
  },
  {
   "cell_type": "code",
   "execution_count": 17,
   "metadata": {},
   "outputs": [
    {
     "data": {
      "text/plain": [
       "inf"
      ]
     },
     "execution_count": 17,
     "metadata": {},
     "output_type": "execute_result"
    }
   ],
   "source": []
  },
  {
   "cell_type": "code",
   "execution_count": null,
   "metadata": {},
   "outputs": [],
   "source": []
  }
 ],
 "metadata": {
  "kernelspec": {
   "display_name": "Python 3",
   "language": "python",
   "name": "python3"
  },
  "language_info": {
   "codemirror_mode": {
    "name": "ipython",
    "version": 3
   },
   "file_extension": ".py",
   "mimetype": "text/x-python",
   "name": "python",
   "nbconvert_exporter": "python",
   "pygments_lexer": "ipython3",
   "version": "3.7.6"
  }
 },
 "nbformat": 4,
 "nbformat_minor": 2
}
