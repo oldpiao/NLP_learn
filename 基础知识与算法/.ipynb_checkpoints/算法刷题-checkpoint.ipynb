{
 "cells": [
  {
   "cell_type": "markdown",
   "metadata": {},
   "source": [
    "[经典算法50题](https://www.cnblogs.com/foxspecial/p/3222511.html)"
   ]
  },
  {
   "cell_type": "markdown",
   "metadata": {},
   "source": [
    "在经典汉诺塔问题中，有 3 根柱子及 N 个不同大小的穿孔圆盘，盘子可以滑入任意一根柱子。一开始，所有盘子自上而下按升序依次套在第一根柱子上(即每一个盘子只能放在更大的盘子上面)。移动圆盘时受到以下限制:\n",
    "(1) 每次只能移动一个盘子;\n",
    "(2) 盘子只能从柱子顶端滑出移到下一根柱子;\n",
    "(3) 盘子只能叠在比它大的盘子上。\n",
    "\n",
    "请编写程序，用栈将所有盘子从第一根柱子移到最后一根柱子。\n",
    "\n",
    "你需要原地修改栈。\n",
    "\n",
    "示例1:\n",
    "\n",
    "    输入：A = [2, 1, 0], B = [], C = []\n",
    "    输出：C = [2, 1, 0]\n",
    "\n",
    "示例2:\n",
    "\n",
    "    输入：A = [1, 0], B = [], C = []\n",
    "    输出：C = [1, 0]\n",
    "\n",
    "提示:\n",
    "\n",
    "A中盘子的数目不大于14个。\n",
    "\n",
    "来源：力扣（LeetCode）\n",
    "链接：https://leetcode-cn.com/problems/hanota-lcci\n",
    "著作权归领扣网络所有。商业转载请联系官方授权，非商业转载请注明出处。"
   ]
  },
  {
   "cell_type": "markdown",
   "metadata": {},
   "source": [
    "思路\n",
    "\n",
    "一个盘时： A-->C\n",
    "多个盘时： A的上面N-1个-->B；A的最底下的-->C；B上的全部-->C."
   ]
  },
  {
   "cell_type": "code",
   "execution_count": 15,
   "metadata": {},
   "outputs": [
    {
     "name": "stdout",
     "output_type": "stream",
     "text": [
      "[3, 2, 1, 0]\n",
      "[1, 0]\n"
     ]
    }
   ],
   "source": [
    "class Solution:\n",
    "    def hanota(self, A, B, C) -> None:\n",
    "        \"\"\"\n",
    "        Do not return anything, modify C in-place instead.\n",
    "        \"\"\"\n",
    "        def hanoi(n,x,y,z):\n",
    "            if n == 1:\n",
    "                z.append(x.pop())\n",
    "                return\n",
    "            else:\n",
    "                hanoi(n-1,x,z,y)\n",
    "                hanoi(1,x,y,z)\n",
    "                hanoi(n-1,y,x,z)\n",
    "                \n",
    "        hanoi(len(A),A,B,C)\n",
    "\n",
    "        \n",
    "s = Solution()\n",
    "a1 = list([3, 2, 1, 0])\n",
    "a2 = list([1, 0])\n",
    "b1 = list()\n",
    "b2 = list()\n",
    "c1 = list()\n",
    "c2 = list()\n",
    "\n",
    "s.hanota(a1, b1, c1)\n",
    "print(c1)\n",
    "s.hanota(a2, b2, c2)\n",
    "print(c2)"
   ]
  },
  {
   "cell_type": "code",
   "execution_count": null,
   "metadata": {},
   "outputs": [],
   "source": []
  }
 ],
 "metadata": {
  "kernelspec": {
   "display_name": "Python 3",
   "language": "python",
   "name": "python3"
  },
  "language_info": {
   "codemirror_mode": {
    "name": "ipython",
    "version": 3
   },
   "file_extension": ".py",
   "mimetype": "text/x-python",
   "name": "python",
   "nbconvert_exporter": "python",
   "pygments_lexer": "ipython3",
   "version": "3.7.7"
  }
 },
 "nbformat": 4,
 "nbformat_minor": 4
}
