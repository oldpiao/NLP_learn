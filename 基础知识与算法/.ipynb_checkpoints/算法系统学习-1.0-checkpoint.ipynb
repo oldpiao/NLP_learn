{
 "cells": [
  {
   "cell_type": "markdown",
   "metadata": {},
   "source": [
    "# 算法系统学习\n",
    "\n",
    "## 学习计划\n",
    "\n",
    "**算法**\n",
    "- 二分搜索 Binary Search \n",
    "- 分治 Divide Conquer \n",
    "- 宽度优先搜索 Breadth First Search \n",
    "- 深度优先搜索 Depth First Search\n",
    "- 回溯法 Backtracking \n",
    "- 双指针 Two Pointers \n",
    "- 动态规划 Dynamic Programming \n",
    "- 扫描线 Scan-line algorithm\n",
    "- 快排 Quick Sort\n",
    "\n",
    "**数据结构**\n",
    "- 栈 Stack\n",
    "- 队列 Queue\n",
    "- 链表 Linked List \n",
    "- 数组 Array \n",
    "- 哈希表 Hash Table\n",
    "- 二叉树 Binary Tree  \n",
    "- 堆 Heap\n",
    "- 并查集 Union Find\n",
    "- 字典树 Trie"
   ]
  },
  {
   "cell_type": "markdown",
   "metadata": {},
   "source": [
    "### 尾部的零"
   ]
  },
  {
   "cell_type": "code",
   "execution_count": null,
   "metadata": {},
   "outputs": [],
   "source": [
    "class Solution:\n",
    "    \"\"\"\n",
    "    @param: n: An integer\n",
    "    @return: An integer, denote the number of trailing zeros in n!\n",
    "    \"\"\"\n",
    "    def trailingZeros(self, n):\n",
    "        # write your code here, try to do it without arithmetic operators.\n",
    "        m1 = m2 = n // 5\n",
    "        while True:\n",
    "            m2 = m2 // 5\n",
    "            if m2 == 0:\n",
    "                return m1\n",
    "            m1 += m2\n"
   ]
  },
  {
   "cell_type": "code",
   "execution_count": null,
   "metadata": {},
   "outputs": [],
   "source": []
  }
 ],
 "metadata": {
  "kernelspec": {
   "display_name": "pytorch",
   "language": "python",
   "name": "pytorch"
  },
  "language_info": {
   "codemirror_mode": {
    "name": "ipython",
    "version": 3
   },
   "file_extension": ".py",
   "mimetype": "text/x-python",
   "name": "python",
   "nbconvert_exporter": "python",
   "pygments_lexer": "ipython3",
   "version": "3.7.8"
  }
 },
 "nbformat": 4,
 "nbformat_minor": 4
}
