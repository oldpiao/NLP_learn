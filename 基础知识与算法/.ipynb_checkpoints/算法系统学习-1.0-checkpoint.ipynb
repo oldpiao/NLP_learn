{
 "cells": [
  {
   "cell_type": "markdown",
   "metadata": {},
   "source": [
    "# 算法系统学习\n",
    "\n",
    "## 学习计划\n",
    "\n",
    "**算法**\n",
    "- 二分搜索 Binary Search \n",
    "- 分治 Divide Conquer \n",
    "- 宽度优先搜索 Breadth First Search \n",
    "- 深度优先搜索 Depth First Search\n",
    "- 回溯法 Backtracking \n",
    "- 双指针 Two Pointers \n",
    "- 动态规划 Dynamic Programming \n",
    "- 扫描线 Scan-line algorithm\n",
    "- 快排 Quick Sort\n",
    "\n",
    "**数据结构**\n",
    "- 栈 Stack\n",
    "- 队列 Queue\n",
    "- 链表 Linked List \n",
    "- 数组 Array \n",
    "- 哈希表 Hash Table\n",
    "- 二叉树 Binary Tree  \n",
    "- 堆 Heap\n",
    "- 并查集 Union Find\n",
    "- 字典树 Trie"
   ]
  },
  {
   "cell_type": "markdown",
   "metadata": {},
   "source": [
    "# 目录\n",
    "- [算法常用基础知识](#算法常用基础知识)\n",
    "- [数学](#数学)\n",
    "    - [尾部的零](#尾部的零)-完成\n",
    "    - [斐波纳契数列](#斐波纳契数列)-完成\n",
    "    - [x的平方根](#x的平方根)-完成\n",
    "    - [大整数乘法](#大整数乘法)-完成\n",
    "    - [骰子求和](#骰子求和)-完成\n",
    "    - [最多有多少个点在一条直线上](#最多有多少个点在一条直线上)-完成\n",
    "    - [超级丑数](#超级丑数)-完成\n",
    "    - [2出现的次数](#2出现的次数)-完成\n",
    "- [比特位操作](#比特位操作)\n",
    "    - [将整数A转换为B](#将整数A转换为B)-完成\n",
    "    - [更新二进制位](#更新二进制位)-完成\n",
    "    - [二进制表示](#二进制表示)\n",
    "    - [O(1)时间检测2的幂次](#O(1)时间检测2的幂次)\n",
    "    - [二进制中有多少个1](#二进制中有多少个1)\n",
    "- [动态规划](#动态规划)\n",
    "    - [编辑距离](#编辑距离)-完成\n",
    "    - [正则表达式匹配](#正则表达式匹配)-完成\n",
    "    - [交叉字符串](#交叉字符串)-完成\n",
    "    - [乘积最大子序列](#乘积最大子序列)-完成\n",
    "    - [二叉树中的最大路径和](#二叉树中的最大路径和)\n",
    "    - [不同的路径](#不同的路径)\n",
    "    - [通配符匹配](#通配符匹配)\n",
    "- [堆](#堆)\n",
    "    - [滑动窗口的中位数](#滑动窗口的中位数)-完成\n",
    "    - [数据流中位数](#数据流中位数)\n",
    "    - [最高频的K个单词](#最高频的K个单词)\n",
    "    - [接雨水](#接雨水)\n",
    "    - [堆化](#堆化)\n",
    "    - [排序矩阵中的从小到大第k个数](#排序矩阵中的从小到大第k个数)\n",
    "- [二叉树](#二叉树)\n",
    "    - [二叉树中序遍历](#二叉树中序遍历)-完成\n",
    "    - [二叉树的序列化和反序列化](#二叉树的序列化和反序列化)\n",
    "    - [子树](#子树)\n",
    "    - [最近公共祖先](#最近公共祖先)\n",
    "    - [二叉树的层次遍历](#二叉树的层次遍历)\n",
    "    - [将二叉树拆成链表](#将二叉树拆成链表)\n",
    "    - [在二叉查找树中插入节点](#在二叉查找树中插入节点)\n",
    "- [二分法](#二分法)\n",
    "    - [经典二分查找问题](#经典二分查找问题)-完成\n",
    "    - [二分查找](#二分查找)-完成\n",
    "    - [两数组的交](#两数组的交)\n",
    "    - [区间最小数](#区间最小数)\n",
    "    - [寻找旋转排序数组中的最小值](#寻找旋转排序数组中的最小值)\n",
    "    - [搜索排序区间](#搜索排序区间)\n",
    "    - [寻找峰值](#寻找峰值)\n",
    "- [分治法](#分治法)\n",
    "    - [快速幂](#快速幂)-完成\n",
    "    - [两个排序数组的中位数](#两个排序数组的中位数)\n",
    "    - [合并K个排序链表](#合并K个排序链表)\n",
    "- [哈希表](#哈希表)\n",
    "    - [变形词子串](#变形词子串)-完成\n",
    "    - [哈希函数](#哈希函数)\n",
    "    - [短网址](#短网址)\n",
    "    - [复制带随机指针的链表](#复制带随机指针的链表)\n",
    "    - [最小子串覆盖](#最小子串覆盖)\n",
    "- [矩阵](#矩阵)\n",
    "    - [搜索二维矩阵](#搜索二维矩阵)-完成\n",
    "    - [旋转图像](#旋转图像)\n",
    "    - [岛屿的个数](#岛屿的个数)\n",
    "    - [螺旋矩阵](#螺旋矩阵)\n",
    "- [宽度优先搜索](#宽度优先搜索)\n",
    "    - [克隆图](#克隆图)-完成\n",
    "    - [被围绕的区域](#被围绕的区域)\n",
    "    - [拓扑排序](#拓扑排序)\n",
    "    - [单词接龙](#单词接龙)\n",
    "- [链表](#链表)\n",
    "    - [实现一个链表的反转](#实现一个链表的反转)-完成\n",
    "    - [链表求和&nbsp;II](#链表求和&nbsp;II)\n",
    "    - [删除链表中的元素](#删除链表中的元素)\n",
    "    - [LRU缓存策略](#LRU缓存策略)\n",
    "    - [合并两个排序链表](#合并两个排序链表)\n",
    "    - [两个链表的交叉](#两个链表的交叉)\n",
    "    - [翻转链表&nbsp;II](#翻转链表&nbsp;II)\n",
    "    - [复制带随机指针的链表](#复制带随机指针的链表)\n",
    "    - [带环链表](#带环链表)\n",
    "- [枚举法](#枚举法)\n",
    "    - [统计数字](#统计数字)-完成\n",
    "    - [名人确认](#名人确认)\n",
    "    - [最长连续上升子序列](#最长连续上升子序列)\n",
    "    - [最大子数组差](#最大子数组差)\n",
    "    - [最长公共前缀](#最长公共前缀)\n",
    "- [排序](#排序)\n",
    "    - [快排](#快排)-完成\n",
    "    - [摆动排序](#摆动排序)\n",
    "    - [最大间距](#最大间距)\n",
    "    - [最接近零的子数组和](#最接近零的子数组和)\n",
    "    - [最大数](#最大数)\n",
    "    - [四数之和](#四数之和)\n",
    "    - [数组划分](#数组划分) -在数组中\n",
    "    - [第K大元素](#第K大元素)\n",
    "    - [排颜色](#排颜色)\n",
    "- [深度优先搜索](#深度优先搜索)\n",
    "    - [N皇后问题](#N皇后问题)\n",
    "    - [图是否是树](#图是否是树)\n",
    "    - [带重复元素的排列](#带重复元素的排列)\n",
    "    - [分割回文串](#分割回文串)\n",
    "- [数组](#数组)\n",
    "    - [根据身高重建队列](#根据身高重建队列)-完成\n",
    "    - [数组划分](#数组划分)\n",
    "    - [逆序对](#逆序对)\n",
    "    - [合并区间](#合并区间)\n",
    "    - [搜索旋转排序数组](#搜索旋转排序数组)\n",
    "    - [最大子数组](#最大子数组)\n",
    "    - [删除排序数组中的重复数字](#删除排序数组中的重复数字)\n",
    "    - [第二大的数组](#第二大的数组)\n",
    "    - [先递增后递减数组中的最大值](#先递增后递减数组中的最大值)\n",
    "    - [两数和&nbsp;-&nbsp;输入的数据是有序的](#两数和&nbsp;-&nbsp;输入的数据是有序的)\n",
    "    - [两个排序数组的中位数](#两个排序数组的中位数)\n",
    "    - [在大数组中查找](#在大数组中查找)\n",
    "    - [颜色分类](#颜色分类)\n",
    "    - [合并排序数组](#合并排序数组)\n",
    "    - [无序数组K小元素](#无序数组K小元素)\n",
    "    - [中位数](#中位数)\n",
    "    - [奇偶分割数组](#奇偶分割数组)\n",
    "- [贪心](#贪心)\n",
    "    - [主元素](#主元素)\n",
    "    - [寻找缺失的数](#寻找缺失的数)\n",
    "    - [买卖股票最佳时机](#买卖股票最佳时机)\n",
    "    - [加油站](#加油站)\n",
    "    - [删除数字](#删除数字)\n",
    "    - [落单的数](#落单的数)\n",
    "    - [最大子数组差](#最大子数组差)\n",
    "- [线段树](#线段树)\n",
    "    - [线段树查询](#线段树查询)\n",
    "    - [线段树的构造](#线段树的构造)\n",
    "    - [线段树的修改](#线段树的修改)\n",
    "    - [区间求和](#区间求和)\n",
    "    - [统计比给定整数小的数的个数](#统计比给定整数小的数的个数)\n",
    "- [栈](#栈)\n",
    "    - [带最小值操作的栈](#带最小值操作的栈)\n",
    "    - [用栈实现队列](#用栈实现队列)\n",
    "    - [有效的括号序列](#有效的括号序列)\n",
    "    - [简化路径](#简化路径)\n",
    "- [整数](#整数)\n",
    "    - [反转整数](#反转整数)\n",
    "    - [将整数A转换为B](#将整数A转换为B)\n",
    "    - [整数排序](#整数排序)\n",
    "- [字符串处理](#字符串处理)\n",
    "    - [罗马数字转整数](#罗马数字转整数)\n",
    "    - [回文数](#回文数)\n",
    "    - [乱序字符串](#乱序字符串)\n",
    "    - [有效回文串](#有效回文串)\n",
    "    - [翻转字符串](#翻转字符串)\n",
    "    - [最长无重复字符的子串](#最长无重复字符的子串)\n",
    "    - [字符串压缩](#字符串压缩)\n",
    "    - [比较字符串](#比较字符串)\n",
    "    - [编辑距离II](#编辑距离II)"
   ]
  },
  {
   "cell_type": "markdown",
   "metadata": {},
   "source": [
    "### 算法常用基础知识"
   ]
  },
  {
   "cell_type": "code",
   "execution_count": 26,
   "metadata": {},
   "outputs": [],
   "source": [
    "# 通过位运算实现奇偶判断与对2整除\n",
    "# 奇偶判断\n",
    "assert 5 & 1 == 1\n",
    "assert 4 & 1 == 0\n",
    "assert -5 & 1 == 1\n",
    "assert -4 & 1 == 0\n",
    "# 对2整除\n",
    "assert 5 >> 1 == 2\n",
    "assert 4 >> 1 == 2\n",
    "assert -5 >> 1 == -3\n",
    "assert -4 >> 1 == -2"
   ]
  },
  {
   "cell_type": "code",
   "execution_count": 24,
   "metadata": {},
   "outputs": [
    {
     "data": {
      "text/plain": [
       "(-3, '-0b101', '-0b11', -3)"
      ]
     },
     "execution_count": 24,
     "metadata": {},
     "output_type": "execute_result"
    }
   ],
   "source": [
    "-5 >> 1, bin(-5), bin(-5 >> 1), -5 // 2"
   ]
  },
  {
   "cell_type": "markdown",
   "metadata": {},
   "source": [
    "## 数学\n",
    "[回到顶部](#目录)\n"
   ]
  },
  {
   "cell_type": "markdown",
   "metadata": {},
   "source": [
    "### 尾部的零\n",
    "\n",
    "[回到顶部](#目录)-[题目链接](https://link.zhihu.com/?target=https%3A//www.lintcode.com/problem/fibonacci/%3Futm_source%3Dzhihuanswer%26source%3Dzhihuanswer)"
   ]
  },
  {
   "cell_type": "code",
   "execution_count": 2,
   "metadata": {},
   "outputs": [],
   "source": [
    "class Solution:\n",
    "    \"\"\"\n",
    "    @param: n: An integer\n",
    "    @return: An integer, denote the number of trailing zeros in n!\n",
    "    \"\"\"\n",
    "    def trailingZeros(self, n):\n",
    "        # write your code here, try to do it without arithmetic operators.\n",
    "        m1 = m2 = n // 5\n",
    "        while True:\n",
    "            m2 = m2 // 5\n",
    "            if m2 == 0:\n",
    "                return m1\n",
    "            m1 += m2"
   ]
  },
  {
   "cell_type": "markdown",
   "metadata": {},
   "source": [
    "### 斐波纳契数列\n",
    "\n",
    "[回到顶部](#目录)-[题目链接](https://link.zhihu.com/?target=https%3A//www.lintcode.com/problem/fibonacci/%3Futm_source%3Dzhihuanswer%26source%3Dzhihuanswer)"
   ]
  },
  {
   "cell_type": "markdown",
   "metadata": {},
   "source": [
    "### x的平方根\n",
    "\n",
    "[回到顶部](#目录)-[题目链接](https://link.zhihu.com/?target=https%3A//www.lintcode.com/problem/sqrtx/descriptionhttps%3A//www.lintcode.com/problem/multiply-strings/descriptionhttps%3A//www.lintcode.com/problem/dices-sum/description%3Futm_source%3Dzhihuanswer%26source%3Dzhihuanswer)"
   ]
  },
  {
   "cell_type": "code",
   "execution_count": 3,
   "metadata": {},
   "outputs": [],
   "source": [
    "import math\n",
    "\n",
    "\n",
    "class Solution:\n",
    "    \"\"\"\n",
    "    @param x: An integer\n",
    "    @return: The sqrt of x\n",
    "    \"\"\"\n",
    "    def sqrt(self, x):\n",
    "        # write your code here\n",
    "        if x == 0:\n",
    "            return 0\n",
    "        if x == 1:\n",
    "            return 1\n",
    "        res = x // 2\n",
    "        while True:\n",
    "            if res**2 <= x and (res+1)**2 > x:\n",
    "                return res\n",
    "            else:\n",
    "                res = (res**2 + x) // (2 * res)\n",
    "\n",
    "s = Solution()\n",
    "for i in range(1000):\n",
    "    assert s.sqrt(i) == int(math.sqrt(i))"
   ]
  },
  {
   "cell_type": "markdown",
   "metadata": {},
   "source": [
    "### 大整数乘法\n",
    "\n",
    "[回到顶部](#目录)-[题目链接](https://link.zhihu.com/?target=https%3A//www.lintcode.com/problem/multiply-strings/descriptionhttps%3A//www.lintcode.com/problem/dices-sum/description%3Futm_source%3Dzhihuanswer%26source%3Dzhihuanswer)"
   ]
  },
  {
   "cell_type": "code",
   "execution_count": 4,
   "metadata": {},
   "outputs": [],
   "source": [
    "class Solution:\n",
    "    \"\"\"\n",
    "    @param num1: a non-negative integers\n",
    "    @param num2: a non-negative integers\n",
    "    @return: return product of num1 and num2\n",
    "    \"\"\"\n",
    "    def multiply(self, num1, num2):\n",
    "        # write your code here\n",
    "        str_num1, str_num2 = str(num1), str(num2)\n",
    "        len_num1, len_num2 = len(str_num1), len(str_num2)\n",
    "        return str(self._multiply(str_num1, str_num2, len_num1, len_num2))\n",
    "    \n",
    "    def _multiply(self, str_n1, str_n2, len_n1, len_n2):\n",
    "        if len_n1 == 1 or len_n2 == 1:\n",
    "            return int(str_n1) * int(str_n2)\n",
    "\n",
    "        len_n1_h = len_n1 // 2\n",
    "        len_n1_l = len_n1 - len_n1_h\n",
    "        n1_h, n1_l = str_n1[: len_n1_h], str_n1[len_n1_h:]\n",
    "\n",
    "        len_n2_h = len_n2 // 2\n",
    "        len_n2_l = len_n2 - len_n2_h\n",
    "        n2_h, n2_l = str_n2[: len_n2_h], str_n2[len_n2_h:]\n",
    "        \n",
    "        n_hh = self._multiply(n1_h, n2_h, len_n1_h, len_n2_h) * 10**(len_n1_l + len_n2_l) \n",
    "        n_hl = self._multiply(n1_h, n2_l, len_n1_h, len_n2_l) * 10**(len_n1_l)\n",
    "        n_lh = self._multiply(n1_l, n2_h, len_n1_l, len_n2_h) * 10**(len_n2_l)\n",
    "        n_ll = self._multiply(n1_l, n2_l, len_n1_l, len_n2_l)\n",
    "        return n_hh + n_hl + n_lh + n_ll\n",
    "\n",
    "\n",
    "s = Solution()\n",
    "assert s.multiply(12345, 56789) == str(12345 * 56789)"
   ]
  },
  {
   "cell_type": "markdown",
   "metadata": {},
   "source": [
    "### 骰子求和\n",
    "\n",
    "[回到顶部](#目录)-[题目链接](https://link.zhihu.com/?target=https%3A//www.lintcode.com/problem/dices-sum/description%3Futm_source%3Dzhihuanswer%26source%3Dzhihuanswer)"
   ]
  },
  {
   "cell_type": "code",
   "execution_count": 5,
   "metadata": {},
   "outputs": [
    {
     "name": "stdout",
     "output_type": "stream",
     "text": [
      "[[1, 0.16666666666666666], [2, 0.16666666666666666], [3, 0.16666666666666666], [4, 0.16666666666666666], [5, 0.16666666666666666], [6, 0.16666666666666666]]\n",
      "1 [0]\n",
      "2 [0, 1]\n",
      "3 [0, 1, 2]\n",
      "4 [0, 1, 2, 3]\n",
      "5 [0, 1, 2, 3, 4]\n",
      "6 [0, 1, 2, 3, 4, 5]\n",
      "7 [1, 2, 3, 4, 5, 6]\n",
      "8 [2, 3, 4, 5, 6, 7]\n",
      "9 [3, 4, 5, 6, 7, 8]\n",
      "10 [4, 5, 6, 7, 8, 9]\n",
      "11 [5, 6, 7, 8, 9, 10]\n",
      "[[2, 0.027777777777777776], [3, 0.05555555555555555], [4, 0.08333333333333333], [5, 0.1111111111111111], [6, 0.13888888888888887], [7, 0.16666666666666666], [8, 0.13888888888888887], [9, 0.1111111111111111], [10, 0.08333333333333333], [11, 0.05555555555555555], [12, 0.027777777777777776]]\n"
     ]
    }
   ],
   "source": [
    "class Solution:\n",
    "    # @param {int} n an integer\n",
    "    # @return {tuple[]} a list of tuple(sum, probability)\n",
    "    \n",
    "    def dicesSum(self, n):\n",
    "        # Write your code here\n",
    "        prob_list = self._dicesSum(n)\n",
    "        return [[k, i]for k, i in enumerate(prob_list[n-1:], n)]\n",
    "    \n",
    "    def _dicesSum(self, n):\n",
    "        prob_list = [1/6 for i in range(6)]\n",
    "        if n == 1:\n",
    "            return prob_list\n",
    "        for i in range(1, n):\n",
    "            dice = i + 1  # 几个骰子\n",
    "            n_pro_list = [0 for j in range(6 * dice)]\n",
    "            for k in range(i, 6 * dice):\n",
    "                # dice-1个骰子时投出小于k的点数的概率, 由于当前骰子最大点数为6，所以仅往前看6位\n",
    "                # 每个点数出现的概率是1/6，所以要除以6\n",
    "                print(k, list(range(max(k-6, i-1), min(k, 6 * dice-1))))\n",
    "                n_pro_list[k] = sum([prob_list[m] for m in range(max(k-6, i-1), min(k, 6 * (dice-1)))]) / 6\n",
    "            prob_list = n_pro_list\n",
    "        return prob_list\n",
    "        \n",
    "s = Solution()\n",
    "print(s.dicesSum(1))\n",
    "print(s.dicesSum(2))"
   ]
  },
  {
   "cell_type": "markdown",
   "metadata": {},
   "source": [
    "### 最多有多少个点在一条直线上\n",
    "\n",
    "[回到顶部](#目录)-[题目链接](https://link.zhihu.com/?target=http%3A//www.lintcode.com/zh-cn/problem/max-points-on-a-line/)"
   ]
  },
  {
   "cell_type": "code",
   "execution_count": 6,
   "metadata": {},
   "outputs": [
    {
     "name": "stdout",
     "output_type": "stream",
     "text": [
      "3\n",
      "4\n",
      "5\n"
     ]
    }
   ],
   "source": [
    "# 别人的代码\n",
    "class Point:\n",
    "    def __init__(self, a=0, b=0):\n",
    "        self.x = a\n",
    "        self.y = b\n",
    "\n",
    "        \n",
    "class Solution:\n",
    "    \"\"\"\n",
    "    @param points: an array of point\n",
    "    @return: An integer\n",
    "    \"\"\"\n",
    "    def maxPoints(self, points):\n",
    "        # write your code here\n",
    "        if not points:\n",
    "            return 0\n",
    "\n",
    "        n = len(points)\n",
    "        \n",
    "        max_l = 0\n",
    "        for i in range(n):\n",
    "            p1 = points[i]\n",
    "            gradient2count = {}\n",
    "            infinites,duplicates = 0, 0\n",
    "            for j in range(i, n):\n",
    "                p2 = points[j]\n",
    "                dx, dy = p1.x - p2.x, p1.y - p2.y\n",
    "                if dx == 0 and dy == 0:\n",
    "                    duplicates += 1\n",
    "                if dx == 0:\n",
    "                    infinites += 1\n",
    "                else:\n",
    "                    g = dy / dx\n",
    "                    gradient2count[g] = gradient2count.get(g, 0) + 1\n",
    "            \n",
    "            max_l = max(max_l, infinites)\n",
    "            for g, count in gradient2count.items():\n",
    "                max_l = max(max_l, count + duplicates)\n",
    "            \n",
    "        return max_l\n",
    "\n",
    "        \n",
    "s = Solution()\n",
    "points = [Point(a, b) for a, b in [(1,2),(3,6),(0,0),(1,3)]]\n",
    "print(s.maxPoints(points))\n",
    "points = [Point(a, b) for a, b in [(1,2),(1,2),(3,6),(0,0),(1,3)]]\n",
    "print(s.maxPoints(points))\n",
    "points = [Point(a, b) for a, b in [(1,2),(1,2),(1,2),(3,6),(0,0),(1,3)]]\n",
    "print(s.maxPoints(points))"
   ]
  },
  {
   "cell_type": "markdown",
   "metadata": {},
   "source": [
    "### 超级丑数\n",
    "\n",
    "[回到顶部](#目录)-[题目链接](https://www.lintcode.com/problem/super-ugly-number/description)\n",
    "\n",
    "- 动态比较每个质数与丑数的乘积；\n",
    "- 开始都乘第1个丑数；\n",
    "- 谁乘出的小，把谁的乘出的丑数加进去，并更新该质数的丑数为乘以第2个丑数的积；\n",
    "- 再比较，再添加；\n",
    "- 注意重复出现的数，如2*7与7*2，仅需比较找出的最小丑数与上次的丑数是否相同即可"
   ]
  },
  {
   "cell_type": "code",
   "execution_count": 7,
   "metadata": {},
   "outputs": [
    {
     "name": "stdout",
     "output_type": "stream",
     "text": [
      "[1, 2, 4, 7, 8, 13]\n",
      "[1, 2, 3, 4, 5, 6, 8, 9, 10, 12, 15]\n"
     ]
    }
   ],
   "source": [
    "class Solution:\n",
    "    \"\"\"\n",
    "    @param n: a positive integer\n",
    "    @param primes: the given prime list\n",
    "    @return: the nth super ugly number\n",
    "    \"\"\"\n",
    "    def nthSuperUglyNumber(self, n, primes):\n",
    "        # write your code here\n",
    "        if n == 1:\n",
    "            return 1\n",
    "        k = [0 for i in primes]\n",
    "        v = [i for i in primes]\n",
    "        ugly_nums, i = [1], 1\n",
    "        while i < n:\n",
    "            ugly_num = min(v)\n",
    "            if ugly_num != ugly_nums[-1]:\n",
    "                ugly_nums.append(ugly_num)\n",
    "                i += 1\n",
    "            ind = v.index(ugly_nums[-1])\n",
    "            k[ind] += 1\n",
    "            v[ind] = primes[ind] * ugly_nums[k[ind]]            \n",
    "        print(ugly_nums)\n",
    "        return ugly_nums[-1]\n",
    "\n",
    "\n",
    "s = Solution()\n",
    "assert s.nthSuperUglyNumber(6, [2,7,13,19]) == 13\n",
    "assert s.nthSuperUglyNumber(11, [2, 3, 5]) == 15"
   ]
  },
  {
   "cell_type": "markdown",
   "metadata": {},
   "source": [
    "### 2出现的次数\n",
    "\n",
    "[回到顶部](#目录)-[题目链接](https://leetcode-cn.com/problems/number-of-2s-in-range-lcci/)\n",
    "\n",
    "相似题目：[统计数字](#统计数字)"
   ]
  },
  {
   "cell_type": "code",
   "execution_count": 9,
   "metadata": {},
   "outputs": [],
   "source": [
    "class Solution:\n",
    "    def numberOf2sInRange(self, n: int) -> int:\n",
    "        m, rem = n // 10, n % 10\n",
    "        num = 1 if rem >= 2 else 0\n",
    "        exp = 0\n",
    "        while m > 0:\n",
    "            m, rem = m // 10, m % 10\n",
    "            exp += 1\n",
    "            if rem < 2:\n",
    "                num += exp * rem * 10**(exp-1)\n",
    "            elif rem == 2:\n",
    "                num += exp * rem * 10**(exp-1) + 1 + n % 10**exp\n",
    "            else:\n",
    "                num += exp * rem * 10**(exp-1) + 10**exp\n",
    "        return num\n",
    "\n",
    "s = Solution()\n",
    "\n",
    "assert s.numberOf2sInRange(25) == 9\n",
    "assert s.numberOf2sInRange(100) == 20\n",
    "assert s.numberOf2sInRange(251) == 107\n",
    "assert s.numberOf2sInRange(1) == 0\n",
    "assert s.numberOf2sInRange(12) == 2\n",
    "assert s.numberOf2sInRange(19) == 2"
   ]
  },
  {
   "cell_type": "markdown",
   "metadata": {},
   "source": [
    "略微改进，实际没啥变化"
   ]
  },
  {
   "cell_type": "code",
   "execution_count": 9,
   "metadata": {},
   "outputs": [],
   "source": [
    "class Solution:\n",
    "    def numberOf2sInRange(self, n: int) -> int:\n",
    "        exp, m, num = -1, n, 0\n",
    "        while m > 0:\n",
    "            m, rem = m // 10, m % 10\n",
    "            exp += 1\n",
    "            if rem < 2:\n",
    "                num += exp * rem * 10**(exp-1)\n",
    "            elif rem == 2:\n",
    "                num += exp * rem * 10**(exp-1) + 1 + n % 10**exp\n",
    "            else:\n",
    "                num += exp * rem * 10**(exp-1) + 10**exp\n",
    "        return num\n",
    "\n",
    "s = Solution()\n",
    "\n",
    "assert s.numberOf2sInRange(25) == 9\n",
    "assert s.numberOf2sInRange(100) == 20\n",
    "assert s.numberOf2sInRange(251) == 107"
   ]
  },
  {
   "cell_type": "markdown",
   "metadata": {},
   "source": [
    "改成字符串操作,省去整除取余操作"
   ]
  },
  {
   "cell_type": "code",
   "execution_count": 10,
   "metadata": {},
   "outputs": [],
   "source": [
    "class Solution:\n",
    "    def numberOf2sInRange(self, n: int) -> int:\n",
    "        num = 0\n",
    "        for exp, rem in enumerate(str(n)[::-1]):\n",
    "            rem = int(rem)\n",
    "            if rem < 2:\n",
    "                num += exp * rem * 10**(exp-1)\n",
    "            elif rem == 2:\n",
    "                num += exp * rem * 10**(exp-1) + 1 + n % 10**exp\n",
    "            else:\n",
    "                num += exp * rem * 10**(exp-1) + 10**exp\n",
    "        return num\n",
    "\n",
    "\n",
    "s = Solution()\n",
    "\n",
    "assert s.numberOf2sInRange(25) == 9\n",
    "assert s.numberOf2sInRange(100) == 20\n",
    "assert s.numberOf2sInRange(251) == 107"
   ]
  },
  {
   "cell_type": "markdown",
   "metadata": {},
   "source": [
    "## 比特位操作\n",
    "\n",
    "[回到顶部](#目录)\n",
    "由于Python对于负数的表示方法与其他语言不同，所以导致在进行位操作的时候得到的结果与其他语言不同"
   ]
  },
  {
   "cell_type": "markdown",
   "metadata": {},
   "source": [
    "### 将整数A转换为B\n",
    "\n",
    "[回到顶部](#目录)-[题目链接](https://www.lintcode.com/problem/flip-bits/description)"
   ]
  },
  {
   "cell_type": "markdown",
   "metadata": {},
   "source": [
    "## 比特位操作\n",
    "[回到顶部](#目录)\n"
   ]
  },
  {
   "cell_type": "markdown",
   "metadata": {},
   "source": [
    "### 将整数A转换为B\n",
    "\n",
    "[回到顶部](#目录)-[题目链接](https://link.zhihu.com/?target=http%3A//www.lintcode.com/en/problem/flip-bits/)"
   ]
  },
  {
   "cell_type": "code",
   "execution_count": 11,
   "metadata": {},
   "outputs": [],
   "source": [
    "class Solution:\n",
    "    \"\"\"\n",
    "    @param a: An integer\n",
    "    @param b: An integer\n",
    "    @return: An integer\n",
    "    \"\"\"\n",
    "    def bitSwapRequired(self, a, b):\n",
    "        # write your code here\n",
    "        if a < 0:\n",
    "            a = a+2**32\n",
    "        if b < 0:\n",
    "            b = b+2**32\n",
    "        n = 0\n",
    "        while True:\n",
    "            a, a_ren = a//2, a%2\n",
    "            b, b_ren = b//2, b%2\n",
    "            if a_ren != b_ren:\n",
    "                n += 1\n",
    "            # print(a_ren, b_ren, a, b, n)\n",
    "            if a == 0 and b == 0:\n",
    "                return n\n",
    "\n",
    "            \n",
    "s = Solution()\n",
    "assert s.bitSwapRequired(31, 14) == 2\n",
    "assert s.bitSwapRequired(1, 7) == 2\n",
    "assert s.bitSwapRequired(1, -1) == 31"
   ]
  },
  {
   "cell_type": "markdown",
   "metadata": {},
   "source": [
    "### 更新二进制位\n",
    "\n",
    "[回到顶部](#目录)-[题目链接](https://link.zhihu.com/?target=http%3A//www.lintcode.com/en/problem/update-bits/)"
   ]
  },
  {
   "cell_type": "code",
   "execution_count": 12,
   "metadata": {},
   "outputs": [
    {
     "name": "stdout",
     "output_type": "stream",
     "text": [
      "-0b1111101 10\n",
      "-0b1111000000000000000000000001 31\n"
     ]
    }
   ],
   "source": [
    "class Solution:\n",
    "    \"\"\"\n",
    "    @param n: An integer\n",
    "    @param m: An integer\n",
    "    @param i: A bit position\n",
    "    @param j: A bit position\n",
    "    @return: An integer\n",
    "    \"\"\"\n",
    "    def updateBits(self, n, m, i, j):\n",
    "        # write your code here\n",
    "        if j < 31:\n",
    "            left = (-1) << (j + 1)\n",
    "            right = (1 << i) - 1\n",
    "            mask = left | right\n",
    "        else:\n",
    "            mask = (1 << i) - 1\n",
    "        print(bin(mask), len(bin(mask)))\n",
    "        return (n & mask) | (m << i)\n",
    "\n",
    "    \n",
    "s = Solution()\n",
    "assert s.updateBits(1024,21,2,6) == 1108\n",
    "assert s.updateBits(-2,10,24,27) == -83886082"
   ]
  },
  {
   "cell_type": "markdown",
   "metadata": {},
   "source": [
    "### 二进制表示\n",
    "\n",
    "[回到顶部](#目录)-[题目链接](https://link.zhihu.com/?target=http%3A//www.lintcode.com/zh-cn/problem/binary-representation/)"
   ]
  },
  {
   "cell_type": "markdown",
   "metadata": {},
   "source": [
    "### O(1)时间检测2的幂次\n",
    "\n",
    "[回到顶部](#目录)-[题目链接](https://link.zhihu.com/?target=http%3A//www.lintcode.com/zh-cn/problem/o1-check-power-of-2/)"
   ]
  },
  {
   "cell_type": "markdown",
   "metadata": {},
   "source": [
    "### 二进制中有多少个1\n",
    "\n",
    "[回到顶部](#目录)-[题目链接](https://link.zhihu.com/?target=http%3A//www.lintcode.com/zh-cn/problem/count-1-in-binary/)"
   ]
  },
  {
   "cell_type": "markdown",
   "metadata": {},
   "source": [
    "## 动态规划\n",
    "[回到顶部](#目录)\n"
   ]
  },
  {
   "cell_type": "markdown",
   "metadata": {},
   "source": [
    "### 编辑距离\n",
    "\n",
    "[回到顶部](#目录)-[题目链接](https://www.lintcode.com/problem/edit-distance/description)\n",
    "\n",
    "[详解编辑距离(Edit Distance)及其代码实现](https://www.jianshu.com/p/a617d20162cf)"
   ]
  },
  {
   "cell_type": "code",
   "execution_count": 13,
   "metadata": {},
   "outputs": [],
   "source": [
    "class Solution:\n",
    "    \"\"\"\n",
    "    @param word1: A string\n",
    "    @param word2: A string\n",
    "    @return: The minimum number of steps.\n",
    "    \"\"\"\n",
    "    def minDistance(self, word1, word2):\n",
    "        # write your code here\n",
    "        matrix = [[i + j for j in range(len(word2)+1)] for i in range(len(word1)+1)]\n",
    "        for n1, w1 in enumerate(word1, 1):\n",
    "            for n2, w2 in enumerate(word2, 1):\n",
    "                if w1 == w2:\n",
    "                    d = 0\n",
    "                else:\n",
    "                    d = 1\n",
    "                matrix[n1][n2] = min(matrix[n1][n2-1] + 1, matrix[n1-1][n2] + 1, matrix[n1-1][n2-1] + d)\n",
    "        return matrix[-1][-1]\n",
    "    \n",
    "\n",
    "s = Solution()\n",
    "assert s.minDistance(\"horse\", \"ros\") == 3\n",
    "assert s.minDistance(\"intention\", \"execution\") == 5"
   ]
  },
  {
   "cell_type": "markdown",
   "metadata": {},
   "source": [
    "### 正则表达式\n",
    "\n",
    "[回到顶部](#目录)-[题目链接](https://www.lintcode.com/problem/regular-expression-matching/description)"
   ]
  },
  {
   "cell_type": "markdown",
   "metadata": {},
   "source": [
    "#### ERROR\n",
    "\n",
    "[回到顶部](#目录)\n",
    "处理不了最后那个"
   ]
  },
  {
   "cell_type": "code",
   "execution_count": 14,
   "metadata": {},
   "outputs": [],
   "source": [
    "class Solution:\n",
    "    \"\"\"\n",
    "    @param s: A string \n",
    "    @param p: A string includes \".\" and \"*\"\n",
    "    @return: A boolean\n",
    "    \"\"\"\n",
    "    def isMatch(self, s, p):\n",
    "        # write your code here\n",
    "        if p[0] == \"*\":\n",
    "            return False\n",
    "        p2 = []\n",
    "        for i in p:\n",
    "            if i == \"*\":\n",
    "                # if p2[-1][-1] == \"*\":  # 两个连续的*\n",
    "                #     return False\n",
    "                p2[-1] += \"*\"\n",
    "            else:\n",
    "                p2.append(i)\n",
    "        m, n = 0, 0\n",
    "        return self._isMatch(m, n, s, p2)\n",
    "    \n",
    "    def _isMatch(self, m, n, s, p2):\n",
    "        while n < len(s):\n",
    "            if m >= len(p2):\n",
    "                return False\n",
    "            if p2[m][-1] != \"*\":\n",
    "                if s[n] == p2[m] or p2[m] == \".\":\n",
    "                    m += 1\n",
    "                    n += 1\n",
    "                else:\n",
    "                    return False\n",
    "            elif s[n] == p2[m][:-1] or p2[m][:-1] == \".\":\n",
    "                # 贪心算法\n",
    "                t1 = self._isMatch(m, n+1, s, p2)\n",
    "                t2 = self._isMatch(m+1, n+1, s, p2)\n",
    "                t3 = self._isMatch(m+1, n, s, p2)\n",
    "                # print(m, n, t1, t2, t3, t1 or t2 or t3)\n",
    "                return t1 or t2 or t3\n",
    "            else:\n",
    "                m += 1\n",
    "        if m < len(p2):\n",
    "            for i in p2[m:]:\n",
    "                if i[-1] != \"*\":\n",
    "                    return False\n",
    "        return True\n",
    "    \n",
    "    \n",
    "s = Solution()\n",
    "\n",
    "assert s.isMatch(\"aa\",\"a\") == False\n",
    "assert s.isMatch(\"aa\",\"aa\") == True\n",
    "assert s.isMatch(\"aaa\",\"aa\") == False\n",
    "assert s.isMatch(\"aa\", \"a*\") == True\n",
    "assert s.isMatch(\"aa\", \".*\") == True\n",
    "assert s.isMatch(\"ab\", \".*\") == True\n",
    "assert s.isMatch(\"aab\", \"c*a*b\") == True\n",
    "assert s.isMatch(\"aaa\", \"a*a\") == True\n",
    "assert s.isMatch(\"lintcode\", \"*\") == False\n",
    "assert s.isMatch(\"bbbba\", \".*a*a\") == True\n",
    "# assert s.isMatch(\"aaaaaaaaaaaaab\", \"a*a*a*a*a*a*a*a*a*a*c\") == False"
   ]
  },
  {
   "cell_type": "markdown",
   "metadata": {},
   "source": [
    "#### 一个可行的算法\n",
    "[回到顶部](#目录)\n"
   ]
  },
  {
   "cell_type": "code",
   "execution_count": 15,
   "metadata": {},
   "outputs": [],
   "source": [
    "class Solution:\n",
    "    \"\"\"\n",
    "    @param s: A string \n",
    "    @param p: A string includes \".\" and \"*\"\n",
    "    @return: A boolean\n",
    "    \"\"\"\n",
    "    def isMatch(self, s, p):\n",
    "        # write your code here\n",
    "        if p==\"\":\n",
    "            if s ==\"\":\n",
    "                return True\n",
    "            else:\n",
    "                return False\n",
    "        if p[0] == \"*\":\n",
    "            return False\n",
    "        p2 = []\n",
    "        for i in p:\n",
    "            if i == \"*\":\n",
    "                p2[-1] += \"*\"\n",
    "            else:\n",
    "                p2.append(i)\n",
    "        matrix = [[False for j in range(len(p2)+1)] for i in range(len(s)+1)]\n",
    "        matrix[0][0] = True\n",
    "        for n1, i in enumerate(s, 1):\n",
    "            for n2, j in enumerate(p2, 1):\n",
    "                if matrix[n1-1][n2-1] or (j[-1] == \"*\" and matrix[n1-1][n2]):\n",
    "                    for n3, k in enumerate(p2[n2-1:], n2):\n",
    "                        if i == k[0] or k[0] == \".\":\n",
    "                            matrix[n1][n3] = True\n",
    "                        if k[-1] != \"*\":\n",
    "                            break\n",
    "            if sum(matrix[n1]) == 0:\n",
    "                return False\n",
    "        return matrix[-1][-1]\n",
    "    \n",
    "s = Solution()\n",
    "\n",
    "assert s.isMatch(\"aa\",\"a\") == False\n",
    "assert s.isMatch(\"aa\",\"aa\") == True\n",
    "assert s.isMatch(\"aaa\",\"aa\") == False\n",
    "assert s.isMatch(\"aa\", \"a*\") == True\n",
    "assert s.isMatch(\"aa\", \".*\") == True\n",
    "assert s.isMatch(\"ab\", \".*\") == True\n",
    "assert s.isMatch(\"aab\", \"c*a*b\") == True\n",
    "assert s.isMatch(\"aaa\", \"a*a\") == True\n",
    "assert s.isMatch(\"lintcode\", \"*\") == False\n",
    "assert s.isMatch(\"bbbba\", \".*a*a\") == True\n",
    "assert s.isMatch(\"aaaaaaaaaaaaab\", \"a*a*a*a*a*a*a*a*a*a*c\") == False\n",
    "assert s.isMatch(\"lintcode\", \"\") == False"
   ]
  },
  {
   "cell_type": "markdown",
   "metadata": {},
   "source": [
    "#### 别人的代码\n",
    "[回到顶部](#目录)\n"
   ]
  },
  {
   "cell_type": "code",
   "execution_count": 16,
   "metadata": {},
   "outputs": [],
   "source": [
    "class Solution:\n",
    "    \"\"\"\n",
    "    @param s: A string\n",
    "    @param p: A string includes \"?\" and \"*\"\n",
    "    @return: is Match?\n",
    "    \"\"\"\n",
    "    def isMatch(self, s, p):\n",
    "        # write your code here\n",
    "        memo = {}\n",
    "        return self.dfs(s, 0, p, 0, memo)\n",
    "\n",
    "    def dfs(self, s, i, p, j, memo):\n",
    "        if (i, j) in memo:\n",
    "            return memo[(i, j)]\n",
    "        if len(s) == i:\n",
    "            return self.is_valid(p[j:])\n",
    "        if len(p) == j:\n",
    "            return False\n",
    "        #第一种情况是i和jmatch然后看i+1和j是否继续match，这时用的是*可以repeat多次；后面这种情况是*代表的字母直接不要，为0的情况。\n",
    "        if j + 1 < len(p) and p[j + 1] == '*':\n",
    "            matched = (self.is_match_char(s[i], p[j]) and self.dfs(s, i + 1, p, j, memo)) or self.dfs(s, i, p, j + 2, memo)\n",
    "        else:\n",
    "            matched = self.is_match_char(s[i],p[j]) and self.dfs(s, i + 1, p, j + 1, memo)\n",
    "        memo[(i, j)] = matched\n",
    "        return matched\n",
    "\n",
    "    def is_match_char(self, s, p):\n",
    "        return s == p or p == '.'\n",
    "\n",
    "    def is_valid(self, p):\n",
    "        if len(p) % 2 == 1:\n",
    "            return False\n",
    "\n",
    "        for i in range(len(p) // 2):\n",
    "            if p[i * 2 + 1] != '*':\n",
    "                return False\n",
    "\n",
    "        return True\n",
    "\n",
    "\n",
    "s = Solution()\n",
    "\n",
    "assert s.isMatch(\"aa\",\"a\") == False\n",
    "assert s.isMatch(\"aa\",\"aa\") == True\n",
    "assert s.isMatch(\"aaa\",\"aa\") == False\n",
    "assert s.isMatch(\"aa\", \"a*\") == True\n",
    "assert s.isMatch(\"aa\", \".*\") == True\n",
    "assert s.isMatch(\"ab\", \".*\") == True\n",
    "assert s.isMatch(\"aab\", \"c*a*b\") == True\n",
    "assert s.isMatch(\"aaa\", \"a*a\") == True\n",
    "assert s.isMatch(\"lintcode\", \"*\") == False\n",
    "assert s.isMatch(\"bbbba\", \".*a*a\") == True\n",
    "assert s.isMatch(\"aaaaaaaaaaaaab\", \"a*a*a*a*a*a*a*a*a*a*c\") == False"
   ]
  },
  {
   "cell_type": "markdown",
   "metadata": {},
   "source": [
    "### 交叉字符串\n",
    "\n",
    "[回到顶部](#目录)-[题目链接](https://www.lintcode.com/problem/interleaving-string/description)"
   ]
  },
  {
   "cell_type": "code",
   "execution_count": 17,
   "metadata": {},
   "outputs": [],
   "source": [
    "class Solution:\n",
    "    \"\"\"\n",
    "    @param s1: A string\n",
    "    @param s2: A string\n",
    "    @param s3: A string\n",
    "    @return: Determine whether s3 is formed by interleaving of s1 and s2\n",
    "    \"\"\"\n",
    "    def isInterleave(self, s1, s2, s3):\n",
    "        # write your code here\n",
    "        if len(s1) + len(s2) != len(s3):\n",
    "            return False\n",
    "        return self._isInterleave(-len(s1), -len(s2), -len(s3), s1, s2, s3)\n",
    "            \n",
    "    def _isInterleave(self, n1, n2, n3, s1, s2, s3):\n",
    "        if n3 == 0:\n",
    "            return True\n",
    "        status_1, status_2 = False, False\n",
    "        if n1 < 0 and s1[n1] == s3[n3]:\n",
    "            status_1 = self._isInterleave(n1+1, n2, n3+1, s1, s2, s3)\n",
    "        if n2 < 0 and s2[n2] == s3[n3]:\n",
    "            status_2 = self._isInterleave(n1, n2+1, n3+1, s1, s2, s3)\n",
    "        return status_1 or status_2\n",
    "\n",
    "        \n",
    "\n",
    "s = Solution()\n",
    "\n",
    "assert s.isInterleave(\"aabcc\", \"dbbca\", \"aadbbcbcac\") is True\n",
    "assert s.isInterleave(\"\", \"\", \"1\") is False\n",
    "assert s.isInterleave(\"aabcc\", \"dbbca\", \"aadbbbaccc\") is False"
   ]
  },
  {
   "cell_type": "markdown",
   "metadata": {},
   "source": [
    "### 乘积最大子序列\n",
    "\n",
    "[回到顶部](#目录)-[题目链接](https://www.lintcode.com/problem/maximum-product-subarray/description)"
   ]
  },
  {
   "cell_type": "code",
   "execution_count": 18,
   "metadata": {},
   "outputs": [],
   "source": [
    "class Solution:\n",
    "    \"\"\"\n",
    "    @param nums: An array of integers\n",
    "    @return: An integer\n",
    "    \"\"\"\n",
    "    def maxProduct(self, nums):\n",
    "        # write your code here\n",
    "        if len(nums) == 1:\n",
    "            return nums[0]\n",
    "        min_n, max_n, max_mum = nums[0], nums[0], nums[0]\n",
    "        for i in nums[1:]:\n",
    "            n1 = min_n * i\n",
    "            n2 = max_n * i\n",
    "            min_n = min(n1, n2, i)\n",
    "            max_n = max(n1, n2, i)\n",
    "            if max_mum < max_n:\n",
    "                max_mum = max_n\n",
    "        return max_mum\n",
    "                \n",
    "\n",
    "        \n",
    "s = Solution()\n",
    "\n",
    "assert s.maxProduct([2,3,-2,4]) == 6\n",
    "assert s.maxProduct([2,3,-2,4,-2]) == 96\n",
    "assert s.maxProduct([-1,2,4,1]) == 8"
   ]
  },
  {
   "cell_type": "markdown",
   "metadata": {},
   "source": [
    "原以为该方法更好，但实际操作发现，该方法反而更慢（打败24%，上面那个打败35%）"
   ]
  },
  {
   "cell_type": "code",
   "execution_count": 19,
   "metadata": {},
   "outputs": [],
   "source": [
    "class Solution:\n",
    "    \"\"\"\n",
    "    @param nums: An array of integers\n",
    "    @return: An integer\n",
    "    \"\"\"\n",
    "    def maxProduct(self, nums):\n",
    "        # write your code here\n",
    "        if len(nums) == 1:\n",
    "            return nums[0]\n",
    "        min_n, max_n, max_mum = nums[0], nums[0], nums[0]\n",
    "        for i in nums[1:]:\n",
    "            if i < 0:\n",
    "                max_n, min_n = min_n, max_n\n",
    "            min_n = min(min_n * i, i)\n",
    "            max_n = max(max_n * i, i)\n",
    "            max_mum = max(max_mum, max_n)\n",
    "        return max_mum\n",
    "                \n",
    "\n",
    "        \n",
    "s = Solution()\n",
    "\n",
    "assert s.maxProduct([2,3,-2,4]) == 6\n",
    "assert s.maxProduct([2,3,-2,4,-2]) == 96\n",
    "assert s.maxProduct([-1,2,4,1]) == 8"
   ]
  },
  {
   "cell_type": "markdown",
   "metadata": {},
   "source": [
    "### 二叉树中的最大路径和\n",
    "\n",
    "[回到顶部](#目录)-[题目链接](https://link.zhihu.com/?target=http%3A//www.lintcode.com/en/problem/binary-tree-maximum-path-sum/)"
   ]
  },
  {
   "cell_type": "markdown",
   "metadata": {},
   "source": [
    "### 不同的路径\n",
    "\n",
    "[回到顶部](#目录)-[题目链接](https://link.zhihu.com/?target=http%3A//www.lintcode.com/en/problem/unique-paths/)"
   ]
  },
  {
   "cell_type": "markdown",
   "metadata": {},
   "source": [
    "### 通配符匹配\n",
    "\n",
    "[回到顶部](#目录)-[题目链接](https://link.zhihu.com/?target=http%3A//www.lintcode.com/en/problem/wildcard-matching/)"
   ]
  },
  {
   "cell_type": "markdown",
   "metadata": {},
   "source": [
    "## 堆\n",
    "[回到顶部](#目录)\n"
   ]
  },
  {
   "cell_type": "code",
   "execution_count": 5,
   "metadata": {},
   "outputs": [
    {
     "name": "stdout",
     "output_type": "stream",
     "text": [
      "[0, 1, 2, 6, 3, 5, 4, 7, 8, 9]\n",
      "[0, 1, 2, 3, 4, 5, 6, 7, 8, 9]\n",
      "[1, 2, 3, 5, 9, 5]\n",
      "9\n",
      "[1, 2, 3, 5, 5, 9]\n"
     ]
    }
   ],
   "source": [
    "import heapq\n",
    "\n",
    "heap = []\n",
    "data = [1,3,5,7,9,2,4,6,8,0]\n",
    "for i in data:\n",
    "    heapq.heappush(heap,i)\n",
    "print(heap)\n",
    "\n",
    "lis = []\n",
    "while heap:\n",
    "    lis.append(heapq.heappop(heap))\n",
    "print(lis)\n",
    "\n",
    "#2 heapify生成堆+ heappop把堆从小到大pop出来 \n",
    "data2 = [1,5,3,2,9,5]\n",
    "heapq.heapify(data2)\n",
    "print(data2)\n",
    "print(data2[4])\n",
    "\n",
    "lis2 = []\n",
    "while data2:\n",
    "    lis2.append(heapq.heappop(data2))\n",
    "print(lis2)"
   ]
  },
  {
   "cell_type": "markdown",
   "metadata": {},
   "source": [
    "### 滑动窗口的中位数\n",
    "\n",
    "[回到顶部](#目录)-[题目链接](https://link.zhihu.com/?target=http%3A//www.lintcode.com/en/problem/sliding-window-median/)-[题解](https://www.cnblogs.com/xiximayou/archive/2004/01/13/12422651.html)"
   ]
  },
  {
   "cell_type": "code",
   "execution_count": 17,
   "metadata": {},
   "outputs": [],
   "source": [
    "class Solution:\n",
    "    \"\"\"\n",
    "    @param nums: A list of integers\n",
    "    @param k: An integer\n",
    "    @return: The median of the element inside the window at each moving\n",
    "    \"\"\"\n",
    "    def medianSlidingWindow(self, nums, k):\n",
    "        # write your code here\n",
    "        if k == 0:\n",
    "            return []\n",
    "        import bisect\n",
    "        window = nums[:k]\n",
    "        window.sort()\n",
    "        med_index = k//2 - 1 if k % 2 == 0 else k//2\n",
    "        med_list = [window[med_index]]\n",
    "        for left, right in zip(nums[:-k], nums[k:]):\n",
    "            window.pop(bisect.bisect_left(window, left))\n",
    "            bisect.insort_right(window, right)\n",
    "            med_list.append(window[med_index])\n",
    "        return med_list\n",
    "        \n",
    "\n",
    "        \n",
    "s = Solution()\n",
    "assert s.medianSlidingWindow([1,2,7,8,5], 3) == [2,7,7]\n",
    "assert s.medianSlidingWindow([1,2,3,4,5,6,7], 4) == [2,3,4,5]"
   ]
  },
  {
   "cell_type": "markdown",
   "metadata": {},
   "source": [
    "### 数据流中位数\n",
    "\n",
    "[回到顶部](#目录)-[题目链接](https://link.zhihu.com/?target=http%3A//www.lintcode.com/en/problem/data-stream-median/)"
   ]
  },
  {
   "cell_type": "markdown",
   "metadata": {},
   "source": [
    "### 最高频的K个单词\n",
    "\n",
    "[回到顶部](#目录)-[题目链接](https://link.zhihu.com/?target=http%3A//www.lintcode.com/en/problem/top-k-frequent-words/)"
   ]
  },
  {
   "cell_type": "markdown",
   "metadata": {},
   "source": [
    "### 超级丑数\n",
    "\n",
    "[回到顶部](#目录)-[题目链接](https://link.zhihu.com/?target=http%3A//www.lintcode.com/zh-cn/problem/super-ugly-number/)"
   ]
  },
  {
   "cell_type": "markdown",
   "metadata": {},
   "source": [
    "### 接雨水\n",
    "\n",
    "[回到顶部](#目录)-[题目链接](https://link.zhihu.com/?target=http%3A//www.lintcode.com/zh-cn/problem/trapping-rain-water-ii/)"
   ]
  },
  {
   "cell_type": "markdown",
   "metadata": {},
   "source": [
    "### 堆化\n",
    "\n",
    "[回到顶部](#目录)-[题目链接](https://link.zhihu.com/?target=http%3A//www.lintcode.com/zh-cn/problem/heapify/)"
   ]
  },
  {
   "cell_type": "markdown",
   "metadata": {},
   "source": [
    "### 排序矩阵中的从小到大第k个数\n",
    "\n",
    "[回到顶部](#目录)-[题目链接](https://link.zhihu.com/?target=http%3A//www.lintcode.com/zh-cn/problem/kth-smallest-number-in-sorted-matrix/)"
   ]
  },
  {
   "cell_type": "markdown",
   "metadata": {},
   "source": [
    "## 二叉树\n",
    "[回到顶部](#目录)\n"
   ]
  },
  {
   "cell_type": "markdown",
   "metadata": {},
   "source": [
    "### 二叉树中序遍历\n",
    "\n",
    "[回到顶部](#目录)-[题目链接](https://link.zhihu.com/?target=http%3A//www.lintcode.com/en/problem/binary-tree-inorder-traversal/)"
   ]
  },
  {
   "cell_type": "code",
   "execution_count": 22,
   "metadata": {},
   "outputs": [],
   "source": [
    "# Definition of TreeNode:\n",
    "class TreeNode:\n",
    "    def __init__(self, val):\n",
    "        self.val = val\n",
    "        self.left, self.right = None, None            \n",
    "\n",
    "\n",
    "class Solution:\n",
    "    \"\"\"\n",
    "    @param root: A Tree\n",
    "    @return: Inorder in ArrayList which contains node values.\n",
    "    \"\"\"\n",
    "    def inorderTraversal(self, root):\n",
    "        # write your code here\n",
    "        if root is None:\n",
    "            return []\n",
    "        return self._inorderTraversal(root)\n",
    "    \n",
    "    def _inorderTraversal(self, root):\n",
    "        left = []\n",
    "        if root.left is not None:\n",
    "            left = self.inorderTraversal(root.left)\n",
    "        right = []\n",
    "        if root.right is not None:\n",
    "            right = self.inorderTraversal(root.right)\n",
    "        return left + [root.val] + right\n",
    "\n",
    "        \n",
    "s = Solution()\n",
    "\n",
    "# {1,2,3}\n",
    "tree_node = TreeNode(1)\n",
    "tree_node.left = TreeNode(2)\n",
    "tree_node.right = TreeNode(3)\n",
    "assert s.inorderTraversal(tree_node) == [2,1,3]\n",
    "\n",
    "# {1,#,2,3}\n",
    "tree_node = TreeNode(1)\n",
    "right_node = TreeNode(2)\n",
    "right_node.left = TreeNode(3)\n",
    "tree_node.right = right_node\n",
    "assert s.inorderTraversal(tree_node) == [1,3,2]\n",
    "\n",
    "assert s.inorderTraversal(None) == []"
   ]
  },
  {
   "cell_type": "code",
   "execution_count": 23,
   "metadata": {},
   "outputs": [],
   "source": [
    "# Definition of TreeNode:\n",
    "class TreeNode:\n",
    "    def __init__(self, val):\n",
    "        self.val = val\n",
    "        self.left, self.right = None, None            \n",
    "\n",
    "\n",
    "class Solution:\n",
    "    \"\"\"\n",
    "    @param root: A Tree\n",
    "    @return: Inorder in ArrayList which contains node values.\n",
    "    \"\"\"\n",
    "    def inorderTraversal(self, root):\n",
    "        # write your code here\n",
    "        if root is None:\n",
    "            return []\n",
    "        left = self.inorderTraversal(root.left)\n",
    "        right = self.inorderTraversal(root.right)\n",
    "        return left + [root.val] + right\n",
    "\n",
    "        \n",
    "s = Solution()\n",
    "\n",
    "# {1,2,3}\n",
    "tree_node = TreeNode(1)\n",
    "tree_node.left = TreeNode(2)\n",
    "tree_node.right = TreeNode(3)\n",
    "assert s.inorderTraversal(tree_node) == [2,1,3]\n",
    "\n",
    "# {1,#,2,3}\n",
    "tree_node = TreeNode(1)\n",
    "right_node = TreeNode(2)\n",
    "right_node.left = TreeNode(3)\n",
    "tree_node.right = right_node\n",
    "assert s.inorderTraversal(tree_node) == [1,3,2]\n",
    "\n",
    "assert s.inorderTraversal(None) == []"
   ]
  },
  {
   "cell_type": "markdown",
   "metadata": {},
   "source": [
    "### 二叉树的序列化和反序列化\n",
    "\n",
    "[回到顶部](#目录)-[题目链接](https://link.zhihu.com/?target=http%3A//www.lintcode.com/en/problem/binary-tree-serialization/)"
   ]
  },
  {
   "cell_type": "markdown",
   "metadata": {},
   "source": [
    "### 子树\n",
    "\n",
    "[回到顶部](#目录)-[题目链接](https://link.zhihu.com/?target=http%3A//www.lintcode.com/en/problem/subtree/)"
   ]
  },
  {
   "cell_type": "markdown",
   "metadata": {},
   "source": [
    "### 最近公共祖先\n",
    "\n",
    "[回到顶部](#目录)-[题目链接](https://link.zhihu.com/?target=http%3A//www.lintcode.com/en/problem/lowest-common-ancestor/)"
   ]
  },
  {
   "cell_type": "markdown",
   "metadata": {},
   "source": [
    "### 二叉树的层次遍历\n",
    "\n",
    "[回到顶部](#目录)-[题目链接](https://link.zhihu.com/?target=http%3A//www.lintcode.com/en/problem/binary-tree-level-order-traversal/)"
   ]
  },
  {
   "cell_type": "markdown",
   "metadata": {},
   "source": [
    "### 将二叉树拆成链表\n",
    "\n",
    "[回到顶部](#目录)-[题目链接](https://link.zhihu.com/?target=http%3A//www.lintcode.com/en/problem/flatten-binary-tree-to-linked-list/)"
   ]
  },
  {
   "cell_type": "markdown",
   "metadata": {},
   "source": [
    "### 在二叉查找树中插入节点\n",
    "\n",
    "[回到顶部](#目录)-[题目链接](https://link.zhihu.com/?target=http%3A//www.lintcode.com/en/problem/insert-node-in-a-binary-search-tree/)"
   ]
  },
  {
   "cell_type": "markdown",
   "metadata": {},
   "source": [
    "## 二分法\n",
    "[回到顶部](#目录)\n"
   ]
  },
  {
   "cell_type": "markdown",
   "metadata": {},
   "source": [
    "### 经典二分查找问题\n",
    "\n",
    "[回到顶部](#目录)-[题目链接](https://link.zhihu.com/?target=http%3A//www.lintcode.com/en/problem/classical-binary-search/)-[力扣题目链接](https://leetcode-cn.com/problems/binary-search/solution/er-fen-cha-zhao-de-liang-chong-shu-xie-fang-shi-by/)\n"
   ]
  },
  {
   "cell_type": "code",
   "execution_count": 11,
   "metadata": {},
   "outputs": [],
   "source": [
    "class Solution:\n",
    "    \"\"\"\n",
    "    @param nums: An integer array sorted in ascending order\n",
    "    @param target: An integer\n",
    "    @return: An integer\n",
    "    \"\"\"\n",
    "    def findPosition(self, nums, target):\n",
    "        # write your code here\n",
    "        begin, end = 0, len(nums)\n",
    "        while begin < end:\n",
    "            n = (begin + end) // 2\n",
    "            if nums[n] == target:\n",
    "                return n\n",
    "            elif nums[n] > target:\n",
    "                end = n\n",
    "            else:\n",
    "                begin = n + 1\n",
    "        return -1\n",
    "\n",
    "        \n",
    "s = Solution()\n",
    "\n",
    "assert s.findPosition([1,2,2,4,5,5], 2) in (1, 2)\n",
    "assert s.findPosition([1,2,2,4,5,5], 6) == -1"
   ]
  },
  {
   "cell_type": "markdown",
   "metadata": {},
   "source": [
    "### 二分查找\n",
    "\n",
    "[回到顶部](#目录)-[领扣题目链接](https://link.zhihu.com/?target=http%3A//www.lintcode.com/en/problem/first-position-of-target/)"
   ]
  },
  {
   "cell_type": "code",
   "execution_count": 9,
   "metadata": {
    "scrolled": true
   },
   "outputs": [],
   "source": [
    "# 效率很低，写出来时没考虑优化\n",
    "class Solution:\n",
    "    \"\"\"\n",
    "    @param nums: The integer array.\n",
    "    @param target: Target to find.\n",
    "    @return: The first position of target. Position starts from 0.\n",
    "    \"\"\"\n",
    "    def binarySearch(self, nums, target):\n",
    "        # write your code here\n",
    "        begin, end = 0, len(nums)\n",
    "        n = end // 2\n",
    "        while True:\n",
    "            if end - begin <= 1:\n",
    "                if nums[n] == target:\n",
    "                    break\n",
    "                else:\n",
    "                    return -1\n",
    "            if nums[n] < target:\n",
    "                begin, n = n, (end - n) // 2 + n\n",
    "            elif nums[n] > target:\n",
    "                end, n = n, (n - begin) // 2 + begin\n",
    "            else:\n",
    "                break\n",
    "        while True:\n",
    "            if n == 0 or nums[n-1]!=nums[n]:\n",
    "                return n\n",
    "            else:\n",
    "                n -= 1\n",
    "\n",
    "        \n",
    "s = Solution()\n",
    "\n",
    "assert s.binarySearch([1,4,4,5,7,7,8,9,9,10], 1) == 0\n",
    "assert s.binarySearch([1, 2, 3, 3, 4, 5, 10], 3) == 2\n",
    "assert s.binarySearch([4,5,9,9,12,13,14,15,15,18], 10) == -1"
   ]
  },
  {
   "cell_type": "code",
   "execution_count": 10,
   "metadata": {},
   "outputs": [],
   "source": [
    "class Solution:\n",
    "    \"\"\"\n",
    "    @param nums: The integer array.\n",
    "    @param target: Target to find.\n",
    "    @return: The first position of target. Position starts from 0.\n",
    "    \"\"\"\n",
    "    def binarySearch(self, nums, target):\n",
    "        # write your code here\n",
    "        begin, end = 0, len(nums)\n",
    "        while begin < end:\n",
    "            n = (begin + end) // 2\n",
    "            if nums[n] == target:\n",
    "                while True:\n",
    "                    if n == 0 or nums[n-1]!=nums[n]:\n",
    "                        return n\n",
    "                    else:\n",
    "                        n -= 1\n",
    "                return n\n",
    "            elif nums[n] > target:\n",
    "                end = n\n",
    "            else:\n",
    "                begin = n + 1\n",
    "        return -1\n",
    "\n",
    "        \n",
    "s = Solution()\n",
    "\n",
    "assert s.binarySearch([1,4,4,5,7,7,8,9,9,10], 1) == 0\n",
    "assert s.binarySearch([1, 2, 3, 3, 4, 5, 10], 3) == 2\n",
    "assert s.binarySearch([4,5,9,9,12,13,14,15,15,18], 10) == -1"
   ]
  },
  {
   "cell_type": "markdown",
   "metadata": {},
   "source": [
    "### 两数组的交\n",
    "\n",
    "[回到顶部](#目录)-[题目链接](https://link.zhihu.com/?target=http%3A//www.lintcode.com/zh-cn/problem/intersection-of-two-arrays/)"
   ]
  },
  {
   "cell_type": "markdown",
   "metadata": {},
   "source": [
    "### 区间最小数\n",
    "\n",
    "[回到顶部](#目录)-[题目链接](https://link.zhihu.com/?target=http%3A//www.lintcode.com/zh-cn/problem/interval-minimum-number/)"
   ]
  },
  {
   "cell_type": "markdown",
   "metadata": {},
   "source": [
    "### 寻找旋转排序数组中的最小值\n",
    "\n",
    "[回到顶部](#目录)-[题目链接](https://link.zhihu.com/?target=http%3A//www.lintcode.com/zh-cn/problem/find-minimum-in-rotated-sorted-array/)"
   ]
  },
  {
   "cell_type": "markdown",
   "metadata": {},
   "source": [
    "### 搜索排序区间\n",
    "\n",
    "[回到顶部](#目录)-[题目链接](https://link.zhihu.com/?target=http%3A//www.lintcode.com/zh-cn/problem/search-for-a-range/)"
   ]
  },
  {
   "cell_type": "markdown",
   "metadata": {},
   "source": [
    "### 寻找峰值\n",
    "\n",
    "[回到顶部](#目录)-[题目链接](https://link.zhihu.com/?target=http%3A//www.lintcode.com/zh-cn/problem/find-peak-element/)"
   ]
  },
  {
   "cell_type": "markdown",
   "metadata": {},
   "source": [
    "## 分治法\n",
    "[回到顶部](#目录)\n"
   ]
  },
  {
   "cell_type": "markdown",
   "metadata": {},
   "source": [
    "### 快速幂\n",
    "\n",
    "[回到顶部](#目录)-[题目链接](https://link.zhihu.com/?target=http%3A//www.lintcode.com/en/problem/fast-power/)-[题解](https://blog.csdn.net/qq_19782019/article/details/85621386)\n",
    "\n",
    "模定理：\n",
    "- (a + b) % p = (a % p + b % p) % p （1）\n",
    "- (a - b) % p = (a % p - b % p ) % p （2）\n",
    "- (a * b) % p = (a % p * b % p) % p （3）"
   ]
  },
  {
   "cell_type": "code",
   "execution_count": 37,
   "metadata": {},
   "outputs": [],
   "source": [
    "class Solution:\n",
    "    \"\"\"\n",
    "    @param a: A 32bit integer\n",
    "    @param b: A 32bit integer\n",
    "    @param n: A 32bit integer\n",
    "    @return: An integer\n",
    "    \"\"\"\n",
    "    def fastPower(self, a, b, n):\n",
    "        # write your code here\n",
    "        result = 1\n",
    "        for i in range(n):\n",
    "            result = result * a % b\n",
    "        return result % b\n",
    "        \n",
    "s = Solution()\n",
    "assert s.fastPower(2, 3, 31) == 2\n",
    "assert s.fastPower(100, 1000, 1000) == 0\n",
    "assert s.fastPower(3, 7, 5) == 5"
   ]
  },
  {
   "cell_type": "code",
   "execution_count": 38,
   "metadata": {
    "scrolled": true
   },
   "outputs": [],
   "source": [
    "class Solution:\n",
    "    \"\"\"\n",
    "    @param a: A 32bit integer\n",
    "    @param b: A 32bit integer\n",
    "    @param n: A 32bit integer\n",
    "    @return: An integer\n",
    "    \"\"\"\n",
    "    def fastPower(self, a, b, n):\n",
    "        # write your code here\n",
    "        result = 1\n",
    "        while n > 0:\n",
    "            if n % 2 == 1:\n",
    "                result = result * a % b\n",
    "            n = n // 2\n",
    "            a = (a * a) % b\n",
    "        return result % b\n",
    "        \n",
    "s = Solution()\n",
    "assert s.fastPower(2, 3, 31) == 2\n",
    "assert s.fastPower(100, 1000, 1000) == 0\n",
    "assert s.fastPower(3, 7, 5) == 5"
   ]
  },
  {
   "cell_type": "code",
   "execution_count": 39,
   "metadata": {},
   "outputs": [],
   "source": [
    "class Solution:\n",
    "    \"\"\"\n",
    "    @param a: A 32bit integer\n",
    "    @param b: A 32bit integer\n",
    "    @param n: A 32bit integer\n",
    "    @return: An integer\n",
    "    \"\"\"\n",
    "    def fastPower(self, a, b, n):\n",
    "        # write your code here\n",
    "        result = 1\n",
    "        while n > 0:\n",
    "            if n & 1 == 1:\n",
    "                result = result * a % b\n",
    "            n = n >> 1\n",
    "            a = (a * a) % b\n",
    "        return result % b\n",
    "        \n",
    "s = Solution()\n",
    "assert s.fastPower(2, 3, 31) == 2\n",
    "assert s.fastPower(100, 1000, 1000) == 0\n",
    "assert s.fastPower(3, 7, 5) == 5"
   ]
  },
  {
   "cell_type": "markdown",
   "metadata": {},
   "source": [
    "### 两个排序数组的中位数\n",
    "\n",
    "[回到顶部](#目录)-[题目链接](https://link.zhihu.com/?target=http%3A//www.lintcode.com/zh-cn/problem/median-of-two-sorted-arrays/)"
   ]
  },
  {
   "cell_type": "markdown",
   "metadata": {},
   "source": [
    "### 合并K个排序链表\n",
    "\n",
    "[回到顶部](#目录)-[题目链接](https://link.zhihu.com/?target=http%3A//www.lintcode.com/zh-cn/problem/merge-k-sorted-lists/)"
   ]
  },
  {
   "cell_type": "markdown",
   "metadata": {},
   "source": [
    "## 哈希表\n",
    "[回到顶部](#目录)\n"
   ]
  },
  {
   "cell_type": "markdown",
   "metadata": {},
   "source": [
    "### 变形词子串\n",
    "\n",
    "[回到顶部](#目录)-[题目链接](https://link.zhihu.com/?target=http%3A//www.lintcode.com/en/problem/substring-anagrams/)"
   ]
  },
  {
   "cell_type": "code",
   "execution_count": 16,
   "metadata": {},
   "outputs": [],
   "source": [
    "# 手动建dict，很慢，每次都要重新将子串转成dict，无法通过大量a的那个测试\n",
    "class Solution:\n",
    "    \"\"\"\n",
    "    @param s: a string\n",
    "    @param p: a string\n",
    "    @return: a list of index\n",
    "    \"\"\"\n",
    "    def findAnagrams(self, s, p):\n",
    "        # write your code here\n",
    "        result = []\n",
    "        p_dic = self.str2dict(p)\n",
    "        for n, m in enumerate(range(len(p), len(s)+1)):\n",
    "            if self.str2dict(s[n:m]) == p_dic:\n",
    "                result.append(n)\n",
    "        return result\n",
    "    \n",
    "    def str2dict(self, string):\n",
    "        s_dic = {}\n",
    "        for i in string:\n",
    "            if i in s_dic.keys():\n",
    "                s_dic[i] += 1\n",
    "            else:\n",
    "                s_dic[i] = 1\n",
    "        # print(s_dic)\n",
    "        return s_dic\n",
    "\n",
    "\n",
    "s = Solution()\n",
    "assert s.findAnagrams(\"cbaebabacd\", \"abc\") == [0, 6]\n",
    "assert s.findAnagrams(\"abab\", \"ab\") == [0, 1, 2]\n",
    "assert s.findAnagrams(\"babababababababababababab\", \"aba\") == [1,3,5,7,9,11,13,15,17,19,21]"
   ]
  },
  {
   "cell_type": "code",
   "execution_count": 17,
   "metadata": {},
   "outputs": [],
   "source": [
    "# 自动建dict，很慢，每次都要重新将子串转成dict，无法通过大量a的那个测试\n",
    "class Solution:\n",
    "    \"\"\"\n",
    "    @param s: a string\n",
    "    @param p: a string\n",
    "    @return: a list of index\n",
    "    \"\"\"\n",
    "    def findAnagrams(self, s, p):\n",
    "        # write your code here\n",
    "        from collections import Counter\n",
    "        result = []\n",
    "        p_dic = Counter(p)\n",
    "        for n, m in enumerate(range(len(p), len(s)+1)):\n",
    "            if Counter(s[n:m]) == p_dic:\n",
    "                result.append(n)\n",
    "        return result\n",
    "\n",
    "\n",
    "s = Solution()\n",
    "assert s.findAnagrams(\"cbaebabacd\", \"abc\") == [0, 6]\n",
    "assert s.findAnagrams(\"abab\", \"ab\") == [0, 1, 2]\n",
    "assert s.findAnagrams(\"babababababababababababab\", \"aba\") == [1,3,5,7,9,11,13,15,17,19,21]"
   ]
  },
  {
   "cell_type": "code",
   "execution_count": 32,
   "metadata": {},
   "outputs": [
    {
     "name": "stdout",
     "output_type": "stream",
     "text": [
      "[0, 6]\n",
      "[0, 1, 2]\n",
      "[1, 3, 5, 7, 9, 11, 13, 15, 17, 19, 21]\n"
     ]
    }
   ],
   "source": [
    "# 自动建dict，动态更新子串dict，可以通过测试\n",
    "class Solution:\n",
    "    \"\"\"\n",
    "    @param s: a string\n",
    "    @param p: a string\n",
    "    @return: a list of index\n",
    "    \"\"\"\n",
    "    def findAnagrams(self, s, p):\n",
    "        # write your code here\n",
    "        from collections import Counter\n",
    "        result = []\n",
    "        p_dic, s_dic = Counter(p), Counter(s[0: len(p)])\n",
    "        for n, m in enumerate(range(len(p), len(s))):\n",
    "            if s_dic == p_dic:\n",
    "                result.append(n)\n",
    "            s_dic[s[n]] -= 1\n",
    "            if s_dic[s[n]] == 0:\n",
    "                s_dic.pop(s[n])\n",
    "            if s[m] in s_dic.keys():\n",
    "                s_dic[s[m]] += 1\n",
    "            else:\n",
    "                s_dic[s[m]] = 1\n",
    "        if s_dic == p_dic:\n",
    "            result.append(len(s) - len(p))\n",
    "        # print(result)\n",
    "        return result\n",
    "\n",
    "\n",
    "s = Solution()\n",
    "assert s.findAnagrams(\"cbaebabacd\", \"abc\") == [0, 6]\n",
    "assert s.findAnagrams(\"abab\", \"ab\") == [0, 1, 2]\n",
    "assert s.findAnagrams(\"babababababababababababab\", \"aba\") == [1,3,5,7,9,11,13,15,17,19,21]"
   ]
  },
  {
   "cell_type": "markdown",
   "metadata": {},
   "source": [
    "### 哈希函数\n",
    "\n",
    "[回到顶部](#目录)-[题目链接](https://link.zhihu.com/?target=http%3A//www.lintcode.com/en/problem/hash-function/)"
   ]
  },
  {
   "cell_type": "markdown",
   "metadata": {},
   "source": [
    "### 短网址\n",
    "\n",
    "[回到顶部](#目录)-[题目链接](https://link.zhihu.com/?target=https%3A//www.lintcode.com/en/problem/tiny-url/)"
   ]
  },
  {
   "cell_type": "markdown",
   "metadata": {},
   "source": [
    "### 复制带随机指针的链表\n",
    "\n",
    "[回到顶部](#目录)-[题目链接](https://link.zhihu.com/?target=http%3A//www.lintcode.com/zh-cn/problem/copy-list-with-random-pointer/)"
   ]
  },
  {
   "cell_type": "markdown",
   "metadata": {},
   "source": [
    "### 最小子串覆盖\n",
    "\n",
    "[回到顶部](#目录)-[题目链接](https://link.zhihu.com/?target=http%3A//www.lintcode.com/zh-cn/problem/minimum-window-substring/)"
   ]
  },
  {
   "cell_type": "markdown",
   "metadata": {},
   "source": [
    "## 矩阵\n",
    "[回到顶部](#目录)\n"
   ]
  },
  {
   "cell_type": "markdown",
   "metadata": {},
   "source": [
    "### 搜索二维矩阵\n",
    "\n",
    "[回到顶部](#目录)-[题目链接](https://link.zhihu.com/?target=http%3A//www.lintcode.com/en/problem/search-a-2d-matrix/)"
   ]
  },
  {
   "cell_type": "code",
   "execution_count": 7,
   "metadata": {},
   "outputs": [],
   "source": [
    "class Solution:\n",
    "    \"\"\"\n",
    "    @param matrix: matrix, a list of lists of integers\n",
    "    @param target: An integer\n",
    "    @return: a boolean, indicate whether matrix contains target\n",
    "    \"\"\"\n",
    "    def searchMatrix(self, matrix, target):\n",
    "        # write your code here\n",
    "        m = len(matrix)\n",
    "        if m == 0:\n",
    "            return False\n",
    "        \n",
    "        n = len(matrix[0])\n",
    "        if n == 0:\n",
    "            return False\n",
    "\n",
    "        begin, end = 0, m\n",
    "        while begin < end:\n",
    "            mid = (end+begin) // 2\n",
    "            if matrix[mid][0] == target:\n",
    "                return True\n",
    "            if matrix[mid][0] < target:\n",
    "                begin = mid + 1\n",
    "            else:\n",
    "                end = mid\n",
    "        \n",
    "        if begin == 0:  # 开头第一个就比target大，后面的不用再看了\n",
    "            return False\n",
    "        x = begin - 1\n",
    "        \n",
    "        begin, end = 0, n\n",
    "        while begin < end:\n",
    "            mid = (end+begin) // 2\n",
    "            if matrix[x][mid] == target:\n",
    "                return True\n",
    "            if matrix[x][mid] < target:\n",
    "                begin = mid + 1\n",
    "            else:\n",
    "                end = mid\n",
    "        return False\n",
    "\n",
    "                   \n",
    "s = Solution()\n",
    "assert s.searchMatrix([[1]], 2) == False\n",
    "assert s.searchMatrix([[5]], 2) == False\n",
    "matrix = [\n",
    "  [1, 3, 5, 7],\n",
    "  [10, 11, 16, 20],\n",
    "  [23, 30, 34, 50]\n",
    "]\n",
    "assert s.searchMatrix(matrix, 3) == True"
   ]
  },
  {
   "cell_type": "code",
   "execution_count": 8,
   "metadata": {},
   "outputs": [],
   "source": [
    "# 别人的代码\n",
    "# 二分法，手动计算二分位置，m * n 的矩阵中，第s个的位置为(s//m, s*m)\n",
    "class Solution:\n",
    "    \"\"\"\n",
    "    @param matrix: matrix, a list of lists of integers\n",
    "    @param target: An integer\n",
    "    @return: a boolean, indicate whether matrix contains target\n",
    "    \"\"\"\n",
    "    def searchMatrix(self, matrix, target):\n",
    "        # write your code here\n",
    "        if not matrix or not matrix[0]:\n",
    "            return False\n",
    "\n",
    "        n, m = len(matrix), len(matrix[0])\n",
    "        start, end = 0, n * m - 1\n",
    "\n",
    "        while start + 1 < end:\n",
    "            mid = (start + end) // 2\n",
    "            row, col = mid // m, mid % m\n",
    "\n",
    "            if matrix[row][col] <= target:\n",
    "                start = mid\n",
    "            else:\n",
    "                end = mid\n",
    "\n",
    "        row, col = start // m, start % m\n",
    "        if matrix[row][col] == target:\n",
    "            return True\n",
    "        row, col = end // m, end % m\n",
    "        if matrix[row][col] == target:\n",
    "            return True\n",
    "        return False\n",
    "\n",
    "                   \n",
    "s = Solution()\n",
    "assert s.searchMatrix([[1]], 2) == False\n",
    "assert s.searchMatrix([[5]], 2) == False\n",
    "matrix = [\n",
    "  [1, 3, 5, 7],\n",
    "  [10, 11, 16, 20],\n",
    "  [23, 30, 34, 50]\n",
    "]\n",
    "assert s.searchMatrix(matrix, 3) == True"
   ]
  },
  {
   "cell_type": "markdown",
   "metadata": {},
   "source": [
    "### 旋转图像\n",
    "\n",
    "[回到顶部](#目录)-[题目链接](https://link.zhihu.com/?target=http%3A//www.lintcode.com/en/problem/rotate-image/)"
   ]
  },
  {
   "cell_type": "markdown",
   "metadata": {},
   "source": [
    "### 岛屿的个数\n",
    "\n",
    "[回到顶部](#目录)-[题目链接](https://link.zhihu.com/?target=http%3A//www.lintcode.com/en/problem/number-of-islands/)"
   ]
  },
  {
   "cell_type": "markdown",
   "metadata": {},
   "source": [
    "### 螺旋矩阵\n",
    "\n",
    "[回到顶部](#目录)-[题目链接](https://link.zhihu.com/?target=http%3A//www.lintcode.com/en/problem/spiral-matrix/)"
   ]
  },
  {
   "cell_type": "markdown",
   "metadata": {},
   "source": [
    "## 宽度优先搜索\n",
    "[回到顶部](#目录)\n"
   ]
  },
  {
   "cell_type": "markdown",
   "metadata": {},
   "source": [
    "### 克隆图\n",
    "\n",
    "[回到顶部](#目录)-[题目链接](https://link.zhihu.com/?target=http%3A//www.lintcode.com/en/problem/clone-graph/)"
   ]
  },
  {
   "cell_type": "code",
   "execution_count": 11,
   "metadata": {},
   "outputs": [],
   "source": [
    "class UndirectedGraphNode:\n",
    "    def __init__(self, x):\n",
    "        self.label = x\n",
    "        self.neighbors = []\n",
    "\n",
    "            \n",
    "class Solution:\n",
    "    \"\"\"\n",
    "    @param node: A undirected graph node\n",
    "    @return: A undirected graph node\n",
    "    \"\"\"\n",
    "    def cloneGraph(self, node):\n",
    "        # write your code here\n",
    "        if node is None:\n",
    "            return None\n",
    "        self.labels = dict()\n",
    "        return self._cloneGraph(node)\n",
    "        \n",
    "    def _cloneGraph(self, node):\n",
    "        if node.label not in self.labels.keys():\n",
    "            self.labels[node.label] = UndirectedGraphNode(node.label)\n",
    "            for neighbor in node.neighbors:\n",
    "                self.labels[node.label].neighbors.append(self._cloneGraph(neighbor))\n",
    "        return self.labels[node.label]\n",
    "\n",
    "        \n",
    "s = Solution()\n",
    "\n",
    "# {1,2,4#2,1,4#4,1,2}\n",
    "node_1 = UndirectedGraphNode(1)\n",
    "node_2 = UndirectedGraphNode(2)\n",
    "node_4 = UndirectedGraphNode(4)\n",
    "\n",
    "node_1.neighbors.extend([node_2, node_4])\n",
    "node_2.neighbors.extend([node_1, node_4])\n",
    "node_4.neighbors.extend([node_1, node_2])\n",
    "\n",
    "node_1_c = s.cloneGraph(node_1)\n",
    "assert node_1_c.label == 1\n",
    "assert node_1_c.neighbors[0].label == 2\n",
    "assert node_1_c.neighbors[1].label == 4"
   ]
  },
  {
   "cell_type": "markdown",
   "metadata": {},
   "source": [
    "### 被围绕的区域\n",
    "\n",
    "[回到顶部](#目录)-[题目链接](https://link.zhihu.com/?target=http%3A//www.lintcode.com/zh-cn/problem/surrounded-regions/)"
   ]
  },
  {
   "cell_type": "markdown",
   "metadata": {},
   "source": [
    "### 拓扑排序\n",
    "\n",
    "[回到顶部](#目录)-[题目链接](https://link.zhihu.com/?target=http%3A//www.lintcode.com/zh-cn/problem/topological-sorting/)"
   ]
  },
  {
   "cell_type": "markdown",
   "metadata": {},
   "source": [
    "### 单词接龙\n",
    "\n",
    "[回到顶部](#目录)-[题目链接](https://link.zhihu.com/?target=http%3A//www.lintcode.com/zh-cn/problem/word-ladder/)"
   ]
  },
  {
   "cell_type": "markdown",
   "metadata": {},
   "source": [
    "## 链表\n",
    "[回到顶部](#目录)\n"
   ]
  },
  {
   "cell_type": "markdown",
   "metadata": {},
   "source": [
    "### 实现一个链表的反转\n",
    "\n",
    "[回到顶部](#目录)-[题目链接](https://link.zhihu.com/?target=http%3A//www.lintcode.com/en/problem/reverse-linked-list/)"
   ]
  },
  {
   "cell_type": "code",
   "execution_count": 14,
   "metadata": {},
   "outputs": [],
   "source": [
    "# Definition of ListNode\n",
    "\n",
    "class ListNode(object):\n",
    "    def __init__(self, val, next=None):\n",
    "        self.val = val\n",
    "        self.next = next\n",
    "\n",
    "\n",
    "class Solution:\n",
    "    \"\"\"\n",
    "    @param head: n\n",
    "    @return: The new head of reversed linked list.\n",
    "    \"\"\"\n",
    "    def reverse(self, head):\n",
    "        # write your code here\n",
    "        if head is None:\n",
    "            return None\n",
    "        return self._reverse(head, None)\n",
    "\n",
    "    def _reverse(self, node, next_node):\n",
    "        # write your code here\n",
    "        if node.next is None:\n",
    "            node.next = next_node\n",
    "            return node\n",
    "        next_n = node.next\n",
    "        node.next = next_node\n",
    "        return self._reverse(next_n, node)\n",
    "        \n",
    "            \n",
    "\n",
    "        \n",
    "s = Solution()\n",
    "# 1->2->3->null\n",
    "ln_3 = ListNode(3)\n",
    "ln_2 = ListNode(2, ln_3)\n",
    "ln_1 = ListNode(1, ln_2)\n",
    "ln_t = s.reverse(ln_1)\n",
    "assert ln_t.val == 3\n",
    "assert ln_t.next.val == 2\n",
    "assert ln_t.next.next.val == 1\n",
    "assert ln_t.next.next.next == None"
   ]
  },
  {
   "cell_type": "markdown",
   "metadata": {},
   "source": [
    "### 链表求和&nbsp;II\n",
    "\n",
    "[回到顶部](#目录)-[题目链接](https://link.zhihu.com/?target=http%3A//www.lintcode.com/en/problem/add-two-numbers-ii/)"
   ]
  },
  {
   "cell_type": "markdown",
   "metadata": {},
   "source": [
    "### 删除链表中的元素\n",
    "\n",
    "[回到顶部](#目录)-[题目链接](https://link.zhihu.com/?target=http%3A//www.lintcode.com/en/problem/remove-linked-list-elements/)"
   ]
  },
  {
   "cell_type": "markdown",
   "metadata": {},
   "source": [
    "### LRU缓存策略\n",
    "\n",
    "[回到顶部](#目录)-[题目链接](https://link.zhihu.com/?target=https%3A//www.lintcode.com/en/problem/lru-cache/)"
   ]
  },
  {
   "cell_type": "markdown",
   "metadata": {},
   "source": [
    "### 合并两个排序链表\n",
    "\n",
    "[回到顶部](#目录)-[题目链接](https://link.zhihu.com/?target=http%3A//www.lintcode.com/en/problem/merge-two-sorted-lists/)"
   ]
  },
  {
   "cell_type": "markdown",
   "metadata": {},
   "source": [
    "### 两个链表的交叉\n",
    "\n",
    "[回到顶部](#目录)-[题目链接](https://link.zhihu.com/?target=http%3A//www.lintcode.com/en/problem/intersection-of-two-linked-lists/)"
   ]
  },
  {
   "cell_type": "markdown",
   "metadata": {},
   "source": [
    "### 翻转链表&nbsp;II\n",
    "\n",
    "[回到顶部](#目录)-[题目链接](https://link.zhihu.com/?target=http%3A//www.lintcode.com/en/problem/reverse-linked-list-ii/)"
   ]
  },
  {
   "cell_type": "markdown",
   "metadata": {},
   "source": [
    "### 复制带随机指针的链表\n",
    "\n",
    "[回到顶部](#目录)-[题目链接](https://link.zhihu.com/?target=http%3A//www.lintcode.com/en/problem/copy-list-with-random-pointer/)"
   ]
  },
  {
   "cell_type": "markdown",
   "metadata": {},
   "source": [
    "### 带环链表\n",
    "\n",
    "[回到顶部](#目录)-[题目链接](https://link.zhihu.com/?target=https%3A//www.lintcode.com/en/problem/linked-list-cycle/)"
   ]
  },
  {
   "cell_type": "markdown",
   "metadata": {},
   "source": [
    "## 枚举法\n",
    "[回到顶部](#目录)\n"
   ]
  },
  {
   "cell_type": "markdown",
   "metadata": {},
   "source": [
    "### 统计数字\n",
    "\n",
    "[回到顶部](#目录)-[题目链接](https://link.zhihu.com/?target=http%3A//www.lintcode.com/en/problem/digit-counts/)\n",
    "\n",
    "相似题目：[2出现的次数](#2出现的次数)"
   ]
  },
  {
   "cell_type": "code",
   "execution_count": 59,
   "metadata": {},
   "outputs": [],
   "source": [
    "# 别人的代码\n",
    "class Solution:\n",
    "    \"\"\"\n",
    "    @param k: An integer\n",
    "    @param n: An integer\n",
    "    @return: An integer denote the count of digit k in 1..n\n",
    "    \"\"\"\n",
    "    def digitCounts(self, k, n):\n",
    "        # write your code here\n",
    "        if k == 0 and n == 0:\n",
    "            return 1\n",
    "        pos = 1\n",
    "        ans = 0\n",
    "        while n // pos > 0:\n",
    "            if k == 0 and n // (pos * 10) == 0:\n",
    "                ans += 1\n",
    "                break\n",
    "            cur = (n // pos) % 10\n",
    "            l = n - (n // pos) * pos\n",
    "            h = n // (pos * 10)\n",
    "            if k == 0:\n",
    "                h -= 1\n",
    "            if cur < k:\n",
    "                ans += h * pos\n",
    "            elif cur == k:\n",
    "                ans += h * pos + l + 1\n",
    "            else:\n",
    "                ans += (h + 1) * pos\n",
    "            pos *= 10\n",
    "        return ans\n",
    "\n",
    "        \n",
    "s = Solution()\n",
    "assert s.digitCounts(1, 1) == 1\n",
    "assert s.digitCounts(1, 12) == 5\n",
    "assert s.digitCounts(0, 19) == 2\n",
    "assert s.digitCounts(0, 100) == 12\n",
    "assert s.digitCounts(0, 99) == 10"
   ]
  },
  {
   "cell_type": "code",
   "execution_count": 61,
   "metadata": {},
   "outputs": [],
   "source": [
    "# 将k=0的情况单独考虑\n",
    "class Solution:\n",
    "    \"\"\"\n",
    "    @param k: An integer\n",
    "    @param n: An integer\n",
    "    @return: An integer denote the count of digit k in 1..n\n",
    "    \"\"\"\n",
    "    def digitCounts(self, k, n):\n",
    "        # write your code here\n",
    "        m, rem = n // 10, n % 10\n",
    "        num = 1 if rem >= k else 0\n",
    "        exp = 0\n",
    "        if k == 0:\n",
    "            while m > 0:\n",
    "                m, rem = m // 10, m % 10\n",
    "                exp += 1\n",
    "                if rem != k:\n",
    "                    num += rem * 10**(exp-1)\n",
    "                else:\n",
    "                    num += 1\n",
    "        else:\n",
    "            while m > 0:\n",
    "                m, rem = m // 10, m % 10\n",
    "                exp += 1\n",
    "                if rem < k:\n",
    "                    num += exp * rem * 10**(exp-1)\n",
    "                elif rem == k:\n",
    "                    num += exp * rem * 10**(exp-1) + 1 + n % 10**exp\n",
    "                else:\n",
    "                    num += exp * rem * 10**(exp-1) + 10**exp\n",
    "        return num\n",
    "\n",
    "        \n",
    "s = Solution()\n",
    "assert s.digitCounts(1, 1) == 1\n",
    "assert s.digitCounts(1, 12) == 5\n",
    "assert s.digitCounts(0, 19) == 2\n",
    "assert s.digitCounts(0, 100) == 12\n",
    "assert s.digitCounts(0, 99) == 10"
   ]
  },
  {
   "cell_type": "markdown",
   "metadata": {},
   "source": [
    "### 名人确认\n",
    "\n",
    "[回到顶部](#目录)-[题目链接](https://link.zhihu.com/?target=http%3A//www.lintcode.com/en/problem/identify-celebrity/)"
   ]
  },
  {
   "cell_type": "markdown",
   "metadata": {},
   "source": [
    "### 最长连续上升子序列\n",
    "\n",
    "[回到顶部](#目录)-[题目链接](https://link.zhihu.com/?target=http%3A//www.lintcode.com/zh-cn/problem/count-of-smaller-number/)"
   ]
  },
  {
   "cell_type": "markdown",
   "metadata": {},
   "source": [
    "### 最大子数组差\n",
    "\n",
    "[回到顶部](#目录)-[题目链接](https://link.zhihu.com/?target=http%3A//www.lintcode.com/zh-cn/problem/maximum-subarray-difference/)"
   ]
  },
  {
   "cell_type": "markdown",
   "metadata": {},
   "source": [
    "### 最长公共前缀\n",
    "\n",
    "[回到顶部](#目录)-[题目链接](https://link.zhihu.com/?target=http%3A//www.lintcode.com/zh-cn/problem/longest-common-prefix/)"
   ]
  },
  {
   "cell_type": "markdown",
   "metadata": {},
   "source": [
    "## 排序\n",
    "[回到顶部](#目录)\n"
   ]
  },
  {
   "cell_type": "markdown",
   "metadata": {},
   "source": [
    "### 快排\n",
    "\n",
    "[回到顶部](#目录)-[题目链接](https://link.zhihu.com/?target=http%3A//www.lintcode.com/en/problem/sort-integers-ii)-[快速排序](https://www.runoob.com/w3cnote/quick-sort.html)-[题解](https://www.cnblogs.com/ddpeng/p/11309690.html)"
   ]
  },
  {
   "cell_type": "code",
   "execution_count": 5,
   "metadata": {},
   "outputs": [],
   "source": [
    "# 时间复杂度空间复杂度都不合格\n",
    "class Solution:\n",
    "    \"\"\"\n",
    "    @param A: an integer array\n",
    "    @return: nothing\n",
    "    \"\"\"\n",
    "    def sortIntegers2(self, A):\n",
    "        # write your code here\n",
    "        if len(A) <= 1:\n",
    "            return A\n",
    "        left = []\n",
    "        right = []\n",
    "        for i in A[1:]:\n",
    "            if i < A[0]:\n",
    "                left.append(i)\n",
    "            else:\n",
    "                right.append(i)\n",
    "        return self.sortIntegers2(left) + [A[0]] + self.sortIntegers2(right)\n",
    "\n",
    "\n",
    "    \n",
    "s = Solution()\n",
    "assert s.sortIntegers2([3,2,1,4,5]) == [1,2,3,4,5]\n",
    "assert s.sortIntegers2([2,3,1]) == [1,2,3]"
   ]
  },
  {
   "cell_type": "code",
   "execution_count": 20,
   "metadata": {},
   "outputs": [],
   "source": [
    "# 空间复杂度不合格\n",
    "class Solution:\n",
    "    \"\"\"\n",
    "    @param A: an integer array\n",
    "    @return: nothing\n",
    "    \"\"\"\n",
    "    def sortIntegers2(self, A):\n",
    "        # write your code here\n",
    "        if len(A) <= 1:\n",
    "            return A\n",
    "        m = 0\n",
    "        for n, i in enumerate(A[1:], 1):\n",
    "            if i < A[m]:\n",
    "                A.pop(n)\n",
    "                A = [i] + A\n",
    "                m += 1\n",
    "        A[:m] = self.sortIntegers2(A[:m])\n",
    "        if m + 1 < len(A):\n",
    "            A[m+1:] = self.sortIntegers2(A[m+1:])\n",
    "        return A\n",
    "\n",
    "\n",
    "    \n",
    "s = Solution()\n",
    "assert s.sortIntegers2([3,2,1,4,5]) == [1,2,3,4,5]\n",
    "assert s.sortIntegers2([2,3,1]) == [1,2,3]"
   ]
  },
  {
   "cell_type": "code",
   "execution_count": 47,
   "metadata": {},
   "outputs": [],
   "source": [
    "# 时间复杂度不合格\n",
    "class Solution:\n",
    "    \"\"\"\n",
    "    @param A: an integer array\n",
    "    @return: nothing\n",
    "    \"\"\"\n",
    "    def sortIntegers2(self, A):\n",
    "        # write your code here\n",
    "        if len(A) <= 1:\n",
    "            return A\n",
    "        return self._sortIntegers2(A, begin=0, end=len(A))\n",
    "    \n",
    "    def _sortIntegers2(self, A, begin, end):\n",
    "        # write your code here\n",
    "        if end - begin <= 1:\n",
    "            return A\n",
    "        m = begin\n",
    "        for n, i in enumerate(A[begin + 1: end], begin + 1):\n",
    "            if i < A[m]:\n",
    "                A.insert(m, A.pop(n))\n",
    "                m += 1\n",
    "        A = self._sortIntegers2(A, begin, m)\n",
    "        A = self._sortIntegers2(A, m+1, end)\n",
    "        return A\n",
    "\n",
    "\n",
    "    \n",
    "s = Solution()\n",
    "assert s.sortIntegers2([3,2,1,4,5]) == [1,2,3,4,5]\n",
    "assert s.sortIntegers2([2,3,1]) == [1,2,3]\n",
    "a = [19,-10,-2,40,3,36,57,25,66,51,5,40,-8,43,9,-5,0,4,55,28,63,67,-2,35,57,0,0,30,17,55,22,34,-4,42,57,52,4,65,6,-2,8,12,31,43,26,34,31,19,-3,36,34,11,58,23,13,7,17,10,33,-5,10,53,14,56,18,8,-6,-2,37,7]\n",
    "b = [-10,-8,-6,-5,-5,-4,-3,-2,-2,-2,-2,0,0,0,3,4,4,5,6,7,7,8,8,9,10,10,11,12,13,14,17,17,18,19,19,22,23,25,26,28,30,31,31,33,34,34,34,35,36,36,37,40,40,42,43,43,51,52,53,55,55,56,57,57,57,58,63,65,66,67]\n",
    "assert s.sortIntegers2(a) == b"
   ]
  },
  {
   "cell_type": "code",
   "execution_count": 48,
   "metadata": {},
   "outputs": [],
   "source": [
    "# 别人的代码\n",
    "# 时间复杂度空间复杂度都合格\n",
    "# 重点：\n",
    "# 移动排序锚点\n",
    "# 从右数到比锚点小的数，与锚点交换位置\n",
    "# 再从左数到比锚点小的数，与锚点交换位置\n",
    "# 对中间未处理的再做此处理\n",
    "# 对锚点左右侧的分别再做此操作\n",
    "class Solution:\n",
    "    \"\"\"\n",
    "    @param A: an integer array\n",
    "    @return: nothing\n",
    "    \"\"\"\n",
    "    def sortIntegers2(self, A):\n",
    "        # write your code here\n",
    "        if A is None: return A\n",
    "        n = len(A)\n",
    "        if n == 1 or n == 0: return A\n",
    "        return self.quickSort(A,0,n-1)\n",
    "         \n",
    "    def quickSort(self,List,left,right):\n",
    "        if left >= right:\n",
    "            return List\n",
    "        key = List[left]\n",
    "        low = left\n",
    "        high = right\n",
    "        while left < right:\n",
    "            while left < right and List[right] >= key:\n",
    "                right -= 1\n",
    "            List[left],List[right] = List[right],List[left]\n",
    "            while left < right and List[left] <= key:\n",
    "                left += 1\n",
    "            List[right],List[left] = List[left],List[right]\n",
    "        self.quickSort(List,low,left-1)\n",
    "        self.quickSort(List,left+1,high)\n",
    "        return List\n",
    "\n",
    "\n",
    "    \n",
    "s = Solution()\n",
    "assert s.sortIntegers2([3,2,1,4,5]) == [1,2,3,4,5]\n",
    "assert s.sortIntegers2([2,3,1]) == [1,2,3]\n",
    "a = [19,-10,-2,40,3,36,57,25,66,51,5,40,-8,43,9,-5,0,4,55,28,63,67,-2,35,57,0,0,30,17,55,22,34,-4,42,57,52,4,65,6,-2,8,12,31,43,26,34,31,19,-3,36,34,11,58,23,13,7,17,10,33,-5,10,53,14,56,18,8,-6,-2,37,7]\n",
    "b = [-10,-8,-6,-5,-5,-4,-3,-2,-2,-2,-2,0,0,0,3,4,4,5,6,7,7,8,8,9,10,10,11,12,13,14,17,17,18,19,19,22,23,25,26,28,30,31,31,33,34,34,34,35,36,36,37,40,40,42,43,43,51,52,53,55,55,56,57,57,57,58,63,65,66,67]\n",
    "assert s.sortIntegers2(a) == b"
   ]
  },
  {
   "cell_type": "markdown",
   "metadata": {},
   "source": [
    "### 摆动排序\n",
    "\n",
    "[回到顶部](#目录)-[题目链接](https://link.zhihu.com/?target=http%3A//www.lintcode.com/en/problem/wiggle-sort/)"
   ]
  },
  {
   "cell_type": "markdown",
   "metadata": {},
   "source": [
    "### 最大间距\n",
    "\n",
    "[回到顶部](#目录)-[题目链接](https://link.zhihu.com/?target=http%3A//www.lintcode.com/en/problem/maximum-gap/)"
   ]
  },
  {
   "cell_type": "markdown",
   "metadata": {},
   "source": [
    "### 最接近零的子数组和\n",
    "\n",
    "[回到顶部](#目录)-[题目链接](https://link.zhihu.com/?target=http%3A//www.lintcode.com/en/problem/subarray-sum-closest/)"
   ]
  },
  {
   "cell_type": "markdown",
   "metadata": {},
   "source": [
    "### 最大数\n",
    "\n",
    "[回到顶部](#目录)-[题目链接](https://link.zhihu.com/?target=http%3A//www.lintcode.com/zh-cn/problem/largest-number/)"
   ]
  },
  {
   "cell_type": "markdown",
   "metadata": {},
   "source": [
    "### 四数之和\n",
    "\n",
    "[回到顶部](#目录)-[题目链接](https://link.zhihu.com/?target=http%3A//www.lintcode.com/zh-cn/problem/4sum/)"
   ]
  },
  {
   "cell_type": "markdown",
   "metadata": {},
   "source": [
    "### 第K大元素\n",
    "\n",
    "[回到顶部](#目录)-[题目链接](https://link.zhihu.com/?target=http%3A//www.lintcode.com/zh-cn/problem/kth-largest-element/)"
   ]
  },
  {
   "cell_type": "markdown",
   "metadata": {},
   "source": [
    "### 排颜色\n",
    "\n",
    "[回到顶部](#目录)-[题目链接](https://link.zhihu.com/?target=http%3A//www.lintcode.com/zh-cn/problem/sort-colors-ii/)"
   ]
  },
  {
   "cell_type": "markdown",
   "metadata": {},
   "source": [
    "## 深度优先搜索\n",
    "\n",
    "[回到顶部](#目录)\n",
    "\n",
    "深度优先搜索(DFS)"
   ]
  },
  {
   "cell_type": "markdown",
   "metadata": {},
   "source": [
    "### N皇后问题\n",
    "\n",
    "[回到顶部](#目录)-[题目链接](https://link.zhihu.com/?target=http%3A//www.lintcode.com/en/problem/n-queens/)"
   ]
  },
  {
   "cell_type": "code",
   "execution_count": 12,
   "metadata": {},
   "outputs": [
    {
     "name": "stdout",
     "output_type": "stream",
     "text": [
      "[['Q']]\n",
      "[['Q...', '...Q', '...Q', '..Q.'], ['.Q..', '...Q', '..Q.', '...Q'], ['..Q.', '...Q', '...Q', '...Q'], ['...Q', '...Q', '..Q.', '..Q.']]\n"
     ]
    },
    {
     "ename": "AssertionError",
     "evalue": "",
     "output_type": "error",
     "traceback": [
      "\u001b[1;31m---------------------------------------------------------------------------\u001b[0m",
      "\u001b[1;31mAssertionError\u001b[0m                            Traceback (most recent call last)",
      "\u001b[1;32m<ipython-input-12-f6256e430c55>\u001b[0m in \u001b[0;36m<module>\u001b[1;34m\u001b[0m\n\u001b[0;32m     49\u001b[0m assert s.solveNQueens(4) == [\n\u001b[0;32m     50\u001b[0m     \u001b[1;33m[\u001b[0m\u001b[1;34m\".Q..\"\u001b[0m\u001b[1;33m,\u001b[0m\u001b[1;34m\"...Q\"\u001b[0m\u001b[1;33m,\u001b[0m\u001b[1;34m\"Q...\"\u001b[0m\u001b[1;33m,\u001b[0m\u001b[1;34m\"..Q.\"\u001b[0m\u001b[1;33m]\u001b[0m\u001b[1;33m,\u001b[0m\u001b[1;31m# Solution 1\u001b[0m\u001b[1;33m\u001b[0m\u001b[1;33m\u001b[0m\u001b[0m\n\u001b[1;32m---> 51\u001b[1;33m     \u001b[1;33m[\u001b[0m\u001b[1;34m\"..Q.\"\u001b[0m\u001b[1;33m,\u001b[0m\u001b[1;34m\"Q...\"\u001b[0m\u001b[1;33m,\u001b[0m\u001b[1;34m\"...Q\"\u001b[0m\u001b[1;33m,\u001b[0m\u001b[1;34m\".Q..\"\u001b[0m\u001b[1;33m]\u001b[0m  \u001b[1;31m# Solution 2\u001b[0m\u001b[1;33m\u001b[0m\u001b[1;33m\u001b[0m\u001b[0m\n\u001b[0m\u001b[0;32m     52\u001b[0m ]\n",
      "\u001b[1;31mAssertionError\u001b[0m: "
     ]
    }
   ],
   "source": [
    "class Solution:\n",
    "    \"\"\"\n",
    "    @param: n: The number of queens\n",
    "    @return: All distinct solutions\n",
    "    \"\"\"\n",
    "    def solveNQueens(self, n):\n",
    "        # write your code here\n",
    "        n_lis = [None for i in range(n)]\n",
    "        q_lis = []\n",
    "        for i in range(n):\n",
    "            n_lis[0] = i\n",
    "            each_q_lis = self._solveNQueens(n, n_lis)\n",
    "            if each_q_lis[-1] is not None:\n",
    "                q_lis.append(self.get_q_list(n, each_q_lis))\n",
    "        print(q_lis)\n",
    "        return q_lis\n",
    "                \n",
    "    def get_q_list(self, n, each_q_lis):\n",
    "        q = []\n",
    "        for j in each_q_lis:\n",
    "            q.append(\".\"*(j) +\"Q\"+\".\"*(n-j-1))\n",
    "        return q\n",
    "\n",
    "    def _solveNQueens(self, n, n_lis):\n",
    "        # write your code here\n",
    "        for i in range(1, n):\n",
    "            for j in range(n):\n",
    "                if self.verify(n_lis, i, j):\n",
    "                    continue\n",
    "                else:\n",
    "                    n_lis[i] = j\n",
    "            if n_lis[i] is None:\n",
    "                continue\n",
    "        return n_lis\n",
    "    \n",
    "    def verify(self, n_lis, i, j):\n",
    "        for k in n_lis[:i-1]:\n",
    "            if j == k:\n",
    "                return True\n",
    "            if j == k - i:\n",
    "                return True\n",
    "            if j == k + i:\n",
    "                return True\n",
    "            return False\n",
    "\n",
    "    \n",
    "s = Solution()\n",
    "assert s.solveNQueens(1) == [[\"Q\"]]\n",
    "assert s.solveNQueens(4) == [\n",
    "    [\".Q..\",\"...Q\",\"Q...\",\"..Q.\"],# Solution 1\n",
    "    [\"..Q.\",\"Q...\",\"...Q\",\".Q..\"]  # Solution 2 \n",
    "]"
   ]
  },
  {
   "cell_type": "code",
   "execution_count": 14,
   "metadata": {},
   "outputs": [],
   "source": [
    "class Solution:\n",
    "    \"\"\"\n",
    "    @param: n: The number of queens\n",
    "    @return: All distinct solutions\n",
    "    \"\"\"\n",
    "    def solveNQueens(self, n):\n",
    "        # write your code here\n",
    "        if n==0:\n",
    "            return []\n",
    "        return list(self._solveNQueens(n))\n",
    "    \n",
    "    def _solveNQueens(self, n):\n",
    "        for i in range(n):\n",
    "            q_lis = [i]\n",
    "            for j in range(1, n):\n",
    "                for k in range(n):\n",
    "                    # print(self.verify(k, j, q_lis), k, j, q_lis)\n",
    "                    if self.verify(k, q_lis):\n",
    "                        q_lis.append(k)                \n",
    "                    else:\n",
    "                        continue\n",
    "                if len(q_lis) == j:\n",
    "                    continue\n",
    "            if len(q_lis) == n:\n",
    "                yield self.get_q_list(n, q_lis)\n",
    "    \n",
    "    def verify(self, k, q_lis):\n",
    "        for j, q in enumerate(q_lis[::-1], 1):\n",
    "            if k == q:\n",
    "                return False\n",
    "            if k + j == q:\n",
    "                return False\n",
    "            if k - j == q:\n",
    "                return False\n",
    "        return True\n",
    "            \n",
    "    def get_q_list(self, n, each_q_lis):\n",
    "        q = []\n",
    "        for j in each_q_lis:\n",
    "            q.append(\".\"*(j) +\"Q\"+\".\"*(n-j-1))\n",
    "        # print(q)\n",
    "        return q\n",
    "\n",
    "\n",
    "s = Solution()\n",
    "assert s.solveNQueens(1) == [[\"Q\"]]\n",
    "assert s.solveNQueens(4) == [\n",
    "    [\".Q..\",\"...Q\",\"Q...\",\"..Q.\"],# Solution 1\n",
    "    [\"..Q.\",\"Q...\",\"...Q\",\".Q..\"]  # Solution 2 \n",
    "]"
   ]
  },
  {
   "cell_type": "markdown",
   "metadata": {},
   "source": [
    "### 图是否是树\n",
    "\n",
    "[回到顶部](#目录)-[题目链接](https://link.zhihu.com/?target=http%3A//www.lintcode.com/zh-cn/problem/graph-valid-tree/)"
   ]
  },
  {
   "cell_type": "markdown",
   "metadata": {},
   "source": [
    "### 带重复元素的排列\n",
    "\n",
    "[回到顶部](#目录)-[题目链接](https://link.zhihu.com/?target=http%3A//www.lintcode.com/zh-cn/problem/permutations-ii/)"
   ]
  },
  {
   "cell_type": "markdown",
   "metadata": {},
   "source": [
    "### 分割回文串\n",
    "\n",
    "[回到顶部](#目录)-[题目链接](https://link.zhihu.com/?target=http%3A//www.lintcode.com/zh-cn/problem/palindrome-partitioning/)"
   ]
  },
  {
   "cell_type": "markdown",
   "metadata": {},
   "source": [
    "## 数组\n",
    "[回到顶部](#目录)\n"
   ]
  },
  {
   "cell_type": "markdown",
   "metadata": {},
   "source": [
    "### 根据身高重建队列\n",
    "\n",
    "[回到顶部](#目录)-[题目链接](https://leetcode-cn.com/problems/queue-reconstruction-by-height/)"
   ]
  },
  {
   "cell_type": "code",
   "execution_count": 5,
   "metadata": {},
   "outputs": [
    {
     "name": "stdout",
     "output_type": "stream",
     "text": [
      "[[4, 4], [5, 2], [5, 0], [6, 1], [7, 1], [7, 0]]\n",
      "[[], [], [], [], [4, 4], []]\n",
      "[[], [], [5, 2], [], [4, 4], []]\n",
      "[[5, 0], [], [5, 2], [], [4, 4], []]\n",
      "[[5, 0], [], [5, 2], [6, 1], [4, 4], []]\n",
      "[[5, 0], [], [5, 2], [6, 1], [4, 4], [7, 1]]\n",
      "[[5, 0], [7, 0], [5, 2], [6, 1], [4, 4], [7, 1]]\n"
     ]
    }
   ],
   "source": [
    "# 别人的代码\n",
    "class Solution:\n",
    "    def reconstructQueue(self, people):\n",
    "        people.sort(key=lambda x: (x[0], -x[1]))\n",
    "        print(people)\n",
    "        n = len(people)\n",
    "        ans = [[] for _ in range(n)]\n",
    "        for person in people:\n",
    "            spaces = person[1] + 1\n",
    "            for i in range(n):\n",
    "                if not ans[i]:\n",
    "                    spaces -= 1\n",
    "                    if spaces == 0:\n",
    "                        ans[i] = person\n",
    "                        break\n",
    "            print(ans)\n",
    "        return ans\n",
    "    \n",
    "    \n",
    "s = Solution()\n",
    "assert s.reconstructQueue([[7,0], [4,4], [7,1], [5,0], [6,1], [5,2]]) == [[5,0], [7,0], [5,2], [6,1], [4,4], [7,1]]"
   ]
  },
  {
   "cell_type": "code",
   "execution_count": 7,
   "metadata": {},
   "outputs": [
    {
     "name": "stdout",
     "output_type": "stream",
     "text": [
      "[[7, 0]]\n",
      "[[7, 0], [7, 1]]\n",
      "[[7, 0], [6, 1], [7, 1]]\n",
      "[[5, 0], [7, 0], [6, 1], [7, 1]]\n",
      "[[5, 0], [7, 0], [5, 2], [6, 1], [7, 1]]\n",
      "[[5, 0], [7, 0], [5, 2], [6, 1], [4, 4], [7, 1]]\n"
     ]
    }
   ],
   "source": [
    "# 别人的代码\n",
    "class Solution:\n",
    "    def reconstructQueue(self, people):\n",
    "        people.sort(key=lambda x: (-x[0], x[1]))\n",
    "        res = []\n",
    "        for i in people:\n",
    "            res.insert(i[1], i)\n",
    "            print(res)\n",
    "        return res\n",
    "\n",
    "    \n",
    "s = Solution()\n",
    "assert s.reconstructQueue([[7,0], [4,4], [7,1], [5,0], [6,1], [5,2]]) == [[5,0], [7,0], [5,2], [6,1], [4,4], [7,1]]"
   ]
  },
  {
   "cell_type": "markdown",
   "metadata": {},
   "source": [
    "### 数组划分\n",
    "\n",
    "[回到顶部](#目录)-[题目链接](https://link.zhihu.com/?target=http%3A//www.lintcode.com/en/problem/partition-array/)"
   ]
  },
  {
   "cell_type": "markdown",
   "metadata": {},
   "source": [
    "### 逆序对\n",
    "\n",
    "[回到顶部](#目录)-[题目链接](https://link.zhihu.com/?target=http%3A//www.lintcode.com/en/problem/reverse-pairs/)"
   ]
  },
  {
   "cell_type": "markdown",
   "metadata": {},
   "source": [
    "### 合并区间\n",
    "\n",
    "[回到顶部](#目录)-[题目链接](https://link.zhihu.com/?target=http%3A//www.lintcode.com/en/problem/merge-intervals/)"
   ]
  },
  {
   "cell_type": "markdown",
   "metadata": {},
   "source": [
    "### 搜索旋转排序数组\n",
    "\n",
    "[回到顶部](#目录)-[题目链接](https://link.zhihu.com/?target=http%3A//www.lintcode.com/en/problem/search-in-rotated-sorted-array/)"
   ]
  },
  {
   "cell_type": "markdown",
   "metadata": {},
   "source": [
    "### 最大子数组\n",
    "\n",
    "[回到顶部](#目录)-[题目链接](https://link.zhihu.com/?target=http%3A//www.lintcode.com/en/problem/maximum-subarray/)"
   ]
  },
  {
   "cell_type": "markdown",
   "metadata": {},
   "source": [
    "### 删除排序数组中的重复数字\n",
    "\n",
    "[回到顶部](#目录)-[题目链接](https://link.zhihu.com/?target=http%3A//www.lintcode.com/en/problem/remove-duplicates-from-sorted-array/)"
   ]
  },
  {
   "cell_type": "markdown",
   "metadata": {},
   "source": [
    "### 第二大的数组\n",
    "\n",
    "[回到顶部](#目录)-[题目链接](https://link.zhihu.com/?target=http%3A//www.lintcode.com/en/problem/second-max-of-array/)"
   ]
  },
  {
   "cell_type": "markdown",
   "metadata": {},
   "source": [
    "### 先递增后递减数组中的最大值\n",
    "\n",
    "[回到顶部](#目录)-[题目链接](https://link.zhihu.com/?target=https%3A//www.lintcode.com/en/problem/maximum-number-in-mountain-sequence/)"
   ]
  },
  {
   "cell_type": "markdown",
   "metadata": {},
   "source": [
    "### 两数和&nbsp;-&nbsp;输入的数据是有序的\n",
    "\n",
    "[回到顶部](#目录)-[题目链接](https://link.zhihu.com/?target=https%3A//www.lintcode.com/en/problem/two-sum-input-array-is-sorted/)"
   ]
  },
  {
   "cell_type": "markdown",
   "metadata": {},
   "source": [
    "### 两个排序数组的中位数\n",
    "\n",
    "[回到顶部](#目录)-[题目链接](https://link.zhihu.com/?target=http%3A//www.lintcode.com/en/problem/median-of-two-sorted-arrays/)"
   ]
  },
  {
   "cell_type": "markdown",
   "metadata": {},
   "source": [
    "### 在大数组中查找\n",
    "\n",
    "[回到顶部](#目录)-[题目链接](https://link.zhihu.com/?target=http%3A//www.lintcode.com/en/problem/search-in-a-big-sorted-array/)"
   ]
  },
  {
   "cell_type": "markdown",
   "metadata": {},
   "source": [
    "### 颜色分类\n",
    "\n",
    "[回到顶部](#目录)-[题目链接](https://link.zhihu.com/?target=http%3A//www.lintcode.com/en/problem/sort-colors/)"
   ]
  },
  {
   "cell_type": "markdown",
   "metadata": {},
   "source": [
    "### 合并排序数组\n",
    "\n",
    "[回到顶部](#目录)-[题目链接](https://link.zhihu.com/?target=http%3A//www.lintcode.com/en/problem/merge-two-sorted-arrays/)"
   ]
  },
  {
   "cell_type": "markdown",
   "metadata": {},
   "source": [
    "### 无序数组K小元素\n",
    "\n",
    "[回到顶部](#目录)-[题目链接](https://link.zhihu.com/?target=http%3A//www.lintcode.com/en/problem/kth-smallest-numbers-in-unsorted-array/)"
   ]
  },
  {
   "cell_type": "markdown",
   "metadata": {},
   "source": [
    "### 中位数\n",
    "\n",
    "[回到顶部](#目录)-[题目链接](https://link.zhihu.com/?target=http%3A//www.lintcode.com/en/problem/median/)"
   ]
  },
  {
   "cell_type": "markdown",
   "metadata": {},
   "source": [
    "### 奇偶分割数组\n",
    "\n",
    "[回到顶部](#目录)-[题目链接](https://link.zhihu.com/?target=http%3A//www.lintcode.com/en/problem/partition-array-by-odd-and-even/)"
   ]
  },
  {
   "cell_type": "markdown",
   "metadata": {},
   "source": [
    "## 贪心\n",
    "[回到顶部](#目录)\n"
   ]
  },
  {
   "cell_type": "markdown",
   "metadata": {},
   "source": [
    "### 主元素\n",
    "\n",
    "[回到顶部](#目录)-[题目链接](https://link.zhihu.com/?target=https%3A//www.lintcode.com/en/problem/majority-number/)"
   ]
  },
  {
   "cell_type": "markdown",
   "metadata": {},
   "source": [
    "### 寻找缺失的数\n",
    "\n",
    "[回到顶部](#目录)-[题目链接](https://link.zhihu.com/?target=http%3A//www.lintcode.com/zh-cn/problem/find-the-missing-number/)"
   ]
  },
  {
   "cell_type": "markdown",
   "metadata": {},
   "source": [
    "### 买卖股票最佳时机\n",
    "\n",
    "[回到顶部](#目录)-[题目链接](https://link.zhihu.com/?target=http%3A//www.lintcode.com/zh-cn/problem/best-time-to-buy-and-sell-stock/)"
   ]
  },
  {
   "cell_type": "markdown",
   "metadata": {},
   "source": [
    "### 加油站\n",
    "\n",
    "[回到顶部](#目录)-[题目链接](https://link.zhihu.com/?target=http%3A//www.lintcode.com/zh-cn/problem/gas-station/)"
   ]
  },
  {
   "cell_type": "markdown",
   "metadata": {},
   "source": [
    "### 删除数字\n",
    "\n",
    "[回到顶部](#目录)-[题目链接](https://link.zhihu.com/?target=http%3A//www.lintcode.com/zh-cn/problem/delete-digits/)"
   ]
  },
  {
   "cell_type": "markdown",
   "metadata": {},
   "source": [
    "### 落单的数\n",
    "\n",
    "[回到顶部](#目录)-[题目链接](https://link.zhihu.com/?target=http%3A//www.lintcode.com/zh-cn/problem/single-number-ii/)"
   ]
  },
  {
   "cell_type": "markdown",
   "metadata": {},
   "source": [
    "### 最大子数组差\n",
    "\n",
    "[回到顶部](#目录)-[题目链接](https://link.zhihu.com/?target=http%3A//www.lintcode.com/zh-cn/problem/maximum-subarray-difference/)"
   ]
  },
  {
   "cell_type": "markdown",
   "metadata": {},
   "source": [
    "## 线段树\n",
    "[回到顶部](#目录)\n"
   ]
  },
  {
   "cell_type": "markdown",
   "metadata": {},
   "source": [
    "### 线段树查询\n",
    "\n",
    "[回到顶部](#目录)-[题目链接](https://link.zhihu.com/?target=http%3A//www.lintcode.com/en/problem/segment-tree-query/)"
   ]
  },
  {
   "cell_type": "markdown",
   "metadata": {},
   "source": [
    "### 线段树的构造\n",
    "\n",
    "[回到顶部](#目录)-[题目链接](https://link.zhihu.com/?target=http%3A//www.lintcode.com/zh-cn/problem/segment-tree-build-ii/)"
   ]
  },
  {
   "cell_type": "markdown",
   "metadata": {},
   "source": [
    "### 线段树的修改\n",
    "\n",
    "[回到顶部](#目录)-[题目链接](https://link.zhihu.com/?target=http%3A//www.lintcode.com/zh-cn/problem/segment-tree-modify/)"
   ]
  },
  {
   "cell_type": "markdown",
   "metadata": {},
   "source": [
    "### 区间求和\n",
    "\n",
    "[回到顶部](#目录)-[题目链接](https://link.zhihu.com/?target=http%3A//www.lintcode.com/zh-cn/problem/interval-sum/)"
   ]
  },
  {
   "cell_type": "markdown",
   "metadata": {},
   "source": [
    "### 统计比给定整数小的数的个数\n",
    "\n",
    "[回到顶部](#目录)-[题目链接](https://link.zhihu.com/?target=http%3A//www.lintcode.com/zh-cn/problem/count-of-smaller-number/)"
   ]
  },
  {
   "cell_type": "markdown",
   "metadata": {},
   "source": [
    "## 栈\n",
    "[回到顶部](#目录)\n"
   ]
  },
  {
   "cell_type": "markdown",
   "metadata": {},
   "source": [
    "### 带最小值操作的栈\n",
    "\n",
    "[回到顶部](#目录)-[题目链接](https://link.zhihu.com/?target=http%3A//www.lintcode.com/en/problem/min-stack/)"
   ]
  },
  {
   "cell_type": "markdown",
   "metadata": {},
   "source": [
    "### 用栈实现队列\n",
    "\n",
    "[回到顶部](#目录)-[题目链接](https://link.zhihu.com/?target=http%3A//www.lintcode.com/en/problem/implement-queue-by-two-stacks/)"
   ]
  },
  {
   "cell_type": "markdown",
   "metadata": {},
   "source": [
    "### 有效的括号序列\n",
    "\n",
    "[回到顶部](#目录)-[题目链接](https://link.zhihu.com/?target=http%3A//www.lintcode.com/en/problem/valid-parentheses/)"
   ]
  },
  {
   "cell_type": "markdown",
   "metadata": {},
   "source": [
    "### 简化路径\n",
    "\n",
    "[回到顶部](#目录)-[题目链接](https://link.zhihu.com/?target=http%3A//www.lintcode.com/en/problem/simplify-path/)"
   ]
  },
  {
   "cell_type": "markdown",
   "metadata": {},
   "source": [
    "## 整数\n",
    "[回到顶部](#目录)\n"
   ]
  },
  {
   "cell_type": "markdown",
   "metadata": {},
   "source": [
    "### 反转整数\n",
    "\n",
    "[回到顶部](#目录)-[题目链接](https://link.zhihu.com/?target=http%3A//www.lintcode.com/en/problem/reverse-integer/)"
   ]
  },
  {
   "cell_type": "markdown",
   "metadata": {},
   "source": [
    "### 将整数A转换为B\n",
    "\n",
    "[回到顶部](#目录)-[题目链接](https://link.zhihu.com/?target=http%3A//www.lintcode.com/zh-cn/problem/flip-bits/)"
   ]
  },
  {
   "cell_type": "markdown",
   "metadata": {},
   "source": [
    "### 整数排序\n",
    "\n",
    "[回到顶部](#目录)-[题目链接](https://link.zhihu.com/?target=http%3A//www.lintcode.com/zh-cn/problem/sort-integers/)"
   ]
  },
  {
   "cell_type": "markdown",
   "metadata": {},
   "source": [
    "## 字符串处理\n",
    "[回到顶部](#目录)\n"
   ]
  },
  {
   "cell_type": "markdown",
   "metadata": {},
   "source": [
    "### 罗马数字转整数\n",
    "\n",
    "[回到顶部](#目录)-[题目链接](https://link.zhihu.com/?target=http%3A//www.lintcode.com/en/problem/roman-to-integer/)"
   ]
  },
  {
   "cell_type": "markdown",
   "metadata": {},
   "source": [
    "### 回文数\n",
    "\n",
    "[回到顶部](#目录)-[题目链接](https://link.zhihu.com/?target=http%3A//www.lintcode.com/en/problem/palindrome-number/)"
   ]
  },
  {
   "cell_type": "markdown",
   "metadata": {},
   "source": [
    "### 乱序字符串\n",
    "\n",
    "[回到顶部](#目录)-[题目链接](https://link.zhihu.com/?target=http%3A//www.lintcode.com/en/problem/anagrams/)"
   ]
  },
  {
   "cell_type": "markdown",
   "metadata": {},
   "source": [
    "### 有效回文串\n",
    "\n",
    "[回到顶部](#目录)-[题目链接](https://link.zhihu.com/?target=http%3A//www.lintcode.com/en/problem/valid-palindrome/)"
   ]
  },
  {
   "cell_type": "markdown",
   "metadata": {},
   "source": [
    "### 翻转字符串\n",
    "\n",
    "[回到顶部](#目录)-[题目链接](https://link.zhihu.com/?target=http%3A//www.lintcode.com/en/problem/reverse-words-in-a-string/)"
   ]
  },
  {
   "cell_type": "markdown",
   "metadata": {},
   "source": [
    "### 最长无重复字符的子串\n",
    "\n",
    "[回到顶部](#目录)-[题目链接](https://link.zhihu.com/?target=https%3A//www.lintcode.com/en/problem/longest-substring-without-repeating-characters/)"
   ]
  },
  {
   "cell_type": "markdown",
   "metadata": {},
   "source": [
    "### 字符串压缩\n",
    "\n",
    "[回到顶部](#目录)-[题目链接](https://link.zhihu.com/?target=http%3A//www.lintcode.com/en/problem/string-compression/)"
   ]
  },
  {
   "cell_type": "markdown",
   "metadata": {},
   "source": [
    "### 比较字符串\n",
    "\n",
    "[回到顶部](#目录)-[题目链接](https://link.zhihu.com/?target=http%3A//www.lintcode.com/en/problem/compare-strings/)"
   ]
  },
  {
   "cell_type": "markdown",
   "metadata": {},
   "source": [
    "### 编辑距离II\n",
    "\n",
    "[回到顶部](#目录)-[题目链接](https://link.zhihu.com/?target=http%3A//www.lintcode.com/en/problem/edit-distance-ii/)"
   ]
  }
 ],
 "metadata": {
  "kernelspec": {
   "display_name": "pytorch",
   "language": "python",
   "name": "pytorch"
  },
  "language_info": {
   "codemirror_mode": {
    "name": "ipython",
    "version": 3
   },
   "file_extension": ".py",
   "mimetype": "text/x-python",
   "name": "python",
   "nbconvert_exporter": "python",
   "pygments_lexer": "ipython3",
   "version": "3.7.8"
  }
 },
 "nbformat": 4,
 "nbformat_minor": 4
}
