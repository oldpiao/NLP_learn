{
 "cells": [
  {
   "cell_type": "markdown",
   "metadata": {},
   "source": [
    "# 变分法（Variational Inference）"
   ]
  },
  {
   "cell_type": "markdown",
   "metadata": {},
   "source": [
    "## Approximate inference（近似推理）\n",
    "\n",
    "- MCMC(马尔可夫链蒙特卡罗算法)\n",
    "    - Gibbs Sampling\n",
    "    - Collapsed Gibbles Sampling\n",
    "    - unbias算法\n",
    "    - 速度慢（需要采样）\n",
    "- Variational Inference(变分推断)\n",
    "    - 采样， 优化型(coordinate), SGD\n",
    "    - bias算法\n",
    "    - 速度快（优化型算法）"
   ]
  },
  {
   "cell_type": "markdown",
   "metadata": {},
   "source": [
    "## 1 变分法的核心思想\n",
    "\n",
    "### 1.1 使用易于计算的概率函数近似表示原概率函数 \n",
    "存在一个很难计算的条件概率$p(z|x, \\alpha)$,我们为了**简单、近似**的计算该条件概率$p$,使用一个易于计算的新的后验概率$q(z|\\theta)$，来近似的表示$p$，然后再去优化、计算。其中参数$\\theta$为一个全新的参数。\n",
    "\n",
    "为了更好的近似p，可以建立多个q。"
   ]
  },
  {
   "cell_type": "markdown",
   "metadata": {},
   "source": [
    "## 2 有两个分布，如何计算其相似度？\n",
    "\n",
    "[分布的相似度（距离）计算](https://blog.csdn.net/imfengyitong/article/details/69374951)\n",
    "\n",
    "[统计分布的距离/相似性计算](https://blog.csdn.net/u012526003/article/details/84455456)\n",
    "\n",
    "- **K-L Divergence**(Kullback-Leibler Divergence, K-L散度)\n",
    "- **transposition distance**\n",
    "- **EMD距离**(Earth Mover's Distance)\n",
    "- **wasserstein Distance**\n",
    "\n",
    "<font color='red' width=24><strong>问题延伸：</strong></font>\n",
    "如何计算两个**向量/图/字符串/矩阵/分布**的相似度？"
   ]
  },
  {
   "cell_type": "markdown",
   "metadata": {},
   "source": [
    "### K-L散度\n",
    "\n",
    "**目标**：$p(z|x, \\alpha)$ --> $q(z|\\theta)$\n",
    "\n",
    "**asymmetric matric**:KL散度是非对称的 \n",
    "$$KL(q||p)\\not=KLp||q)$$\n",
    "\n",
    "一个简单的方法将KL散度从asymmetric matric变成symmetric matric：\n",
    "$$KL(p,q)=\\frac{KL(p||q)+KL(p||q)}{2}$$\n",
    "\n",
    "**KL散度公式：**\n",
    "$$KL(q||p)=E_q\\left[log\\frac{q(z)}{p(z|x)}\\right]$$\n",
    "\n",
    "KL值越高，相似度月低，KL越低，相似度越高。"
   ]
  },
  {
   "cell_type": "code",
   "execution_count": null,
   "metadata": {},
   "outputs": [],
   "source": []
  }
 ],
 "metadata": {
  "kernelspec": {
   "display_name": "pytorch",
   "language": "python",
   "name": "pytorch"
  },
  "language_info": {
   "codemirror_mode": {
    "name": "ipython",
    "version": 3
   },
   "file_extension": ".py",
   "mimetype": "text/x-python",
   "name": "python",
   "nbconvert_exporter": "python",
   "pygments_lexer": "ipython3",
   "version": "3.7.8"
  }
 },
 "nbformat": 4,
 "nbformat_minor": 4
}
