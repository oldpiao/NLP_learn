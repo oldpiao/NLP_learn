{
 "cells": [
  {
   "cell_type": "markdown",
   "metadata": {
    "colab_type": "text",
    "id": "view-in-github"
   },
   "source": [
    "<a href=\"https://colab.research.google.com/github/JimmyXiaodong/pytorch-study/blob/master/model_lstm_pos_tagging.ipynb\" target=\"_parent\"><img src=\"https://colab.research.google.com/assets/colab-badge.svg\" alt=\"Open In Colab\"/></a>"
   ]
  },
  {
   "cell_type": "code",
   "execution_count": 2,
   "metadata": {
    "colab": {
     "base_uri": "https://localhost:8080/",
     "height": 34
    },
    "colab_type": "code",
    "id": "vOUOSHFlxj8v",
    "outputId": "801fee6d-1926-46eb-ffc5-4f992773f703"
   },
   "outputs": [
    {
     "name": "stdout",
     "output_type": "stream",
     "text": [
      "{'T': 0, 'h': 1, 'e': 2, 'd': 3, 'o': 4, 'g': 5, 'a': 6, 't': 7, 'p': 8, 'l': 9, 'E': 10, 'v': 11, 'r': 12, 'y': 13, 'b': 14, 'k': 15}\n"
     ]
    }
   ],
   "source": [
    "import torch\n",
    "import torch.nn as nn\n",
    "import torch.nn.functional as F\n",
    "import torch.optim as optim\n",
    "\n",
    "\n",
    "def prepare_sequence(seq, to_ix):\n",
    "    idxs = [to_ix[w] for w in seq]\n",
    "    return torch.tensor(idxs, dtype=torch.long)\n",
    "\n",
    "\n",
    "training_data = [\n",
    "    (\"The dog ate the apple\".split(), [\"DET\", \"NN\", \"V\", \"DET\", \"NN\"]),\n",
    "    (\"Everybody read that book\".split(), [\"NN\", \"V\", \"DET\", \"NN\"])\n",
    "]\n",
    "word_to_ix = {}\n",
    "character_to_ix = {}\n",
    "words_characters = {}\n",
    "\n",
    "for sent, tags in training_data:\n",
    "    for word in sent:\n",
    "        if word not in word_to_ix:\n",
    "            words_characters[len(word_to_ix)] = list(word)\n",
    "            word_to_ix[word] = len(word_to_ix)\n",
    "\n",
    "            for character in word:\n",
    "                if character not in character_to_ix:\n",
    "                    character_to_ix[character] = len(character_to_ix)\n",
    "\n",
    "print(character_to_ix)\n",
    "tag_to_ix = {\"DET\": 0, \"NN\": 1, \"V\": 2}"
   ]
  },
  {
   "cell_type": "code",
   "execution_count": 3,
   "metadata": {
    "colab": {},
    "colab_type": "code",
    "id": "q0B3xHttxxcJ"
   },
   "outputs": [],
   "source": [
    "# 实际中通常使用更大的维度如32维, 64维.\n",
    "# 这里我们使用小的维度, 为了方便查看训练过程中权重的变化.\n",
    "WORD_EMBEDDING_DIM = 6\n",
    "CHARACTER_EMBEDDING_DIM = 3\n",
    "HIDDEN_DIM = 6\n",
    "CHARACTER_HIDDEN_DIM = 3\n",
    "\n",
    "\n",
    "class LSTMTagger(nn.Module):\n",
    "\n",
    "    def __init__(self, embedding_dim, character_embedding_dim, hidden_dim, character_hidden_dim, vocab_size,\n",
    "                 character_size, tagset_size):\n",
    "        super(LSTMTagger, self).__init__()\n",
    "        self.hidden_dim = hidden_dim\n",
    "        self.character_hidden_dim = character_hidden_dim\n",
    "        # 词嵌入\n",
    "        self.word_embeddings = nn.Embedding(vocab_size, embedding_dim)\n",
    "\n",
    "        # 字符嵌入\n",
    "        self.character_embeddings = nn.Embedding(character_size, character_embedding_dim)\n",
    "\n",
    "        # lstm_character以每个字符的character_embeddings作为输入, 输出即为该单词对应字符级别的特征，输出维度为 character_hidden_dim 的隐藏状态值\n",
    "        self.lstm_character = nn.LSTM(character_embedding_dim, character_hidden_dim)\n",
    "\n",
    "        # tag_lstm以word_embeddings和该词字符级别特征的拼接向量作为输入, 输出维度为 hidden_dim 的隐藏状态值\n",
    "        self.tag_lstm = nn.LSTM(embedding_dim + character_hidden_dim, hidden_dim)\n",
    "\n",
    "        # 线性层将隐藏状态空间映射到标注空间\n",
    "        self.hidden2tag = nn.Linear(hidden_dim, tagset_size)\n",
    "        self.hidden_tag = self.init_hidden(hidden_dim)\n",
    "        self.hidden_character = self.init_hidden(character_hidden_dim)\n",
    "\n",
    "    def init_hidden(self, hidden_dim):\n",
    "        # 一开始并没有隐藏状态所以我们要先初始化一个\n",
    "        # 关于维度为什么这么设计请参考Pytoch相关文档\n",
    "        # 各个维度的含义是 (num_layers, minibatch_size, hidden_dim)\n",
    "        return (torch.zeros(1, 1, hidden_dim),\n",
    "                torch.zeros(1, 1, hidden_dim))\n",
    "\n",
    "    def forward(self, sentence, words_characters):\n",
    "\n",
    "        embeds = list()\n",
    "        for sentence_word in sentence:\n",
    "            # 词嵌入\n",
    "            word_embed = self.word_embeddings(sentence_word)\n",
    "\n",
    "            # 获取单词字符级别的特征\n",
    "            word_character = words_characters[sentence_word.item()]\n",
    "            word_character_in = prepare_sequence(word_character, character_to_ix)\n",
    "            character_embeds = self.character_embeddings(word_character_in)\n",
    "            character_lstm_out, self.hidden_character = self.lstm_character(\n",
    "                character_embeds.view(len(word_character_in), 1, -1), self.hidden_character)\n",
    "\n",
    "            # 拼接词向量与字符级别的特征\n",
    "            embed = torch.cat((word_embed, self.hidden_character[0].view(-1)))\n",
    "            embeds.append(embed)\n",
    "\n",
    "        # 拼接句子中每个词的词向量，拼接后的结果作为tag_lstm的输入\n",
    "        embeds = torch.cat(embeds).view(len(sentence), 1, -1)\n",
    "        lstm_out, self.hidden_tag = self.tag_lstm(embeds, self.hidden_tag)\n",
    "        tag_space = self.hidden2tag(lstm_out.view(len(sentence), -1))\n",
    "        tag_scores = F.log_softmax(tag_space, dim=1)\n",
    "        return tag_scores\n",
    "\n",
    "\n",
    "model = LSTMTagger(WORD_EMBEDDING_DIM, CHARACTER_EMBEDDING_DIM, HIDDEN_DIM, CHARACTER_HIDDEN_DIM, len(word_to_ix),\n",
    "                   len(character_to_ix), len(tag_to_ix))\n",
    "loss_function = nn.NLLLoss()\n",
    "optimizer = optim.SGD(model.parameters(), lr=0.1)"
   ]
  },
  {
   "cell_type": "code",
   "execution_count": 4,
   "metadata": {
    "colab": {
     "base_uri": "https://localhost:8080/",
     "height": 255
    },
    "colab_type": "code",
    "id": "2NXEw3lRx5IX",
    "outputId": "eff597ea-4387-4517-d7be-9bb10e0b165b"
   },
   "outputs": [
    {
     "name": "stdout",
     "output_type": "stream",
     "text": [
      "训练前的分数：\n",
      "\n",
      "tensor([[-1.0777, -0.8799, -1.4074],\n",
      "        [-1.1135, -0.8977, -1.3315],\n",
      "        [-1.1135, -0.9231, -1.2935],\n",
      "        [-1.4582, -0.8372, -1.0953],\n",
      "        [-1.2561, -0.8412, -1.2586]])\n",
      "训练后的分数：\n",
      "\n",
      "tensor([[-0.0962, -2.4535, -5.1684],\n",
      "        [-5.9003, -0.0162, -4.3165],\n",
      "        [-4.7111, -3.3033, -0.0468],\n",
      "        [-0.0109, -5.0973, -5.3566],\n",
      "        [-4.1152, -0.0198, -5.7050]])\n"
     ]
    }
   ],
   "source": [
    "# 查看训练前的分数\n",
    "# 注意: 输出的 i,j 元素的值表示单词 i 的 j 标签的得分\n",
    "# 这里我们不需要训练不需要求导，所以使用torch.no_grad()\n",
    "with torch.no_grad():\n",
    "    inputs = prepare_sequence(training_data[0][0], word_to_ix)\n",
    "    tag_scores = model(inputs, words_characters)\n",
    "    print(\"训练前的分数：\\n\")\n",
    "    print(tag_scores)\n",
    "\n",
    "for epoch in range(300):  # 实际情况下你不会训练300个周期, 此例中我们只是随便设了一个值\n",
    "    for sentence, tags in training_data:\n",
    "        # 第一步: 请记住Pytorch会累加梯度.\n",
    "        # 我们需要在训练每个实例前清空梯度\n",
    "        model.zero_grad()\n",
    "\n",
    "        # 此外还需要清空 LSTM 的隐状态,\n",
    "        # 将其从上个实例的历史中分离出来.\n",
    "        model.hidden_tag = model.init_hidden(HIDDEN_DIM)\n",
    "        model.hidden_character = model.init_hidden(CHARACTER_HIDDEN_DIM)\n",
    "\n",
    "        # 准备网络输入, 将其变为词索引的 Tensor 类型数据\n",
    "        sentence_in = prepare_sequence(sentence, word_to_ix)\n",
    "        targets = prepare_sequence(tags, tag_to_ix)\n",
    "\n",
    "        # 第三步: 前向传播.\n",
    "        tag_scores = model(sentence_in, words_characters)\n",
    "\n",
    "        # 第四步: 计算损失和梯度值, 通过调用 optimizer.step() 来更新梯度\n",
    "        loss = loss_function(tag_scores, targets)\n",
    "        loss.backward()\n",
    "        optimizer.step()\n",
    "\n",
    "# 查看训练后的得分\n",
    "with torch.no_grad():\n",
    "    inputs = prepare_sequence(training_data[0][0], word_to_ix)\n",
    "    tag_scores = model(inputs, words_characters)\n",
    "\n",
    "    # 句子是 \"the dog ate the apple\", i,j 表示对于单词 i, 标签 j 的得分.\n",
    "    # 我们采用得分最高的标签作为预测的标签. 从下面的输出我们可以看到, 预测得\n",
    "    # 到的结果是0 1 2 0 1. 因为 索引是从0开始的, 因此第一个值0表示第一行的\n",
    "    # 最大值, 第二个值1表示第二行的最大值, 以此类推. 所以最后的结果是 DET\n",
    "    # NOUN VERB DET NOUN, 整个序列都是正确的!\n",
    "    print(\"训练后的分数：\\n\")\n",
    "    print(tag_scores)"
   ]
  },
  {
   "cell_type": "code",
   "execution_count": null,
   "metadata": {
    "colab": {},
    "colab_type": "code",
    "id": "499moUS3x-CO"
   },
   "outputs": [],
   "source": []
  }
 ],
 "metadata": {
  "colab": {
   "authorship_tag": "ABX9TyNG2KNhc+49fvWohWX8zJ0h",
   "collapsed_sections": [],
   "include_colab_link": true,
   "name": "model_lstm_pos_tagging.ipynb",
   "provenance": []
  },
  "kernelspec": {
   "display_name": "pytorch",
   "language": "python",
   "name": "pytorch"
  },
  "language_info": {
   "codemirror_mode": {
    "name": "ipython",
    "version": 3
   },
   "file_extension": ".py",
   "mimetype": "text/x-python",
   "name": "python",
   "nbconvert_exporter": "python",
   "pygments_lexer": "ipython3",
   "version": "3.7.8"
  }
 },
 "nbformat": 4,
 "nbformat_minor": 1
}
