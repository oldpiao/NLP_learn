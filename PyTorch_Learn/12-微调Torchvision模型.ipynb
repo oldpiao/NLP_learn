{
 "cells": [
  {
   "cell_type": "markdown",
   "metadata": {},
   "source": [
    "<font color=red>注：此处是文档第126页</font>"
   ]
  },
  {
   "cell_type": "markdown",
   "metadata": {},
   "source": [
    "## 微调 Torchvision 模型\n",
    "在本教程中，我们将深入探讨如何对 torchvision 模型进行微调和特征提取，所有这些模型都已经预先在1000类的magenet数据集上训练完成。本教程将深入介绍如何使用几个现代的CNN架构，并将直观展示如何微调任意的PyTorch模型。由于每个模型架构是有差异的，因此没有可以在所有场景中使用的微调代码样板。然而，研究人员必须查看现有架构并对每个模型进行自定义调整。\n",
    "\n",
    "在本文档中，我们将执行两种类型的转移学习：**微调和特征提取**。\n",
    "\n",
    "在**微调**中，我们从预训练模型开始，更新我们新任务的所有模型参数，实质上是重新训练整个模型。\n",
    "\n",
    "在**特征提取**中，我们从预训练模型开始，仅更新从中导出预测的最终图层权重。它被称为特征提取，因为我们使用预训练的CNN作为固定的特征提取器，并且仅改变输出层。\n",
    "\n",
    "有关迁移学习的更多技术信息，请参阅[此处](https://cs231n.github.io/transfer-learning/)和[这里](https://ruder.io/transfer-learning/)。\n",
    "\n",
    "通常，这两种迁移学习方法都遵循以下几个步骤：\n",
    "- 初始化预训练模型\n",
    "- 重组最后一层，使其具有与新数据集类别数相同的输出数\n",
    "- 为优化算法定义我们想要在训练期间更新的参数\n",
    "- 运行训练步骤\n",
    "\n",
    "### 1.导入相关包并打印版本号"
   ]
  },
  {
   "cell_type": "code",
   "execution_count": 1,
   "metadata": {},
   "outputs": [
    {
     "name": "stdout",
     "output_type": "stream",
     "text": [
      "PyTorch Version:  1.6.0\n",
      "Torchvision Version:  0.7.0\n"
     ]
    }
   ],
   "source": [
    "from __future__ import print_function\n",
    "from __future__ import division\n",
    "import torch\n",
    "import torch.nn as nn\n",
    "import torch.optim as optim\n",
    "import numpy as np\n",
    "import torchvision\n",
    "from torchvision import datasets, models, transforms\n",
    "import matplotlib.pyplot as plt\n",
    "import time\n",
    "import os\n",
    "import copy\n",
    "print(\"PyTorch Version: \",torch.__version__)\n",
    "print(\"Torchvision Version: \",torchvision.__version__)"
   ]
  },
  {
   "cell_type": "markdown",
   "metadata": {},
   "source": [
    "### 2.输入\n",
    "以下为运行时需要更改的所有参数。我们将使用的数据集 `hymenoptera_data` 可在[此处](https://download.pytorch.org/tutorial/hymenoptera_data.zip)下载。该数据集包含两类：**蜜蜂**和**蚂蚁**，其结构使得我们可以使用 `ImageFolder` 数据集，不需要编写我们自己的自定义数据集。下载数据并设置 `data_dir` 为数据集的根目录。 `model_name` 是您要使用的模型名称，必须从此列表中选择：\n",
    "\n",
    "`[resnet, alexnet, vgg, squeezenet, densenet, inception]`\n",
    "\n",
    "其他输入如下： `num_classes` 为数据集的类别数， `batch_size` 是训练的 `batch` 大小，可以根据您机器的计算能力进行调整， `num_epochsis` 是 我们想要运行的训练 `epoch` 数，`feature_extractis` 是定义我们选择微调还是特征提取的布尔值。如果 `feature_extract = False` ，将微调模型，并更新所有模型参数。如果 `feature_extract = True`，则仅更新最后一层的参数，其他参数保持不变。"
   ]
  },
  {
   "cell_type": "code",
   "execution_count": 2,
   "metadata": {},
   "outputs": [],
   "source": [
    "# 顶级数据目录。 这里我们假设目录的格式符合ImageFolder结构\n",
    "data_dir = \"../../data/hymenoptera_data\"\n",
    "# 从[resnet, alexnet, vgg, squeezenet, densenet, inception]中选择模型\n",
    "model_name = \"squeezenet\"\n",
    "# 数据集中类别数量\n",
    "num_classes = 2\n",
    "# 训练的批量大小（根据您的内存量而变化）\n",
    "batch_size = 8\n",
    "# 你要训练的epoch数\n",
    "num_epochs = 15\n",
    "\n",
    "# 用于特征提取的标志。 当为False时，我们微调整个模型，\n",
    "# 当True时我们只更新重新形成的图层参数\n",
    "feature_extract = True\n",
    "\n",
    "device = torch.device('cuda') if torch.cuda.is_available() else torch.device('cpu')"
   ]
  },
  {
   "cell_type": "markdown",
   "metadata": {},
   "source": [
    "### 3.辅助函数\n",
    "在编写调整模型的代码之前，我们先定义一些辅助函数。\n",
    "#### 3.1 模型训练和验证代码 \n",
    "- `train_model` 函数处理给定模型的训练和验证。作为输入，它需要PyTorch模型、数据加载器字典、损失函数、优化器、用于训练和验证`epoch`数，以及当模型是初始模型时的布尔标志。\n",
    "- `is_inception` 标志用于容纳 `Inception v3` 模型，因为该体系结构使用辅助输出，并且整体模型损失涉及辅助输出和最终输出，如此处所述。这个函数训练指定数量的`epoch`,并且在每个`epoch`之后运行完整的验证步骤。它还跟踪最佳性能的模型（从验证准确率方面），并在训练结束时返回性能最好的模型。在每个`epoch`之后，打印训练和验证正确率。 \n",
    "\n",
    "<font color=\"red\">epoch - n. [地质] 世；新纪元；新时代；时间上的一点(在这里指代训练时的一个时刻，训练的某一次迭代)</font>"
   ]
  },
  {
   "cell_type": "code",
   "execution_count": 3,
   "metadata": {},
   "outputs": [],
   "source": [
    "def train_model(model, dataloaders, criterion, optimizer, num_epochs=25, is_inception=False):\n",
    "    \"\"\"\n",
    "    param: model: 模型\n",
    "    param: dataloaders: 数据\n",
    "    param: criterion: 标准\n",
    "    param: optimizer: 优化器\n",
    "    param: num_epochs: default=25, 迭代次数\n",
    "    param: is_inception: default=False, 初始化\n",
    "    \"\"\"\n",
    "    since = time.time()\n",
    "    val_acc_history = []\n",
    "    best_model_wts = copy.deepcopy(model.state_dict())\n",
    "    best_acc = 0.0\n",
    "    \n",
    "    for epoch in range(num_epochs):\n",
    "        print(\"Epoch {}/{}\".format(epoch, num_epochs - 1))\n",
    "        print('-' * 10)\n",
    "        \n",
    "        # 每个epoch都有一个训练和验证阶段\n",
    "        for phase in ['train', 'val']:\n",
    "            if phase == 'train':\n",
    "                model.train()  # Set model to training mode\n",
    "            else:\n",
    "                model.eval()  # Set model to evaluate mode\n",
    "            \n",
    "            running_loss = 0.0\n",
    "            running_corrects = 0\n",
    "            \n",
    "            # 迭代数据\n",
    "            for inputs, lables in dataloaders[phase]:\n",
    "                inputs = inputs.to(device)\n",
    "                lables = lables.to(device)\n",
    "                \n",
    "                # 0参数梯度\n",
    "                optimizer.zero_grad()\n",
    "                \n",
    "                # 前向\n",
    "                # 如果是在训练时则跟踪轨迹\n",
    "                with torch.set_grad_enabled(phase==\"train\"):\n",
    "                    # 获取模型输出并计算损失\n",
    "                    # 开始的特殊情况，因为在训练中它有一个辅助输出。\n",
    "                    # 在训练模式下，我们通过将最终输出和辅助输出相加来计算损耗\n",
    "                    # 但在测试中我们只考虑最终输出。\n",
    "                    if is_inception and phase == 'train':\n",
    "                        # From https://discuss.pytorch.org/t/how-to-optimizeinception-model-with-auxiliary-classifiers/7958\n",
    "                        outputs, aux_outputs = model(inputs)\n",
    "                        loss1 = criterion(outputs, lables)\n",
    "                        loss2 = criterion(aux_outputs, lables)\n",
    "                        loss = loss1 + 0.4 * loss2\n",
    "                    else:\n",
    "                        outputs = model(inputs)\n",
    "                        loss = criterion(outputs, lables)\n",
    "                        \n",
    "                    _, preds = torch.max(outputs, 1)\n",
    "                    \n",
    "                    # backward + optimize only if in training phase\n",
    "                    if phase == \"train\":\n",
    "                        loss.backward()\n",
    "                        optimizer.step()\n",
    "                        \n",
    "                # 统计\n",
    "                running_loss += loss.item() * inputs.size(0)\n",
    "                running_corrects += torch.sum(preds == lables.data)\n",
    "                \n",
    "            epoch_loss = running_loss / len(dataloaders[phase].dataset)\n",
    "            epoch_acc = running_corrects.double() / len(dataloaders[phase].dataset)\n",
    "            \n",
    "            print('{} Loss: {:.4f} Acc: {:.4f}'.format(phase, epoch_loss, epoch_acc))\n",
    "            \n",
    "            # deep copy the model\n",
    "            if phase == 'val' and epoch_acc > best_acc:\n",
    "                best_acc = epoch_acc\n",
    "                best_model_wts = copy.deepcopy(model.state_dict()) \n",
    "            if phase == \"val\":\n",
    "                val_acc_history.append(epoch_acc)\n",
    "        \n",
    "        print()\n",
    "    time_elapsed = time.time() - since\n",
    "    print('Training complete in {:.0f}m {:.0f}s'.format(time_elapsed // 60, time_elapsed % 60))\n",
    "    print('Best val Acc: {:4f}'.format(best_acc))\n",
    "\n",
    "    # load basr model weights\n",
    "    model.load_state_dict(best_model_wts)\n",
    "    return model, val_acc_history"
   ]
  },
  {
   "cell_type": "markdown",
   "metadata": {},
   "source": [
    "### 3.2 设置模型参数的 `.requires_grad` 属性\n",
    "当我们进行特征提取时，此辅助函数将模型中参数的 `.requires_grad` 属性设置为`False`。默认情况下，当我们加载一个预训练模型时，所有参数都是 `.requires_grad = True` ，如果我们从头开始训练或微调，这种设置就没问题。但是，如果我们要运行特征提取并且只想为新初始化的层计算梯度，那么我们希望所有其他参数不需要梯度变化。这将在稍后更能理解。 "
   ]
  },
  {
   "cell_type": "code",
   "execution_count": 4,
   "metadata": {},
   "outputs": [],
   "source": [
    "def set_parameter_requires_grad(model, feature_extracting):\n",
    "    if feature_extracting:\n",
    "        for param in model.parameters():\n",
    "            param.requires_grad = False"
   ]
  },
  {
   "cell_type": "markdown",
   "metadata": {},
   "source": [
    "## 4.初始化和重塑网络\n",
    "现在来到最有趣的部分。在这里我们对每个网络进行重塑。请注意，这不是一个自动过程，并且对每个模型都是唯一的。 回想一下，CNN模型的最后一层（通常是FC层）与数据集中的输出类的数量具有相同的节点数。由于所有模型都已在 `Imagenet` 上预先训练， 因此它们都具有大小为1000的输出层，每个类一个节点。这里的目标是将最后一层重塑为与之前具有相同数量的输入，并且具有与数据集中的类别数相同的输出数。在以下部分中，我们将讨论如何更改每个模型的体系结构。但首先，有一个关于微调和特征提取之间差异的重要细节。\n",
    "\n",
    "当进行特征提取时，我们只想更新最后一层的参数，换句话说，我们只想更新我们正在重塑层的参数。因此，我们不需要计算不需要改变的参数的梯度，因此为了提高效率，我们将其它层的 `.requires_grad` 属性设置为False。这很重要，因为默认情况下，此属性设置为True。 然后，当我们初始化新层时，默认情况下新参数 `.requires_grad = True` ，因此只更新新层的参数。当我们进行微调时，我们可以将所有 `.required_grad` 设置为默认值True。\n",
    "\n",
    "最后，请注意 `inception_v3` 的输入大小为（299,299），而所有其他模型都输入为（224,224）。"
   ]
  },
  {
   "attachments": {
    "image.png": {
     "image/png": "[encoded data removed]"
    }
   },
   "cell_type": "markdown",
   "metadata": {},
   "source": [
    "### 4.1 Resnet\n",
    "\n",
    "[ResNet详解——通俗易懂版](https://blog.csdn.net/sunny_yeah_/article/details/89430124)\n",
    "\n",
    "**公式**\n",
    "$$a^{[l+2]}=Relu(W^{[l+2]}(Relu(W^{[l+1]}a^{[l]}+b^{[l+1]})+b^{[l+2]}+a^{[l]})$$\n",
    "\n",
    "**图解**\n",
    "![image.png](attachment:image.png)\n",
    "\n",
    "论文[Deep Residual Learning for Image Recognition](https://arxiv.org/abs/1512.03385)介绍了Resnet模型。有几种不同尺寸的变体，包括Resnet18、Resnet34、Resnet50、Resnet101和Resnet152，所有这些模型都可以从 `torchvision` 模型中获得。因为我们的数据集很小， 只有两个类，所以我们使用Resnet18。 当我们打印这个模型时，我们看到最后一层是全连接层，如下所示：\n",
    "```python\n",
    "(fc): Linear(in_features=512, out_features=1000, bias=True)\n",
    "```"
   ]
  },
  {
   "cell_type": "code",
   "execution_count": 5,
   "metadata": {},
   "outputs": [],
   "source": [
    "model = models.resnet18()"
   ]
  },
  {
   "cell_type": "code",
   "execution_count": 6,
   "metadata": {},
   "outputs": [
    {
     "data": {
      "text/plain": [
       "Linear(in_features=512, out_features=1000, bias=True)"
      ]
     },
     "execution_count": 6,
     "metadata": {},
     "output_type": "execute_result"
    }
   ],
   "source": [
    "model.fc"
   ]
  },
  {
   "cell_type": "markdown",
   "metadata": {},
   "source": [
    "因此，我们必须将 `model.fc` 重新初始化为具有512个输入特征和2个输出特征的线性层："
   ]
  },
  {
   "cell_type": "code",
   "execution_count": 7,
   "metadata": {},
   "outputs": [],
   "source": [
    "model.fc = nn.Linear(512, num_classes)"
   ]
  },
  {
   "cell_type": "code",
   "execution_count": 8,
   "metadata": {},
   "outputs": [
    {
     "data": {
      "text/plain": [
       "Linear(in_features=512, out_features=2, bias=True)"
      ]
     },
     "execution_count": 8,
     "metadata": {},
     "output_type": "execute_result"
    }
   ],
   "source": [
    "model.fc"
   ]
  },
  {
   "cell_type": "markdown",
   "metadata": {},
   "source": [
    "### 4.2 Alexnet\n",
    "Alexnet在论文[ImageNet Classification with Deep Convolutional Neural Networks](https://papers.nips.cc/paper/4824-imagenet-classification-with-deep-convolutional-neural-networks.pdf) 中被介绍，是ImageNet数据集上第一个非常成功的CNN。当我们打印模型架构时，我们看到模型输出为分类器的第6层: "
   ]
  },
  {
   "cell_type": "code",
   "execution_count": 9,
   "metadata": {},
   "outputs": [],
   "source": [
    "model = models.AlexNet()"
   ]
  },
  {
   "cell_type": "code",
   "execution_count": 10,
   "metadata": {},
   "outputs": [
    {
     "data": {
      "text/plain": [
       "Sequential(\n",
       "  (0): Dropout(p=0.5, inplace=False)\n",
       "  (1): Linear(in_features=9216, out_features=4096, bias=True)\n",
       "  (2): ReLU(inplace=True)\n",
       "  (3): Dropout(p=0.5, inplace=False)\n",
       "  (4): Linear(in_features=4096, out_features=4096, bias=True)\n",
       "  (5): ReLU(inplace=True)\n",
       "  (6): Linear(in_features=4096, out_features=1000, bias=True)\n",
       ")"
      ]
     },
     "execution_count": 10,
     "metadata": {},
     "output_type": "execute_result"
    }
   ],
   "source": [
    "model.classifier"
   ]
  },
  {
   "cell_type": "markdown",
   "metadata": {},
   "source": [
    "要在我们的数据集中使用这个模型，我们将此图层重新初始化为: "
   ]
  },
  {
   "cell_type": "code",
   "execution_count": 11,
   "metadata": {},
   "outputs": [
    {
     "data": {
      "text/plain": [
       "Sequential(\n",
       "  (0): Dropout(p=0.5, inplace=False)\n",
       "  (1): Linear(in_features=9216, out_features=4096, bias=True)\n",
       "  (2): ReLU(inplace=True)\n",
       "  (3): Dropout(p=0.5, inplace=False)\n",
       "  (4): Linear(in_features=4096, out_features=4096, bias=True)\n",
       "  (5): ReLU(inplace=True)\n",
       "  (6): Linear(in_features=4096, out_features=2, bias=True)\n",
       ")"
      ]
     },
     "execution_count": 11,
     "metadata": {},
     "output_type": "execute_result"
    }
   ],
   "source": [
    "model.classifier[6] = nn.Linear(4096, num_classes)\n",
    "model.classifier"
   ]
  },
  {
   "cell_type": "markdown",
   "metadata": {},
   "source": [
    "### 4.3 VGG\n",
    "VGG在论文[Very Deep Convolutional Networks for Large-Scale Image Recognition](https://arxiv.org/pdf/1409.1556.pdf) 中被引入。Torchvision 提供了8种不同长度的VGG版本，其中一些版本具有批标准化层。这里我们使用VGG-11进行批标准化。 输出层与Alexnet类似，即"
   ]
  },
  {
   "cell_type": "code",
   "execution_count": 12,
   "metadata": {},
   "outputs": [],
   "source": [
    "model = models.vgg11()"
   ]
  },
  {
   "cell_type": "code",
   "execution_count": 13,
   "metadata": {},
   "outputs": [
    {
     "data": {
      "text/plain": [
       "Sequential(\n",
       "  (0): Linear(in_features=25088, out_features=4096, bias=True)\n",
       "  (1): ReLU(inplace=True)\n",
       "  (2): Dropout(p=0.5, inplace=False)\n",
       "  (3): Linear(in_features=4096, out_features=4096, bias=True)\n",
       "  (4): ReLU(inplace=True)\n",
       "  (5): Dropout(p=0.5, inplace=False)\n",
       "  (6): Linear(in_features=4096, out_features=1000, bias=True)\n",
       ")"
      ]
     },
     "execution_count": 13,
     "metadata": {},
     "output_type": "execute_result"
    }
   ],
   "source": [
    "model.classifier"
   ]
  },
  {
   "cell_type": "markdown",
   "metadata": {},
   "source": [
    "因此，我们使用相同的方法来修改输出层"
   ]
  },
  {
   "cell_type": "code",
   "execution_count": 14,
   "metadata": {},
   "outputs": [
    {
     "data": {
      "text/plain": [
       "Sequential(\n",
       "  (0): Linear(in_features=25088, out_features=4096, bias=True)\n",
       "  (1): ReLU(inplace=True)\n",
       "  (2): Dropout(p=0.5, inplace=False)\n",
       "  (3): Linear(in_features=4096, out_features=4096, bias=True)\n",
       "  (4): ReLU(inplace=True)\n",
       "  (5): Dropout(p=0.5, inplace=False)\n",
       "  (6): Linear(in_features=4096, out_features=2, bias=True)\n",
       ")"
      ]
     },
     "execution_count": 14,
     "metadata": {},
     "output_type": "execute_result"
    }
   ],
   "source": [
    "model.classifier[6] = nn.Linear(4096, num_classes)\n",
    "model.classifier"
   ]
  },
  {
   "cell_type": "markdown",
   "metadata": {},
   "source": [
    "### 4.4 Squeezenet\n",
    "论文[SqueezeNet: AlexNet-level accuracy with 50x fewer parameters and <0.5MB model size](https://arxiv.org/abs/1602.07360) 描述了 Squeeznet 架构，使用了与此处显示的任何其他模型不同的输出结构。Torchvision 的 Squeezenet 有两个版本，我们使用1.0版本。 输出来自1x1卷积层，它是分类器的第一层："
   ]
  },
  {
   "cell_type": "code",
   "execution_count": 15,
   "metadata": {},
   "outputs": [
    {
     "data": {
      "text/plain": [
       "Sequential(\n",
       "  (0): Dropout(p=0.5, inplace=False)\n",
       "  (1): Conv2d(512, 1000, kernel_size=(1, 1), stride=(1, 1))\n",
       "  (2): ReLU(inplace=True)\n",
       "  (3): AdaptiveAvgPool2d(output_size=(1, 1))\n",
       ")"
      ]
     },
     "execution_count": 15,
     "metadata": {},
     "output_type": "execute_result"
    }
   ],
   "source": [
    "model = models.squeezenet1_0()\n",
    "model.classifier"
   ]
  },
  {
   "cell_type": "markdown",
   "metadata": {},
   "source": [
    "为了修改网络，我们重新初始化Conv2d层，使输出特征图深度为2 "
   ]
  },
  {
   "cell_type": "code",
   "execution_count": 16,
   "metadata": {},
   "outputs": [
    {
     "data": {
      "text/plain": [
       "Sequential(\n",
       "  (0): Dropout(p=0.5, inplace=False)\n",
       "  (1): Conv2d(512, 2, kernel_size=(1, 1), stride=(1, 1))\n",
       "  (2): ReLU(inplace=True)\n",
       "  (3): AdaptiveAvgPool2d(output_size=(1, 1))\n",
       ")"
      ]
     },
     "execution_count": 16,
     "metadata": {},
     "output_type": "execute_result"
    }
   ],
   "source": [
    "model.classifier[1] = nn.Conv2d(512, num_classes, kernel_size=(1, 1), stride=(1, 1))\n",
    "model.classifier"
   ]
  },
  {
   "cell_type": "markdown",
   "metadata": {},
   "source": [
    "### 4.5 Densenet\n",
    "论文[Densely Connected Convolutional Networks](https://arxiv.org/abs/1608.06993)引入了Densenet模型。Torchvision 有四种 Densenet 变型，但在这里我们只使用 Densenet-121。输出层是一个具有1024个输入特征的线性层："
   ]
  },
  {
   "cell_type": "code",
   "execution_count": 17,
   "metadata": {},
   "outputs": [
    {
     "data": {
      "text/plain": [
       "Linear(in_features=1024, out_features=1000, bias=True)"
      ]
     },
     "execution_count": 17,
     "metadata": {},
     "output_type": "execute_result"
    }
   ],
   "source": [
    "model = models.densenet121()\n",
    "model.classifier"
   ]
  },
  {
   "cell_type": "code",
   "execution_count": 18,
   "metadata": {},
   "outputs": [
    {
     "data": {
      "text/plain": [
       "Linear(in_features=1024, out_features=2, bias=True)"
      ]
     },
     "execution_count": 18,
     "metadata": {},
     "output_type": "execute_result"
    }
   ],
   "source": [
    "model.classifier = nn.Linear(1024, num_classes)\n",
    "model.classifier"
   ]
  },
  {
   "cell_type": "markdown",
   "metadata": {},
   "source": [
    "### 4.6 Inception v3\n",
    "Inception v3首先在论文[Rethinking the Inception Architecture for Computer Vision](https://arxiv.org/pdf/1512.00567v1.pdf)中描述。该网络的独特之处在于它在训练时有两个输出层。第二个输出称为辅助输出，包含在网络的 AuxLogits部分中。主输出是网络末端的线性层。 注意，测试时我们只考虑主输出。加载模型的辅助输出和主输出打印为："
   ]
  },
  {
   "cell_type": "markdown",
   "metadata": {},
   "source": [
    "```python\n",
    "model = models.inception_v3()\n",
    "print(model.AuxLogits)\n",
    "print(\"------------\")\n",
    "print(model.fc)\n",
    "```"
   ]
  },
  {
   "cell_type": "markdown",
   "metadata": {},
   "source": [
    "\n",
    "```output\n",
    "InceptionAux(\n",
    "  (conv0): BasicConv2d(\n",
    "    (conv): Conv2d(768, 128, kernel_size=(1, 1), stride=(1, 1), bias=False)\n",
    "    (bn): BatchNorm2d(128, eps=0.001, momentum=0.1, affine=True, track_running_stats=True)\n",
    "  )\n",
    "  (conv1): BasicConv2d(\n",
    "    (conv): Conv2d(128, 768, kernel_size=(5, 5), stride=(1, 1), bias=False)\n",
    "    (bn): BatchNorm2d(768, eps=0.001, momentum=0.1, affine=True, track_running_stats=True)\n",
    "  )\n",
    "  (fc): Linear(in_features=768, out_features=1000, bias=True)\n",
    ")\n",
    "------------\n",
    "Linear(in_features=2048, out_features=1000, bias=True)\n",
    "```"
   ]
  },
  {
   "cell_type": "markdown",
   "metadata": {},
   "source": [
    "要微调这个模型，我们必须重塑这两个层。可以通过以下方式完成\n",
    "```python\n",
    "model.AuxLogits.fc = nn.Linear(768, num_classes)\n",
    "model.fc = nn.Linear(2048, num_classes)\n",
    "print(model.AuxLogits)\n",
    "print(\"------------\")\n",
    "print(model.fc)\n",
    "```"
   ]
  },
  {
   "cell_type": "markdown",
   "metadata": {},
   "source": [
    "```output\n",
    "InceptionAux(\n",
    "  (conv0): BasicConv2d(\n",
    "    (conv): Conv2d(768, 128, kernel_size=(1, 1), stride=(1, 1), bias=False)\n",
    "    (bn): BatchNorm2d(128, eps=0.001, momentum=0.1, affine=True, track_running_stats=True)\n",
    "  )\n",
    "  (conv1): BasicConv2d(\n",
    "    (conv): Conv2d(128, 768, kernel_size=(5, 5), stride=(1, 1), bias=False)\n",
    "    (bn): BatchNorm2d(768, eps=0.001, momentum=0.1, affine=True, track_running_stats=True)\n",
    "  )\n",
    "  (fc): Linear(in_features=768, out_features=2, bias=True)\n",
    ")\n",
    "------------\n",
    "Linear(in_features=2048, out_features=2, bias=True)\n",
    "```"
   ]
  },
  {
   "cell_type": "markdown",
   "metadata": {},
   "source": [
    "请注意，许多模型具有相似的输出结构，但每个模型的处理方式略有不同。另外，请查看重塑网络的模型体系结构，并确保输出特征数与 数据集中的类别数相同。"
   ]
  },
  {
   "cell_type": "markdown",
   "metadata": {},
   "source": [
    "### 4.7 重塑代码"
   ]
  },
  {
   "cell_type": "code",
   "execution_count": 20,
   "metadata": {},
   "outputs": [
    {
     "name": "stdout",
     "output_type": "stream",
     "text": [
      "SqueezeNet(\n",
      "  (features): Sequential(\n",
      "    (0): Conv2d(3, 96, kernel_size=(7, 7), stride=(2, 2))\n",
      "    (1): ReLU(inplace=True)\n",
      "    (2): MaxPool2d(kernel_size=3, stride=2, padding=0, dilation=1, ceil_mode=True)\n",
      "    (3): Fire(\n",
      "      (squeeze): Conv2d(96, 16, kernel_size=(1, 1), stride=(1, 1))\n",
      "      (squeeze_activation): ReLU(inplace=True)\n",
      "      (expand1x1): Conv2d(16, 64, kernel_size=(1, 1), stride=(1, 1))\n",
      "      (expand1x1_activation): ReLU(inplace=True)\n",
      "      (expand3x3): Conv2d(16, 64, kernel_size=(3, 3), stride=(1, 1), padding=(1, 1))\n",
      "      (expand3x3_activation): ReLU(inplace=True)\n",
      "    )\n",
      "    (4): Fire(\n",
      "      (squeeze): Conv2d(128, 16, kernel_size=(1, 1), stride=(1, 1))\n",
      "      (squeeze_activation): ReLU(inplace=True)\n",
      "      (expand1x1): Conv2d(16, 64, kernel_size=(1, 1), stride=(1, 1))\n",
      "      (expand1x1_activation): ReLU(inplace=True)\n",
      "      (expand3x3): Conv2d(16, 64, kernel_size=(3, 3), stride=(1, 1), padding=(1, 1))\n",
      "      (expand3x3_activation): ReLU(inplace=True)\n",
      "    )\n",
      "    (5): Fire(\n",
      "      (squeeze): Conv2d(128, 32, kernel_size=(1, 1), stride=(1, 1))\n",
      "      (squeeze_activation): ReLU(inplace=True)\n",
      "      (expand1x1): Conv2d(32, 128, kernel_size=(1, 1), stride=(1, 1))\n",
      "      (expand1x1_activation): ReLU(inplace=True)\n",
      "      (expand3x3): Conv2d(32, 128, kernel_size=(3, 3), stride=(1, 1), padding=(1, 1))\n",
      "      (expand3x3_activation): ReLU(inplace=True)\n",
      "    )\n",
      "    (6): MaxPool2d(kernel_size=3, stride=2, padding=0, dilation=1, ceil_mode=True)\n",
      "    (7): Fire(\n",
      "      (squeeze): Conv2d(256, 32, kernel_size=(1, 1), stride=(1, 1))\n",
      "      (squeeze_activation): ReLU(inplace=True)\n",
      "      (expand1x1): Conv2d(32, 128, kernel_size=(1, 1), stride=(1, 1))\n",
      "      (expand1x1_activation): ReLU(inplace=True)\n",
      "      (expand3x3): Conv2d(32, 128, kernel_size=(3, 3), stride=(1, 1), padding=(1, 1))\n",
      "      (expand3x3_activation): ReLU(inplace=True)\n",
      "    )\n",
      "    (8): Fire(\n",
      "      (squeeze): Conv2d(256, 48, kernel_size=(1, 1), stride=(1, 1))\n",
      "      (squeeze_activation): ReLU(inplace=True)\n",
      "      (expand1x1): Conv2d(48, 192, kernel_size=(1, 1), stride=(1, 1))\n",
      "      (expand1x1_activation): ReLU(inplace=True)\n",
      "      (expand3x3): Conv2d(48, 192, kernel_size=(3, 3), stride=(1, 1), padding=(1, 1))\n",
      "      (expand3x3_activation): ReLU(inplace=True)\n",
      "    )\n",
      "    (9): Fire(\n",
      "      (squeeze): Conv2d(384, 48, kernel_size=(1, 1), stride=(1, 1))\n",
      "      (squeeze_activation): ReLU(inplace=True)\n",
      "      (expand1x1): Conv2d(48, 192, kernel_size=(1, 1), stride=(1, 1))\n",
      "      (expand1x1_activation): ReLU(inplace=True)\n",
      "      (expand3x3): Conv2d(48, 192, kernel_size=(3, 3), stride=(1, 1), padding=(1, 1))\n",
      "      (expand3x3_activation): ReLU(inplace=True)\n",
      "    )\n",
      "    (10): Fire(\n",
      "      (squeeze): Conv2d(384, 64, kernel_size=(1, 1), stride=(1, 1))\n",
      "      (squeeze_activation): ReLU(inplace=True)\n",
      "      (expand1x1): Conv2d(64, 256, kernel_size=(1, 1), stride=(1, 1))\n",
      "      (expand1x1_activation): ReLU(inplace=True)\n",
      "      (expand3x3): Conv2d(64, 256, kernel_size=(3, 3), stride=(1, 1), padding=(1, 1))\n",
      "      (expand3x3_activation): ReLU(inplace=True)\n",
      "    )\n",
      "    (11): MaxPool2d(kernel_size=3, stride=2, padding=0, dilation=1, ceil_mode=True)\n",
      "    (12): Fire(\n",
      "      (squeeze): Conv2d(512, 64, kernel_size=(1, 1), stride=(1, 1))\n",
      "      (squeeze_activation): ReLU(inplace=True)\n",
      "      (expand1x1): Conv2d(64, 256, kernel_size=(1, 1), stride=(1, 1))\n",
      "      (expand1x1_activation): ReLU(inplace=True)\n",
      "      (expand3x3): Conv2d(64, 256, kernel_size=(3, 3), stride=(1, 1), padding=(1, 1))\n",
      "      (expand3x3_activation): ReLU(inplace=True)\n",
      "    )\n",
      "  )\n",
      "  (classifier): Sequential(\n",
      "    (0): Dropout(p=0.5, inplace=False)\n",
      "    (1): Conv2d(512, 2, kernel_size=(1, 1), stride=(1, 1))\n",
      "    (2): ReLU(inplace=True)\n",
      "    (3): AdaptiveAvgPool2d(output_size=(1, 1))\n",
      "  )\n",
      ")\n"
     ]
    }
   ],
   "source": [
    "def initialize_model(model_name, num_classes, feature_extract, use_pretrained=True):\n",
    "    # 初始化将在此if语句中设置的这些变量。\n",
    "    # 每个变量都是模型特定的。\n",
    "    model_ft = None\n",
    "    input_size = 0\n",
    "    if model_name == \"resnet\":\n",
    "        \"\"\" Resnet18\"\"\"\n",
    "        model_ft = models.resnet18(pretrained=use_pretrained)\n",
    "        set_parameter_requires_grad(model_ft, feature_extract)\n",
    "        num_ftrs = model_ft.fc.in_features\n",
    "        model_ft.fc = nn.Linear(num_ftrs, num_classes)\n",
    "        input_size = 224\n",
    "    elif model_name == \"alexnet\":\n",
    "        \"\"\" Alexnet\"\"\"\n",
    "        model_ft = models.alexnet(pretrained=use_pretrained)\n",
    "        set_parameter_requires_grad(model_ft, feature_extract)\n",
    "        num_ftrs = model_ft.classifier[6].in_features\n",
    "        model_ft.classifier[6] = nn.Linear(num_ftrs,num_classes)\n",
    "        input_size = 224\n",
    "    elif model_name == \"vgg\":\n",
    "        \"\"\" VGG11_bn\"\"\"\n",
    "        model_ft = models.vgg11_bn(pretrained=use_pretrained)\n",
    "        set_parameter_requires_grad(model_ft, feature_extract)\n",
    "        num_ftrs = model_ft.classifier[6].in_features\n",
    "        model_ft.classifier[6] = nn.Linear(num_ftrs,num_classes)\n",
    "        input_size = 224\n",
    "    elif model_name == \"squeezenet\":\n",
    "        \"\"\" Squeezenet\"\"\"\n",
    "        model_ft = models.squeezenet1_0(pretrained=use_pretrained)\n",
    "        set_parameter_requires_grad(model_ft, feature_extract)\n",
    "        model_ft.classifier[1] = nn.Conv2d(512, num_classes, kernel_size=(1,1), stride=(1,1))\n",
    "        model_ft.num_classes = num_classes\n",
    "        input_size = 224\n",
    "    elif model_name == \"densenet\":\n",
    "        \"\"\" Densenet\"\"\"\n",
    "        model_ft = models.densenet121(pretrained=use_pretrained)\n",
    "        set_parameter_requires_grad(model_ft, feature_extract)\n",
    "        num_ftrs = model_ft.classifier.in_features\n",
    "        model_ft.classifier = nn.Linear(num_ftrs, num_classes)\n",
    "        input_size = 224\n",
    "    elif model_name == \"inception\":\n",
    "        \"\"\" Inception v3\n",
    "        Be careful, expects (299,299) sized images and has auxiliary output\n",
    "        \"\"\"\n",
    "        model_ft = models.inception_v3(pretrained=use_pretrained)\n",
    "        set_parameter_requires_grad(model_ft, feature_extract)\n",
    "        # 处理辅助网络\n",
    "        num_ftrs = model_ft.AuxLogits.fc.in_features\n",
    "        model_ft.AuxLogits.fc = nn.Linear(num_ftrs, num_classes)\n",
    "        # 处理主要网络\n",
    "        num_ftrs = model_ft.fc.in_features\n",
    "        model_ft.fc = nn.Linear(num_ftrs,num_classes)\n",
    "        input_size = 299\n",
    "    else:\n",
    "        # print(\"Invalid model name, exiting...\")\n",
    "        raise Exception(\"Invalid model name, exiting...\")\n",
    "    return model_ft, input_size\n",
    "\n",
    "\n",
    "# 在这步中初始化模型\n",
    "model_ft, input_size = initialize_model(model_name, num_classes, feature_extract, use_pretrained=True)\n",
    "# 打印我们刚刚实例化的模型\n",
    "print(model_ft)"
   ]
  },
  {
   "cell_type": "markdown",
   "metadata": {},
   "source": [
    "## 5.加载数据\n",
    "现在我们知道输入尺寸大小必须是什么，我们可以初始化数据转换，图像数据集和数据加载器。请注意，模型是使用硬编码标准化值进行预先训练的，如[这里](https://pytorch.org/docs/master/torchvision/models.html)所述。"
   ]
  },
  {
   "cell_type": "code",
   "execution_count": 23,
   "metadata": {},
   "outputs": [
    {
     "name": "stdout",
     "output_type": "stream",
     "text": [
      "Initializing Datasets and Dataloaders...\n"
     ]
    }
   ],
   "source": [
    "# 数据扩充和训练规范化\n",
    "# 只需验证标准化\n",
    "data_transforms = {\n",
    "    \"train\": transforms.Compose([\n",
    "        transforms.RandomResizedCrop(input_size),\n",
    "        transforms.RandomHorizontalFlip(),\n",
    "        transforms.ToTensor(),\n",
    "        transforms.Normalize([0.485, 0.456, 0.406], [0.229, 0.224, 0.225])\n",
    "    ]),\n",
    "    \"val\": transforms.Compose([\n",
    "        transforms.Resize(input_size),\n",
    "        transforms.CenterCrop(input_size),\n",
    "        transforms.ToTensor(),\n",
    "        transforms.Normalize([0.485, 0.456, 0.406], [0.229, 0.224, 0.225])\n",
    "    ]),\n",
    "}\n",
    "print(\"Initializing Datasets and Dataloaders...\")\n",
    "\n",
    "# 创建训练和验证数据集\n",
    "image_datasets = {x: datasets.ImageFolder(\n",
    "    os.path.join(data_dir, x), data_transforms[x]\n",
    ") for x in ['train', 'val']}\n",
    "\n",
    "# 创建训练和验证数据加载器\n",
    "# 原案例：num_workers=0\n",
    "dataloaders_dict = {x: torch.utils.data.DataLoader(\n",
    "    image_datasets[x], batch_size=batch_size, shuffle=True, num_workers=0\n",
    ") for x in ['train', 'val']}\n",
    "\n",
    "# 检测我们是否有可用的GPU\n",
    "device = torch.device(\"cuda:0\" if torch.cuda.is_available() else \"cpu\")"
   ]
  },
  {
   "cell_type": "markdown",
   "metadata": {},
   "source": [
    "## 6.创建优化器\n",
    "现在模型结构是正确的，微调和特征提取的最后一步是创建一个只更新所需参数的优化器。回想一下，在加载预训练模型之后，但在重塑之前，如果 `feature_extract = True` ，我们手动将所有参数的 `.requires_grad` 属性设置为False。然后重新初始化默认为 `.requires_grad = True` 的网络层参数。所以现在我们知道应该优化所有具有 `.requires_grad = True` 的参数。接下来，我们列出这些参数并将此列表输入到 `SGD` 算法构造器。\n",
    "\n",
    "要验证这一点，可以查看要学习的参数。微调时，此列表应该很长并包含所有模型参数。但是，当进行特征提取时，此列表应该很短并且仅包括重塑层的权重和偏差。"
   ]
  },
  {
   "cell_type": "code",
   "execution_count": 24,
   "metadata": {},
   "outputs": [
    {
     "name": "stdout",
     "output_type": "stream",
     "text": [
      "Params to learn:\n",
      "\t classifier.1.weight\n",
      "\t classifier.1.bias\n"
     ]
    }
   ],
   "source": [
    "# 将模型发送到GPU\n",
    "model_ft = model_ft.to(device)\n",
    "\n",
    "# 在此运行中收集要优化/更新的参数。\n",
    "# 如果我们正在进行微调，我们将更新所有参数。\n",
    "# 但如果我们正在进行特征提取方法，我们只会更新刚刚初始化的参数，即`requires_grad`的参数为True。\n",
    "params_to_update = model_ft.parameters()\n",
    "print(\"Params to learn:\")\n",
    "if feature_extract:\n",
    "    params_to_update = []\n",
    "    for name, param in model_ft.named_parameters():\n",
    "        if param.requires_grad == True:\n",
    "            params_to_update.append(param)\n",
    "            print(\"\\t\", name)\n",
    "else:\n",
    "    for name, param in model_ft.named_parameters():\n",
    "        if param.requires_grad == True:\n",
    "            print(\"\\t\", name)\n",
    "\n",
    "# 观察所有参数都在优化\n",
    "optimizer_ft = optim.SGD(params_to_update, lr=0.001, momentum=0.9)"
   ]
  },
  {
   "cell_type": "markdown",
   "metadata": {},
   "source": [
    "## 7.运行训练和验证\n",
    "最后一步是为模型设置损失，然后对设定的epoch数运行训练和验证函数。请注意，取决于epoch的数量，此步骤在CPU上可能需要执行一段时间。此外，默认的学习率对所有模型都不是最佳的，因此为了获得最大精度，有必要分别调整每个模型。"
   ]
  },
  {
   "cell_type": "code",
   "execution_count": 25,
   "metadata": {
    "scrolled": true
   },
   "outputs": [
    {
     "name": "stdout",
     "output_type": "stream",
     "text": [
      "Epoch 0/14\n",
      "----------\n",
      "train Loss: 0.5122 Acc: 0.7541\n",
      "val Loss: 0.3814 Acc: 0.8497\n",
      "\n",
      "Epoch 1/14\n",
      "----------\n",
      "train Loss: 0.2855 Acc: 0.8811\n",
      "val Loss: 0.2938 Acc: 0.9216\n",
      "\n",
      "Epoch 2/14\n",
      "----------\n",
      "train Loss: 0.2649 Acc: 0.8811\n",
      "val Loss: 0.2788 Acc: 0.9150\n",
      "\n",
      "Epoch 3/14\n",
      "----------\n",
      "train Loss: 0.2178 Acc: 0.9262\n",
      "val Loss: 0.2793 Acc: 0.9150\n",
      "\n",
      "Epoch 4/14\n",
      "----------\n",
      "train Loss: 0.2062 Acc: 0.9180\n",
      "val Loss: 0.3362 Acc: 0.9150\n",
      "\n",
      "Epoch 5/14\n",
      "----------\n",
      "train Loss: 0.2236 Acc: 0.9098\n",
      "val Loss: 0.3545 Acc: 0.9085\n",
      "\n",
      "Epoch 6/14\n",
      "----------\n",
      "train Loss: 0.1707 Acc: 0.9098\n",
      "val Loss: 0.3320 Acc: 0.9281\n",
      "\n",
      "Epoch 7/14\n",
      "----------\n",
      "train Loss: 0.1941 Acc: 0.9016\n",
      "val Loss: 0.3438 Acc: 0.9150\n",
      "\n",
      "Epoch 8/14\n",
      "----------\n",
      "train Loss: 0.1432 Acc: 0.9467\n",
      "val Loss: 0.3521 Acc: 0.9216\n",
      "\n",
      "Epoch 9/14\n",
      "----------\n",
      "train Loss: 0.1502 Acc: 0.9467\n",
      "val Loss: 0.3499 Acc: 0.9150\n",
      "\n",
      "Epoch 10/14\n",
      "----------\n",
      "train Loss: 0.1382 Acc: 0.9590\n",
      "val Loss: 0.3550 Acc: 0.9150\n",
      "\n",
      "Epoch 11/14\n",
      "----------\n",
      "train Loss: 0.1218 Acc: 0.9549\n",
      "val Loss: 0.4044 Acc: 0.9085\n",
      "\n",
      "Epoch 12/14\n",
      "----------\n",
      "train Loss: 0.1397 Acc: 0.9385\n",
      "val Loss: 0.4524 Acc: 0.8954\n",
      "\n",
      "Epoch 13/14\n",
      "----------\n",
      "train Loss: 0.1220 Acc: 0.9426\n",
      "val Loss: 0.4016 Acc: 0.9150\n",
      "\n",
      "Epoch 14/14\n",
      "----------\n",
      "train Loss: 0.1323 Acc: 0.9385\n",
      "val Loss: 0.4063 Acc: 0.9085\n",
      "\n",
      "Training complete in 7m 54s\n",
      "Best val Acc: 0.928105\n"
     ]
    }
   ],
   "source": [
    "# 涉足损失函数\n",
    "criterion = nn.CrossEntropyLoss()\n",
    "\n",
    "# Train and evaluate\n",
    "model_fit, hist = train_model(model_ft, dataloaders_dict, criterion, optimizer_ft, \n",
    "                              num_epochs=num_epochs, is_inception=(model_name==\"inception\"))"
   ]
  },
  {
   "cell_type": "markdown",
   "metadata": {},
   "source": [
    "## 8.对比从头开始模型\n",
    "这部分内容出于好奇心理，看看如果我们不使用迁移学习，模型将如何学习。微调与特征提取的性能在很大程度上取决于数据集，但一般而言，两种迁移学习方法相对于从头开始训练模型，在训练时间和总体准确性方面产生了良好的结果。"
   ]
  },
  {
   "cell_type": "code",
   "execution_count": 27,
   "metadata": {},
   "outputs": [
    {
     "name": "stdout",
     "output_type": "stream",
     "text": [
      "Epoch 0/14\n",
      "----------\n",
      "train Loss: 0.6943 Acc: 0.5164\n",
      "val Loss: 0.6931 Acc: 0.5033\n",
      "\n",
      "Epoch 1/14\n",
      "----------\n",
      "train Loss: 0.6941 Acc: 0.4959\n",
      "val Loss: 0.6931 Acc: 0.4641\n",
      "\n",
      "Epoch 2/14\n",
      "----------\n",
      "train Loss: 0.6926 Acc: 0.4959\n",
      "val Loss: 0.6931 Acc: 0.4706\n",
      "\n",
      "Epoch 3/14\n",
      "----------\n",
      "train Loss: 0.6929 Acc: 0.4959\n",
      "val Loss: 0.6931 Acc: 0.4771\n",
      "\n",
      "Epoch 4/14\n",
      "----------\n",
      "train Loss: 0.6931 Acc: 0.5082\n",
      "val Loss: 0.6931 Acc: 0.4575\n",
      "\n",
      "Epoch 5/14\n",
      "----------\n",
      "train Loss: 0.6925 Acc: 0.5123\n",
      "val Loss: 0.6931 Acc: 0.4641\n",
      "\n",
      "Epoch 6/14\n",
      "----------\n",
      "train Loss: 0.6915 Acc: 0.4959\n",
      "val Loss: 0.6931 Acc: 0.4706\n",
      "\n",
      "Epoch 7/14\n",
      "----------\n",
      "train Loss: 0.6925 Acc: 0.4713\n",
      "val Loss: 0.6931 Acc: 0.4641\n",
      "\n",
      "Epoch 8/14\n",
      "----------\n",
      "train Loss: 0.6892 Acc: 0.4918\n",
      "val Loss: 0.6833 Acc: 0.5490\n",
      "\n",
      "Epoch 9/14\n",
      "----------\n",
      "train Loss: 0.6845 Acc: 0.5123\n",
      "val Loss: 0.6818 Acc: 0.5621\n",
      "\n",
      "Epoch 10/14\n",
      "----------\n",
      "train Loss: 0.6756 Acc: 0.5000\n",
      "val Loss: 0.6856 Acc: 0.5490\n",
      "\n",
      "Epoch 11/14\n",
      "----------\n",
      "train Loss: 0.6712 Acc: 0.5123\n",
      "val Loss: 0.6831 Acc: 0.5359\n",
      "\n",
      "Epoch 12/14\n",
      "----------\n",
      "train Loss: 0.6641 Acc: 0.4959\n",
      "val Loss: 0.6762 Acc: 0.5882\n",
      "\n",
      "Epoch 13/14\n",
      "----------\n",
      "train Loss: 0.6577 Acc: 0.4959\n",
      "val Loss: 0.6986 Acc: 0.6078\n",
      "\n",
      "Epoch 14/14\n",
      "----------\n",
      "train Loss: 0.6599 Acc: 0.5287\n",
      "val Loss: 0.6789 Acc: 0.5686\n",
      "\n",
      "Training complete in 12m 50s\n",
      "Best val Acc: 0.607843\n"
     ]
    }
   ],
   "source": [
    "# 初始化用于此运行的模型的非预训练版本\n",
    "scratch_model, _ = initialize_model(model_name, num_classes, feature_extract=False, use_pretrained=False)\n",
    "scratch_model = scratch_model.to(device)\n",
    "scratch_optimizer = optim.SGD(scratch_model.parameters(), lr=0.001, momentum=0.9)\n",
    "scratch_criterion = nn.CrossEntropyLoss()\n",
    "_, scratch_hist = train_model(scratch_model, dataloaders_dict, scratch_criterion, scratch_optimizer, \n",
    "                              num_epochs=num_epochs, is_inception=(model_name==\"inception\"))"
   ]
  },
  {
   "cell_type": "code",
   "execution_count": 29,
   "metadata": {},
   "outputs": [
    {
     "data": {
      "image/png": "[encoded data removed]",
      "text/plain": [
       "<Figure size 432x288 with 1 Axes>"
      ]
     },
     "metadata": {
      "needs_background": "light"
     },
     "output_type": "display_data"
    }
   ],
   "source": [
    "# 绘制验证精度的训练曲线与转移学习方法\n",
    "# 和从头开始训练的模型的训练epochs的数量\n",
    "\n",
    "ohist = [h.cpu().numpy() for h in hist]\n",
    "shist = [h.cpu().numpy() for h in scratch_hist]\n",
    "\n",
    "plt.title(\"Validation Accuracy vs. Number of Training Epochs\")  # 验证准确性vs.训练轮数的数量\n",
    "plt.xlabel(\"Training Epochs\")  # 训练轮数\n",
    "plt.ylabel(\"Validation Accuracy\")  # 验证准确性\n",
    "plt.plot(range(1, num_epochs + 1), ohist, label=\"Pretrained\")  # （前期培训的）预训练的模型\n",
    "plt.plot(range(1, num_epochs + 1), shist, label=\"Scratch\")  # （凑合的） 从头开始训练的模型\n",
    "plt.ylim(0, 1.)\n",
    "plt.xticks(np.arange(1, num_epochs + 1, 1.0))\n",
    "plt.legend()\n",
    "plt.show()"
   ]
  },
  {
   "cell_type": "markdown",
   "metadata": {},
   "source": [
    "## 9.总结展望\n",
    "尝试运行其他模型，看看可以得到多好的正确率。另外，请注意特征提取花费的时间较少，因为在后向传播中我们不需要计算大部分的梯度。还有很多地方可以尝试。例如：\n",
    "- 在更难的数据集上运行此代码，查看迁移学习的更多好处。\n",
    "- 在新的领域（比如NLP，音频等）中，使用此处描述的方法，使用迁移学习更新不同的模型。\n",
    "- 一旦您对一个模型感到满意，可以将其导出为 ONNX 模型，或使用混合前端跟踪它以获得更快的速度和优化的机会。"
   ]
  },
  {
   "cell_type": "code",
   "execution_count": null,
   "metadata": {},
   "outputs": [],
   "source": []
  }
 ],
 "metadata": {
  "kernelspec": {
   "display_name": "pytorch",
   "language": "python",
   "name": "pytorch"
  },
  "language_info": {
   "codemirror_mode": {
    "name": "ipython",
    "version": 3
   },
   "file_extension": ".py",
   "mimetype": "text/x-python",
   "name": "python",
   "nbconvert_exporter": "python",
   "pygments_lexer": "ipython3",
   "version": "3.7.8"
  }
 },
 "nbformat": 4,
 "nbformat_minor": 4
}
