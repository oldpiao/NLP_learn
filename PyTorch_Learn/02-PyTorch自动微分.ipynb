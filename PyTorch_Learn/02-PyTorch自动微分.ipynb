{
 "cells": [
  {
   "cell_type": "markdown",
   "metadata": {},
   "source": [
    "<font color=red>注：此处是文档第22页</font>"
   ]
  },
  {
   "cell_type": "markdown",
   "metadata": {},
   "source": [
    "## PyTorch自动微分"
   ]
  },
  {
   "cell_type": "markdown",
   "metadata": {},
   "source": [
    "autograd 包是 PyTorch 中所有神经网络的核心。首先让我们简要地介绍它，然后我们将会去训练我们的第一个神经网络。该 autograd 软件包为 Tensors 上的所有操作提供自动微分。它是一个由运行定义的框架，这意味着以代码运行方式定义你的后向传播，并且每次迭代都可以不同。我们从 tensor 和 gradients 来举一些例子。\n",
    "\n",
    "**1、TENSOR**\n",
    "\n",
    "torch.Tensor是包的核心类。如果将其属性 **.requires_grad** 设置为True，则会开始跟踪针对tensor的所有操作。完成计算后，您可以调用 **.backward()** 来自动计算所有梯度。该张量的梯度将累积到 **.grad** 属性中。\n",
    "\n",
    "要停止 tensor 历史记录的跟踪，您可以调用 **.detach()**，它将其与计算历史记录分离，并防止将来的计算被跟踪。\n",
    "\n",
    "要停止跟踪历史记录（和使用内存），您还可以将代码块使用 **with torch.no_grad():** 包装起来。在评估模型时，这是特别有用，因为模型在训练阶段具有requires_grad = True 的可训练参数有利于调参，但在评估阶段我们不需要梯度。\n",
    "\n",
    "还有一个类对于 autograd 实现非常重要那就是 **Function**。Tensor 和 Function 互相连接并构建一个非循环图，它保存整个完整的计算过程的历史信息。每个张量都有一个 **.grad_fn** 属性保存着创建了张量的 Function 的引用，（如果用户自己创建张量，则grad_fn 是 None）。\n",
    "\n",
    "如果你想计算导数，你可以调用 **Tensor.backward()**。如果 Tensor 是标量（即它包含一个元素数据），则不需要指定任何参数backward()，但是如果它有更多元素，则需要指定一个 **gradient** 参数来指定张量的形状。\n"
   ]
  },
  {
   "cell_type": "code",
   "execution_count": 19,
   "metadata": {},
   "outputs": [],
   "source": [
    "import torch"
   ]
  },
  {
   "cell_type": "code",
   "execution_count": 20,
   "metadata": {},
   "outputs": [
    {
     "name": "stdout",
     "output_type": "stream",
     "text": [
      "tensor([[1., 1.],\n",
      "        [1., 1.]], requires_grad=True)\n",
      "tensor([[1., 1.],\n",
      "        [1., 1.]])\n"
     ]
    }
   ],
   "source": [
    "x1 = torch.ones(2, 2, requires_grad=True)\n",
    "x2 = torch.ones(2, 2, requires_grad=False)\n",
    "print(x1)\n",
    "print(x2)"
   ]
  },
  {
   "cell_type": "code",
   "execution_count": 21,
   "metadata": {},
   "outputs": [
    {
     "name": "stdout",
     "output_type": "stream",
     "text": [
      "tensor([[3., 3.],\n",
      "        [3., 3.]], grad_fn=<AddBackward0>)\n",
      "tensor([[3., 3.],\n",
      "        [3., 3.]])\n"
     ]
    }
   ],
   "source": [
    "y1 = x1 + 2\n",
    "y2 = x2 + 2\n",
    "print(y1)\n",
    "print(y2)"
   ]
  },
  {
   "cell_type": "code",
   "execution_count": 22,
   "metadata": {},
   "outputs": [
    {
     "name": "stdout",
     "output_type": "stream",
     "text": [
      "<AddBackward0 object at 0x000001CB1AF4DC48>\n",
      "None\n"
     ]
    }
   ],
   "source": [
    "print(y1.grad_fn)\n",
    "print(y2.grad_fn)"
   ]
  },
  {
   "cell_type": "code",
   "execution_count": 23,
   "metadata": {},
   "outputs": [
    {
     "name": "stdout",
     "output_type": "stream",
     "text": [
      "tensor([[27., 27.],\n",
      "        [27., 27.]], grad_fn=<MulBackward0>)\n",
      "tensor([[27., 27.],\n",
      "        [27., 27.]])\n",
      "tensor(27., grad_fn=<MeanBackward0>)\n",
      "tensor(27.)\n"
     ]
    }
   ],
   "source": [
    "z1 = y1 * y1 * 3\n",
    "z2 = y2 * y2 * 3\n",
    "\n",
    "out1 = z1.mean()\n",
    "out2 = z2.mean()\n",
    "\n",
    "print(z1)\n",
    "print(z2)\n",
    "print(out1)\n",
    "print(out2)"
   ]
  },
  {
   "cell_type": "markdown",
   "metadata": {},
   "source": [
    ".requires_grad_( … ) 会改变张量的 requires_grad 标记。输入的标记默认为 False ，如果没有提供\n",
    "相应的参数。"
   ]
  },
  {
   "cell_type": "code",
   "execution_count": 24,
   "metadata": {},
   "outputs": [
    {
     "name": "stdout",
     "output_type": "stream",
     "text": [
      "False\n",
      "True\n",
      "<SumBackward0 object at 0x000001CB1AF46B08>\n"
     ]
    }
   ],
   "source": [
    "a = torch.randn(2, 2)\n",
    "a = ((a * 3) / (a - 1))\n",
    "print(a.requires_grad)\n",
    "a.requires_grad_(True)\n",
    "print(a.requires_grad)\n",
    "b = (a * a).sum()\n",
    "print(b.grad_fn)"
   ]
  },
  {
   "cell_type": "markdown",
   "metadata": {},
   "source": [
    "梯度：\n",
    "\n",
    "我们现在后向传播，因为输出包含了一个标量，out.backward() 等同于\n",
    "\n",
    "out.backward(torch.tensor(1.))。"
   ]
  },
  {
   "cell_type": "code",
   "execution_count": 25,
   "metadata": {},
   "outputs": [],
   "source": [
    "out1.backward()"
   ]
  },
  {
   "cell_type": "markdown",
   "metadata": {},
   "source": [
    "打印梯度 d(out)/dx"
   ]
  },
  {
   "cell_type": "code",
   "execution_count": 26,
   "metadata": {
    "scrolled": true
   },
   "outputs": [
    {
     "name": "stdout",
     "output_type": "stream",
     "text": [
      "tensor([[4.5000, 4.5000],\n",
      "        [4.5000, 4.5000]])\n",
      "None\n"
     ]
    }
   ],
   "source": [
    "print(x1.grad)\n",
    "print(x2.grad)"
   ]
  },
  {
   "cell_type": "markdown",
   "metadata": {},
   "source": [
    "x1 = torch.ones(2, 2, requires_grad=True)  \n",
    "y1 = x1 + 2  \n",
    "z1 = y1 * y1 * 3  \n",
    "out1 = z1.mean()  \n",
    "此时对应公式：$$o = \\frac{1}{4}\\sum_{i}z_i$$\n",
    "$$z_i=(3x + 2)^2$$"
   ]
  },
  {
   "cell_type": "markdown",
   "metadata": {},
   "source": [
    "一个雅可比向量积的例子："
   ]
  },
  {
   "cell_type": "code",
   "execution_count": 27,
   "metadata": {},
   "outputs": [
    {
     "name": "stdout",
     "output_type": "stream",
     "text": [
      "tensor([-0.1021,  1.4288,  2.3268], grad_fn=<MulBackward0>)\n",
      "tensor([-0.2042,  2.8577,  4.6535], grad_fn=<MulBackward0>)\n",
      "tensor([-0.4083,  5.7154,  9.3071], grad_fn=<MulBackward0>)\n",
      "tensor([-0.8167, 11.4308, 18.6141], grad_fn=<MulBackward0>)\n",
      "tensor([-1.6333, 22.8615, 37.2282], grad_fn=<MulBackward0>)\n",
      "tensor([-3.2667, 45.7230, 74.4564], grad_fn=<MulBackward0>)\n",
      "tensor([ -6.5333,  91.4460, 148.9129], grad_fn=<MulBackward0>)\n",
      "tensor([-13.0667, 182.8921, 297.8257], grad_fn=<MulBackward0>)\n",
      "tensor([-26.1333, 365.7841, 595.6515], grad_fn=<MulBackward0>)\n",
      "tensor([ -52.2666,  731.5682, 1191.3030], grad_fn=<MulBackward0>)\n"
     ]
    }
   ],
   "source": [
    "x = torch.randn(3, requires_grad=True)\n",
    "y = x * 2\n",
    "while y.data.norm() < 1000:\n",
    "    print(y)\n",
    "    y = y * 2\n",
    "print(y)"
   ]
  },
  {
   "cell_type": "code",
   "execution_count": 28,
   "metadata": {},
   "outputs": [
    {
     "name": "stdout",
     "output_type": "stream",
     "text": [
      "tensor([1.0240e+02, 1.0240e+03, 1.0240e-01])\n"
     ]
    }
   ],
   "source": [
    "v = torch.tensor([0.1, 1.0, 0.0001], dtype=torch.float)\n",
    "y.backward(v)\n",
    "\n",
    "print(x.grad)"
   ]
  },
  {
   "cell_type": "markdown",
   "metadata": {},
   "source": [
    "你可以通过将代码包裹在 with torch.no_grad()，来停止对从跟踪历史中 的 .requires_grad=True 的\n",
    "张量自动求导。"
   ]
  },
  {
   "cell_type": "code",
   "execution_count": 29,
   "metadata": {},
   "outputs": [
    {
     "name": "stdout",
     "output_type": "stream",
     "text": [
      "True\n",
      "True\n",
      "False\n"
     ]
    }
   ],
   "source": [
    "print(x.requires_grad)\n",
    "print((x**2).requires_grad)\n",
    "\n",
    "with torch.no_grad():\n",
    "    print((x**2).requires_grad)"
   ]
  },
  {
   "cell_type": "code",
   "execution_count": null,
   "metadata": {},
   "outputs": [],
   "source": []
  }
 ],
 "metadata": {
  "kernelspec": {
   "display_name": "Python [conda env:pytorch]",
   "language": "python",
   "name": "conda-env-pytorch-py"
  },
  "language_info": {
   "codemirror_mode": {
    "name": "ipython",
    "version": 3
   },
   "file_extension": ".py",
   "mimetype": "text/x-python",
   "name": "python",
   "nbconvert_exporter": "python",
   "pygments_lexer": "ipython3",
   "version": "3.7.8"
  }
 },
 "nbformat": 4,
 "nbformat_minor": 4
}
