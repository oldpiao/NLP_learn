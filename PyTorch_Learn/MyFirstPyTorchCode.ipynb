{
 "cells": [
  {
   "cell_type": "markdown",
   "metadata": {},
   "source": [
    "### PyTorch与Numpy对比\n",
    "\n",
    "PyTorch在很多地方个Numpy的接口是复用的，很多功能是相同的"
   ]
  },
  {
   "cell_type": "code",
   "execution_count": 11,
   "metadata": {},
   "outputs": [],
   "source": [
    "import torch\n",
    "import numpy as np"
   ]
  },
  {
   "cell_type": "code",
   "execution_count": 12,
   "metadata": {},
   "outputs": [
    {
     "name": "stdout",
     "output_type": "stream",
     "text": [
      "tensor([[0.8669, 0.6390, 0.0863],\n",
      "        [0.9445, 0.2415, 0.1976],\n",
      "        [0.8671, 0.8852, 0.9535],\n",
      "        [0.2973, 0.1353, 0.3188],\n",
      "        [0.1053, 0.8379, 0.0275]])\n",
      "[[0.33452849 0.28745964 0.98549192]\n",
      " [0.22180951 0.76181047 0.7729443 ]\n",
      " [0.33112425 0.80696619 0.60484499]\n",
      " [0.199937   0.78317782 0.56692856]\n",
      " [0.47441874 0.13841262 0.56787453]]\n"
     ]
    }
   ],
   "source": [
    "x1 = torch.rand(5, 3)\n",
    "x2 = np.random.rand(5, 3)\n",
    "print(x1)\n",
    "print(x2)"
   ]
  },
  {
   "cell_type": "code",
   "execution_count": 13,
   "metadata": {},
   "outputs": [
    {
     "name": "stdout",
     "output_type": "stream",
     "text": [
      "tensor([[8.4490e-39, 1.1112e-38, 1.0194e-38],\n",
      "        [9.0919e-39, 8.4490e-39, 9.6429e-39],\n",
      "        [8.4490e-39, 1.0194e-38, 9.4592e-39],\n",
      "        [1.0102e-38, 8.4490e-39, 8.9082e-39],\n",
      "        [9.1837e-39, 9.2755e-39, 1.0561e-38]])\n",
      "[[0.33452849 0.28745964 0.98549192]\n",
      " [0.22180951 0.76181047 0.7729443 ]\n",
      " [0.33112425 0.80696619 0.60484499]\n",
      " [0.199937   0.78317782 0.56692856]\n",
      " [0.47441874 0.13841262 0.56787453]]\n"
     ]
    }
   ],
   "source": [
    "x1 = torch.empty(5, 3)\n",
    "x2 = np.empty((5, 3))\n",
    "print(x1)\n",
    "print(x2)"
   ]
  },
  {
   "cell_type": "code",
   "execution_count": 14,
   "metadata": {},
   "outputs": [
    {
     "name": "stdout",
     "output_type": "stream",
     "text": [
      "tensor([[0, 0, 0],\n",
      "        [0, 0, 0],\n",
      "        [0, 0, 0],\n",
      "        [0, 0, 0],\n",
      "        [0, 0, 0]])\n",
      "[[0 0 0]\n",
      " [0 0 0]\n",
      " [0 0 0]\n",
      " [0 0 0]\n",
      " [0 0 0]]\n"
     ]
    }
   ],
   "source": [
    "x1 = torch.zeros(5, 3, dtype=torch.long)\n",
    "x2 = np.zeros((5, 3), dtype=np.long)\n",
    "print(x1)\n",
    "print(x2)"
   ]
  },
  {
   "cell_type": "code",
   "execution_count": 15,
   "metadata": {},
   "outputs": [
    {
     "name": "stdout",
     "output_type": "stream",
     "text": [
      "tensor([5.5000, 3.0000])\n",
      "[5.5 3. ]\n"
     ]
    }
   ],
   "source": [
    "x1 = torch.tensor([5.5, 3])\n",
    "x2 = np.array([5.5, 3])\n",
    "print(x1)\n",
    "print(x2)"
   ]
  },
  {
   "cell_type": "code",
   "execution_count": 16,
   "metadata": {},
   "outputs": [
    {
     "name": "stdout",
     "output_type": "stream",
     "text": [
      "tensor([[1., 1., 1.],\n",
      "        [1., 1., 1.],\n",
      "        [1., 1., 1.],\n",
      "        [1., 1., 1.],\n",
      "        [1., 1., 1.]], dtype=torch.float64)\n",
      "[[1. 1. 1.]\n",
      " [1. 1. 1.]\n",
      " [1. 1. 1.]\n",
      " [1. 1. 1.]\n",
      " [1. 1. 1.]]\n",
      "tensor([[0.6374, 0.1705, 0.1910],\n",
      "        [0.8002, 0.6003, 0.7929],\n",
      "        [0.7666, 0.8124, 0.0706],\n",
      "        [0.8858, 0.7909, 0.9859],\n",
      "        [0.6567, 0.6447, 0.2980]])\n"
     ]
    }
   ],
   "source": [
    "x1 = x1.new_ones(5, 3, dtype=torch.double)\n",
    "x2 = np.ones((5, 3), dtype=np.double)\n",
    "print(x1)\n",
    "print(x2)\n",
    "x3 = torch.rand_like(x1, dtype=torch.float)\n",
    "# result has the same size\n",
    "print(x3)"
   ]
  },
  {
   "cell_type": "code",
   "execution_count": 17,
   "metadata": {},
   "outputs": [
    {
     "data": {
      "text/plain": [
       "array([[1., 1., 1.],\n",
       "       [1., 1., 1.],\n",
       "       [1., 1., 1.],\n",
       "       [1., 1., 1.],\n",
       "       [1., 1., 1.]])"
      ]
     },
     "execution_count": 17,
     "metadata": {},
     "output_type": "execute_result"
    }
   ],
   "source": [
    "x5 = np.empty((5, 3))\n",
    "x5"
   ]
  },
  {
   "cell_type": "code",
   "execution_count": 18,
   "metadata": {},
   "outputs": [
    {
     "name": "stdout",
     "output_type": "stream",
     "text": [
      "torch.Size([5, 3])\n",
      "(5, 3)\n"
     ]
    }
   ],
   "source": [
    "print(x3.size())\n",
    "print(x2.shape)"
   ]
  },
  {
   "cell_type": "code",
   "execution_count": 19,
   "metadata": {},
   "outputs": [
    {
     "name": "stdout",
     "output_type": "stream",
     "text": [
      "tensor([[0.1976, 0.8181, 0.4691],\n",
      "        [0.3095, 0.3127, 0.7401],\n",
      "        [0.6208, 0.2282, 0.4034],\n",
      "        [0.5537, 0.3822, 0.5394],\n",
      "        [0.3444, 0.3849, 0.9218]])\n",
      "[[0.64898746 0.41905018 0.94119331]\n",
      " [0.09773234 0.95719956 0.26480259]\n",
      " [0.84631353 0.27108646 0.90515135]\n",
      " [0.64692044 0.38943333 0.4687107 ]\n",
      " [0.45253273 0.02150717 0.87858582]]\n",
      "tensor([[1.1976, 1.8181, 1.4691],\n",
      "        [1.3095, 1.3127, 1.7401],\n",
      "        [1.6208, 1.2282, 1.4034],\n",
      "        [1.5537, 1.3822, 1.5394],\n",
      "        [1.3444, 1.3849, 1.9218]], dtype=torch.float64)\n",
      "[[1.64898746 1.41905018 1.94119331]\n",
      " [1.09773234 1.95719956 1.26480259]\n",
      " [1.84631353 1.27108646 1.90515135]\n",
      " [1.64692044 1.38943333 1.4687107 ]\n",
      " [1.45253273 1.02150717 1.87858582]]\n"
     ]
    }
   ],
   "source": [
    "y1 = torch.rand(5, 3)\n",
    "y2 = np.random.random((5, 3))\n",
    "print(y1)\n",
    "print(y2)\n",
    "print(x1 + y1)\n",
    "print(x2 + y2)"
   ]
  },
  {
   "cell_type": "code",
   "execution_count": 20,
   "metadata": {},
   "outputs": [
    {
     "name": "stdout",
     "output_type": "stream",
     "text": [
      "tensor([[1.1976, 1.8181, 1.4691],\n",
      "        [1.3095, 1.3127, 1.7401],\n",
      "        [1.6208, 1.2282, 1.4034],\n",
      "        [1.5537, 1.3822, 1.5394],\n",
      "        [1.3444, 1.3849, 1.9218]], dtype=torch.float64)\n",
      "[[1.64898746 1.41905018 1.94119331]\n",
      " [1.09773234 1.95719956 1.26480259]\n",
      " [1.84631353 1.27108646 1.90515135]\n",
      " [1.64692044 1.38943333 1.4687107 ]\n",
      " [1.45253273 1.02150717 1.87858582]]\n"
     ]
    }
   ],
   "source": [
    "print(torch.add(x1, y1))\n",
    "print(np.add(x2, y2))"
   ]
  },
  {
   "cell_type": "code",
   "execution_count": 21,
   "metadata": {},
   "outputs": [
    {
     "name": "stdout",
     "output_type": "stream",
     "text": [
      "tensor([[1.1976, 1.8181, 1.4691],\n",
      "        [1.3095, 1.3127, 1.7401],\n",
      "        [1.6208, 1.2282, 1.4034],\n",
      "        [1.5537, 1.3822, 1.5394],\n",
      "        [1.3444, 1.3849, 1.9218]])\n",
      "[[1.64898746 1.41905018 1.94119331]\n",
      " [1.09773234 1.95719956 1.26480259]\n",
      " [1.84631353 1.27108646 1.90515135]\n",
      " [1.64692044 1.38943333 1.4687107 ]\n",
      " [1.45253273 1.02150717 1.87858582]]\n"
     ]
    }
   ],
   "source": [
    "result1 = torch.empty(5, 3)\n",
    "torch.add(x1, y1, out=result1)\n",
    "print(result1)\n",
    "\n",
    "result2 = np.empty((5, 3))\n",
    "np.add(x2, y2, out=result2)\n",
    "print(result2)"
   ]
  },
  {
   "cell_type": "code",
   "execution_count": 22,
   "metadata": {},
   "outputs": [
    {
     "name": "stdout",
     "output_type": "stream",
     "text": [
      "tensor([[1.1976, 1.8181, 1.4691],\n",
      "        [1.3095, 1.3127, 1.7401],\n",
      "        [1.6208, 1.2282, 1.4034],\n",
      "        [1.5537, 1.3822, 1.5394],\n",
      "        [1.3444, 1.3849, 1.9218]])\n"
     ]
    }
   ],
   "source": [
    "print(y1.add_(x1))"
   ]
  },
  {
   "cell_type": "code",
   "execution_count": 23,
   "metadata": {},
   "outputs": [
    {
     "name": "stdout",
     "output_type": "stream",
     "text": [
      "tensor([[4.8616e-321, 4.8616e-321, 4.6245e-321],\n",
      "        [4.6245e-321, 4.8023e-321, 4.8023e-321],\n",
      "        [4.7430e-321, 4.7430e-321, 4.2885e-321],\n",
      "        [4.2885e-321, 5.5928e-321, 5.5928e-321],\n",
      "        [2.5889e-321, 2.5889e-321, 4.9604e-321]], dtype=torch.float64)\n",
      "[[1.64898746 1.41905018 1.94119331]\n",
      " [1.09773234 1.95719956 1.26480259]\n",
      " [1.84631353 1.27108646 1.90515135]\n",
      " [1.64692044 1.38943333 1.4687107 ]\n",
      " [1.45253273 1.02150717 1.87858582]]\n"
     ]
    }
   ],
   "source": [
    "x1 = x1.new_empty(5, 3, dtype=torch.double)\n",
    "x2 = np.empty((5, 3), dtype=np.double)\n",
    "print(x1)\n",
    "print(x2)"
   ]
  },
  {
   "cell_type": "code",
   "execution_count": 24,
   "metadata": {},
   "outputs": [
    {
     "name": "stdout",
     "output_type": "stream",
     "text": [
      "tensor([[1.1976, 1.8181, 1.4691],\n",
      "        [1.3095, 1.3127, 1.7401],\n",
      "        [1.6208, 1.2282, 1.4034],\n",
      "        [1.5537, 1.3822, 1.5394],\n",
      "        [1.3444, 1.3849, 1.9218]])\n"
     ]
    }
   ],
   "source": [
    "print(y1.add_(x1))"
   ]
  },
  {
   "cell_type": "code",
   "execution_count": 25,
   "metadata": {},
   "outputs": [
    {
     "name": "stdout",
     "output_type": "stream",
     "text": [
      "tensor([4.8616e-321, 4.8023e-321, 4.7430e-321, 5.5928e-321, 2.5889e-321],\n",
      "       dtype=torch.float64)\n",
      "[1.41905018 1.95719956 1.27108646 1.38943333 1.02150717]\n"
     ]
    }
   ],
   "source": [
    "print(x1[:, 1])\n",
    "print(x2[:, 1])"
   ]
  },
  {
   "cell_type": "code",
   "execution_count": 26,
   "metadata": {},
   "outputs": [
    {
     "name": "stdout",
     "output_type": "stream",
     "text": [
      "torch.Size([4, 4]) torch.Size([16]) torch.Size([2, 8])\n",
      "(4, 4) (16,) (2, 8)\n"
     ]
    }
   ],
   "source": [
    "x1 = torch.randn(4, 4)\n",
    "y1 = x1.view(16)\n",
    "z1 = x1.view(-1, 8)  # the size -1 is inferred from other dimensions\n",
    "x2 = np.random.randn(4, 4)\n",
    "y2 = x2.reshape(16)\n",
    "z2 = x2.reshape((-1, 8))  # 大小-1是从其他维度推断出来的\n",
    "print(x1.size(), y1.size(), z1.size())\n",
    "print(x2.shape, y2.shape, z2.shape)"
   ]
  },
  {
   "cell_type": "code",
   "execution_count": 27,
   "metadata": {},
   "outputs": [
    {
     "name": "stdout",
     "output_type": "stream",
     "text": [
      "tensor([0.3318]) 0.33180001378059387 -0.5695686936378479\n",
      "[-1.93321368] -1.9332136848414154 -0.18143674488593461\n"
     ]
    }
   ],
   "source": [
    "x1 = torch.randn(1)\n",
    "y1 = torch.randn(4, 4)\n",
    "x2 = np.random.randn(1)\n",
    "y2 = np.random.randn(4, 4)\n",
    "print(x1, x1.item(), y1[0, 0].item())\n",
    "print(x2, x2[0], y2[0, 0])"
   ]
  },
  {
   "cell_type": "markdown",
   "metadata": {},
   "source": [
    "#### 任何使张量会发生变化的操作都有一个前缀 "
   ]
  },
  {
   "cell_type": "code",
   "execution_count": 28,
   "metadata": {},
   "outputs": [
    {
     "name": "stdout",
     "output_type": "stream",
     "text": [
      "x1 tensor([[1., 2., 3., 4.],\n",
      "        [5., 6., 7., 8.]])\n",
      "y1 tensor([[2., 3., 4., 1.],\n",
      "        [6., 7., 8., 5.]])\n",
      "---用y1覆盖x1------\n",
      "x1 tensor([[2., 3., 4., 1.],\n",
      "        [6., 7., 8., 5.]])\n",
      "y1 tensor([[2., 3., 4., 1.],\n",
      "        [6., 7., 8., 5.]])\n",
      "z1 tensor([[2., 3., 4., 1.],\n",
      "        [6., 7., 8., 5.]])\n",
      "---修改参数,x1,y1互不影响,z1与x1是同一参数------\n",
      "x1 tensor([[10.,  3., 30.,  1.],\n",
      "        [ 6.,  7.,  8.,  5.]])\n",
      "y1 tensor([[ 2., 20.,  4.,  1.],\n",
      "        [ 6.,  7.,  8.,  5.]])\n",
      "z1 tensor([[10.,  3., 30.,  1.],\n",
      "        [ 6.,  7.,  8.,  5.]])\n",
      "tensor([[10.,  6.],\n",
      "        [ 3.,  7.],\n",
      "        [30.,  8.],\n",
      "        [ 1.,  5.]])\n"
     ]
    }
   ],
   "source": [
    "# pytorch的\n",
    "x1 = torch.Tensor([[1,2,3,4], [5,6,7,8]])\n",
    "y1 = torch.Tensor([[2,3,4,1], [6,7,8,5]])\n",
    "print(\"x1\", x1)\n",
    "print(\"y1\", y1)\n",
    "print('---用y1覆盖x1------')\n",
    "z1 = x1.copy_(y1)\n",
    "print(\"x1\", x1)\n",
    "print(\"y1\", y1)\n",
    "print(\"z1\", z1)\n",
    "\n",
    "print('---修改参数,x1,y1互不影响,z1与x1是同一参数------')\n",
    "x1[0,0] = 10\n",
    "y1[0,1] = 20\n",
    "z1[0,2] = 30\n",
    "print(\"x1\", x1)\n",
    "print(\"y1\", y1)\n",
    "print(\"z1\", z1)\n",
    "\n",
    "x1.t_()\n",
    "print(x1)"
   ]
  },
  {
   "cell_type": "markdown",
   "metadata": {},
   "source": [
    "### PyTorch 自动微分"
   ]
  },
  {
   "cell_type": "code",
   "execution_count": 55,
   "metadata": {},
   "outputs": [],
   "source": [
    "import torch"
   ]
  },
  {
   "cell_type": "code",
   "execution_count": 56,
   "metadata": {},
   "outputs": [
    {
     "name": "stdout",
     "output_type": "stream",
     "text": [
      "tensor([[1., 1.],\n",
      "        [1., 1.]], requires_grad=True)\n",
      "tensor([[1., 1.],\n",
      "        [1., 1.]])\n"
     ]
    }
   ],
   "source": [
    "x1 = torch.ones(2, 2, requires_grad=True)\n",
    "x2 = torch.ones(2, 2, requires_grad=False)\n",
    "print(x1)\n",
    "print(x2)"
   ]
  },
  {
   "cell_type": "code",
   "execution_count": 57,
   "metadata": {},
   "outputs": [
    {
     "name": "stdout",
     "output_type": "stream",
     "text": [
      "tensor([[3., 3.],\n",
      "        [3., 3.]], grad_fn=<AddBackward0>)\n",
      "tensor([[3., 3.],\n",
      "        [3., 3.]])\n"
     ]
    }
   ],
   "source": [
    "y1 = x1 + 2\n",
    "y2 = x2 + 2\n",
    "print(y1)\n",
    "print(y2)"
   ]
  },
  {
   "cell_type": "code",
   "execution_count": 58,
   "metadata": {},
   "outputs": [
    {
     "name": "stdout",
     "output_type": "stream",
     "text": [
      "<AddBackward0 object at 0x0000021EC520AF08>\n",
      "None\n"
     ]
    }
   ],
   "source": [
    "print(y1.grad_fn)\n",
    "print(y2.grad_fn)"
   ]
  },
  {
   "cell_type": "code",
   "execution_count": 59,
   "metadata": {},
   "outputs": [
    {
     "name": "stdout",
     "output_type": "stream",
     "text": [
      "tensor([[27., 27.],\n",
      "        [27., 27.]], grad_fn=<MulBackward0>)\n",
      "tensor([[27., 27.],\n",
      "        [27., 27.]])\n",
      "tensor(27., grad_fn=<MeanBackward0>)\n",
      "tensor(27.)\n"
     ]
    }
   ],
   "source": [
    "z1 = y1 * y1 * 3\n",
    "z2 = y2 * y2 * 3\n",
    "\n",
    "out1 = z1.mean()\n",
    "out2 = z2.mean()\n",
    "\n",
    "print(z1)\n",
    "print(z2)\n",
    "print(out1)\n",
    "print(out2)"
   ]
  },
  {
   "cell_type": "markdown",
   "metadata": {},
   "source": [
    ".requires_grad_( … ) 会改变张量的 requires_grad 标记。输入的标记默认为 False ，如果没有提供\n",
    "相应的参数。"
   ]
  },
  {
   "cell_type": "code",
   "execution_count": 60,
   "metadata": {},
   "outputs": [
    {
     "name": "stdout",
     "output_type": "stream",
     "text": [
      "False\n",
      "True\n",
      "<SumBackward0 object at 0x0000021EC4AD2688>\n"
     ]
    }
   ],
   "source": [
    "a = torch.randn(2, 2)\n",
    "a = ((a * 3) / (a - 1))\n",
    "print(a.requires_grad)\n",
    "a.requires_grad_(True)\n",
    "print(a.requires_grad)\n",
    "b = (a * a).sum()\n",
    "print(b.grad_fn)"
   ]
  },
  {
   "cell_type": "markdown",
   "metadata": {},
   "source": [
    "梯度：\n",
    "\n",
    "我们现在后向传播，因为输出包含了一个标量，out.backward() 等同于\n",
    "\n",
    "out.backward(torch.tensor(1.))。"
   ]
  },
  {
   "cell_type": "code",
   "execution_count": 61,
   "metadata": {},
   "outputs": [],
   "source": [
    "out1.backward()"
   ]
  },
  {
   "cell_type": "markdown",
   "metadata": {},
   "source": [
    "打印梯度 d(out)/dx"
   ]
  },
  {
   "cell_type": "code",
   "execution_count": 62,
   "metadata": {
    "scrolled": true
   },
   "outputs": [
    {
     "name": "stdout",
     "output_type": "stream",
     "text": [
      "tensor([[4.5000, 4.5000],\n",
      "        [4.5000, 4.5000]])\n",
      "None\n"
     ]
    }
   ],
   "source": [
    "print(x1.grad)\n",
    "print(x2.grad)"
   ]
  },
  {
   "cell_type": "markdown",
   "metadata": {},
   "source": [
    "x1 = torch.ones(2, 2, requires_grad=True)  \n",
    "y1 = x1 + 2  \n",
    "z1 = y1 * y1 * 3  \n",
    "out1 = z1.mean()  \n",
    "此时对应公式：$$o = \\frac{1}{4}\\sum_{i}z_i$$\n",
    "$$z_i=(3x + 2)^2$$"
   ]
  },
  {
   "cell_type": "markdown",
   "metadata": {},
   "source": [
    "一个雅可比向量积的例子："
   ]
  },
  {
   "cell_type": "code",
   "execution_count": 63,
   "metadata": {},
   "outputs": [
    {
     "name": "stdout",
     "output_type": "stream",
     "text": [
      "tensor([ 282.7324, -164.1372, 1395.5574], grad_fn=<MulBackward0>)\n"
     ]
    }
   ],
   "source": [
    "x = torch.randn(3, requires_grad=True)\n",
    "y = x * 2\n",
    "while y.data.norm() < 1000:\n",
    "    y = y * 2\n",
    "print(y)"
   ]
  },
  {
   "cell_type": "code",
   "execution_count": 64,
   "metadata": {},
   "outputs": [
    {
     "name": "stdout",
     "output_type": "stream",
     "text": [
      "tensor([5.1200e+01, 5.1200e+02, 5.1200e-02])\n"
     ]
    }
   ],
   "source": [
    "v = torch.tensor([0.1, 1.0, 0.0001], dtype=torch.float)\n",
    "y.backward(v)\n",
    "\n",
    "print(x.grad)"
   ]
  },
  {
   "cell_type": "markdown",
   "metadata": {},
   "source": [
    "你可以通过将代码包裹在 with torch.no_grad()，来停止对从跟踪历史中 的 .requires_grad=True 的\n",
    "张量自动求导。"
   ]
  },
  {
   "cell_type": "code",
   "execution_count": 65,
   "metadata": {},
   "outputs": [
    {
     "name": "stdout",
     "output_type": "stream",
     "text": [
      "True\n",
      "True\n",
      "False\n"
     ]
    }
   ],
   "source": [
    "print(x.requires_grad)\n",
    "print((x**2).requires_grad)\n",
    "\n",
    "with torch.no_grad():\n",
    "    print((x**2).requires_grad)"
   ]
  },
  {
   "cell_type": "code",
   "execution_count": null,
   "metadata": {},
   "outputs": [],
   "source": []
  }
 ],
 "metadata": {
  "kernelspec": {
   "display_name": "Python [conda env:pytorch]",
   "language": "python",
   "name": "conda-env-pytorch-py"
  },
  "language_info": {
   "codemirror_mode": {
    "name": "ipython",
    "version": 3
   },
   "file_extension": ".py",
   "mimetype": "text/x-python",
   "name": "python",
   "nbconvert_exporter": "python",
   "pygments_lexer": "ipython3",
   "version": "3.7.8"
  }
 },
 "nbformat": 4,
 "nbformat_minor": 4
}
