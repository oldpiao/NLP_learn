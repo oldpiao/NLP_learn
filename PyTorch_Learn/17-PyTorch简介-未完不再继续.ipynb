{
 "cells": [
  {
   "cell_type": "markdown",
   "metadata": {},
   "source": [
    "<font color=red>注：此处是文档第178页</font>"
   ]
  },
  {
   "cell_type": "markdown",
   "metadata": {},
   "source": [
    "# PyTorch简介"
   ]
  },
  {
   "cell_type": "markdown",
   "metadata": {},
   "source": [
    "# 1.Torch张量库介绍\n",
    "深度学习的所有计算都是在张量上进行的,其中张量是一个可以被超过二维索引的矩阵的一般表示形式。稍后我们将详细讨论这意味着什么。首先，我们先来看一下我们可以用张量来干什么。"
   ]
  },
  {
   "cell_type": "code",
   "execution_count": 3,
   "metadata": {},
   "outputs": [
    {
     "data": {
      "text/plain": [
       "<torch._C.Generator at 0x1e787af9c30>"
      ]
     },
     "execution_count": 3,
     "metadata": {},
     "output_type": "execute_result"
    }
   ],
   "source": [
    "import torch\n",
    "import torch.autograd as autograd\n",
    "import torch.nn as nn\n",
    "import torch.nn.functional as F\n",
    "import torch.optim as optim\n",
    "\n",
    "torch.manual_seed(1)"
   ]
  },
  {
   "cell_type": "markdown",
   "metadata": {},
   "source": [
    "## 1.1 创建张量\n",
    "张量可以在Python list形式下通过 torch.Tensor() 函数创建。"
   ]
  },
  {
   "cell_type": "code",
   "execution_count": 9,
   "metadata": {},
   "outputs": [
    {
     "name": "stdout",
     "output_type": "stream",
     "text": [
      "tensor([1., 2., 3.])\n",
      "tensor([[1., 2., 3.],\n",
      "        [4., 5., 6.]])\n",
      "tensor([[[1., 2.],\n",
      "         [3., 4.]],\n",
      "\n",
      "        [[5., 6.],\n",
      "         [7., 8.]]])\n"
     ]
    }
   ],
   "source": [
    "V_data = [1., 2., 3.]\n",
    "V = torch.Tensor(V_data)\n",
    "print(V)\n",
    "\n",
    "M_data = [[1., 2., 3.], [4., 5., 6.]]\n",
    "M = torch.Tensor(M_data)\n",
    "print(M)\n",
    "\n",
    "T_data = [[[1., 2.], [3., 4.]],\n",
    "          [[5., 6.], [7., 8.]]]\n",
    "T = torch.Tensor(T_data)\n",
    "print(T)"
   ]
  },
  {
   "cell_type": "markdown",
   "metadata": {},
   "source": [
    "什么是三维张量？让我们这样想象。如果你有一个向量,那么对这个向量索引就会得到一个标量。如果你有一个矩阵，对这个矩阵索引那么就会得到一个向量。如果你有一个三维张量，那么对其索引就会得到一个矩阵!\n",
    "\n",
    "针对术语的说明：当我在本教程内使用“`tensor`”，它针对的是所有 `torch.Tensor` 对象。矩阵和向量是特殊的 `torch.Tensors` ，他们的维度分别是1和2。当我说到三维张量，我会简洁的使用“`3Dtensor`”。"
   ]
  },
  {
   "cell_type": "code",
   "execution_count": 19,
   "metadata": {},
   "outputs": [
    {
     "name": "stdout",
     "output_type": "stream",
     "text": [
      "tensor(1.)\n",
      "1.0\n",
      "tensor([1., 2., 3.])\n",
      "tensor([[1., 2.],\n",
      "        [3., 4.]])\n",
      "tensor([7., 8.])\n"
     ]
    }
   ],
   "source": [
    "# 索引V得到一个标量（0维张量）\n",
    "print(V[0])\n",
    "# 从向量V中获取一个数字\n",
    "print(V[0].item())\n",
    "# 索引M得到一个向量\n",
    "print(M[0])\n",
    "# 索引T得到一个矩阵\n",
    "print(T[0])\n",
    "print(T[1,1])"
   ]
  },
  {
   "cell_type": "markdown",
   "metadata": {},
   "source": [
    "你也可以创建其他数据类型的tensors。默认的数据类型为浮点型。可以使用 `torch.LongTensor()`来创建一个整数类型的张量。你可以在文 件中寻找更多的数据类型，但是浮点型和长整形是最常用的。\n",
    "\n",
    "你可以使用 `torch.randn()` 创建一个张量。这个张量拥有随机数据和需要指定的维度。"
   ]
  },
  {
   "cell_type": "code",
   "execution_count": 11,
   "metadata": {},
   "outputs": [
    {
     "name": "stdout",
     "output_type": "stream",
     "text": [
      "tensor([[[-1.5256, -0.7502, -0.6540, -1.6095, -0.1002],\n",
      "         [-0.6092, -0.9798, -1.6091, -0.7121,  0.3037],\n",
      "         [-0.7773, -0.2515, -0.2223,  1.6871,  0.2284],\n",
      "         [ 0.4676, -0.6970, -1.1608,  0.6995,  0.1991]],\n",
      "\n",
      "        [[ 0.8657,  0.2444, -0.6629,  0.8073,  1.1017],\n",
      "         [-0.1759, -2.2456, -1.4465,  0.0612, -0.6177],\n",
      "         [-0.7981, -0.1316,  1.8793, -0.0721,  0.1578],\n",
      "         [-0.7735,  0.1991,  0.0457,  0.1530, -0.4757]],\n",
      "\n",
      "        [[-0.1110,  0.2927, -0.1578, -0.0288,  0.4533],\n",
      "         [ 1.1422,  0.2486, -1.7754, -0.0255, -1.0233],\n",
      "         [-0.5962, -1.0055,  0.4285,  1.4761, -1.7869],\n",
      "         [ 1.6103, -0.7040, -0.1853, -0.9962, -0.8313]]])\n"
     ]
    }
   ],
   "source": [
    "x = torch.randn((3, 4, 5))\n",
    "print(x)"
   ]
  },
  {
   "cell_type": "markdown",
   "metadata": {},
   "source": [
    "## 1.2 张量操作\n",
    "你可以以你想要的方式操作张量。"
   ]
  },
  {
   "cell_type": "code",
   "execution_count": 12,
   "metadata": {},
   "outputs": [
    {
     "name": "stdout",
     "output_type": "stream",
     "text": [
      "tensor([5., 7., 9.])\n"
     ]
    }
   ],
   "source": [
    "x = torch.Tensor([1., 2., 3.])\n",
    "y = torch.Tensor([4., 5., 6.])\n",
    "z = x + y\n",
    "print(z)"
   ]
  },
  {
   "cell_type": "markdown",
   "metadata": {},
   "source": [
    "可以查阅[文档](https://pytorch.org/docs/torch.html)获取大量可用操作的完整列表,这些操作不仅局限于数学操作范围。\n",
    "\n",
    "接下来一个很有帮助的操作就是连接。"
   ]
  },
  {
   "cell_type": "code",
   "execution_count": 21,
   "metadata": {},
   "outputs": [
    {
     "name": "stdout",
     "output_type": "stream",
     "text": [
      "tensor([[ 0.5438, -0.4057,  1.1341, -1.1115,  0.3501],\n",
      "        [-0.7703, -0.1473,  0.6272,  1.0935,  0.0939]])\n",
      "tensor([[ 1.2381, -1.3459,  0.5119, -0.6933, -0.1668],\n",
      "        [-0.9999, -1.6476,  0.8098,  0.0554,  1.1340],\n",
      "        [-0.5326,  0.6592, -1.5964, -0.3769, -3.1020]])\n",
      "tensor([[ 0.5438, -0.4057,  1.1341, -1.1115,  0.3501],\n",
      "        [-0.7703, -0.1473,  0.6272,  1.0935,  0.0939],\n",
      "        [ 1.2381, -1.3459,  0.5119, -0.6933, -0.1668],\n",
      "        [-0.9999, -1.6476,  0.8098,  0.0554,  1.1340],\n",
      "        [-0.5326,  0.6592, -1.5964, -0.3769, -3.1020]])\n"
     ]
    }
   ],
   "source": [
    "# 默认情况下, 它沿着第一个行进行连接 (连接行)\n",
    "x_1 = torch.randn(2, 5)\n",
    "y_1 = torch.randn(3, 5)\n",
    "z_1 = torch.cat([x_1, y_1])\n",
    "print(x_1)\n",
    "print(y_1)\n",
    "print(z_1)"
   ]
  },
  {
   "cell_type": "code",
   "execution_count": 23,
   "metadata": {},
   "outputs": [
    {
     "name": "stdout",
     "output_type": "stream",
     "text": [
      "tensor([[-0.6101, -1.2960, -0.9434],\n",
      "        [ 0.6684,  1.1628, -0.3229]])\n",
      "tensor([[ 1.8782, -0.5666,  0.4016, -0.1153,  0.3170],\n",
      "        [ 0.5629,  0.8662, -0.3528,  0.3482,  1.1371]])\n",
      "tensor([[-0.6101, -1.2960, -0.9434,  1.8782, -0.5666,  0.4016, -0.1153,  0.3170],\n",
      "        [ 0.6684,  1.1628, -0.3229,  0.5629,  0.8662, -0.3528,  0.3482,  1.1371]])\n"
     ]
    }
   ],
   "source": [
    "# 连接列：\n",
    "x_2 = torch.randn(2, 3)\n",
    "y_2 = torch.randn(2, 5)\n",
    "# 第二个参数指定了沿着哪条轴连接\n",
    "z_2 = torch.cat([x_2, y_2], dim=1)\n",
    "print(x_2)\n",
    "print(y_2)\n",
    "print(z_2)\n",
    "# 如果你的tensors是不兼容的，torch会报错。取消注释来查看错误。\n",
    "# torch.cat([x_1, x_2])"
   ]
  },
  {
   "cell_type": "markdown",
   "metadata": {},
   "source": [
    "## 1.3 重构张量\n",
    "使用 `.view()` 去重构张量。这是一个高频方法，因为许多神经网络的神经元对输入格式有明确的要求。你通常需要先将数据重构再输入到神经元中。"
   ]
  },
  {
   "cell_type": "code",
   "execution_count": 26,
   "metadata": {},
   "outputs": [
    {
     "name": "stdout",
     "output_type": "stream",
     "text": [
      "tensor([[[ 0,  1,  2,  3],\n",
      "         [ 4,  5,  6,  7],\n",
      "         [ 8,  9, 10, 11]],\n",
      "\n",
      "        [[12, 13, 14, 15],\n",
      "         [16, 17, 18, 19],\n",
      "         [20, 21, 22, 23]]])\n",
      "tensor([[ 0,  1,  2,  3,  4,  5,  6,  7,  8,  9, 10, 11],\n",
      "        [12, 13, 14, 15, 16, 17, 18, 19, 20, 21, 22, 23]])\n",
      "tensor([[ 0,  1,  2,  3,  4,  5,  6,  7,  8,  9, 10, 11],\n",
      "        [12, 13, 14, 15, 16, 17, 18, 19, 20, 21, 22, 23]])\n"
     ]
    }
   ],
   "source": [
    "x = torch.arange(24).view(2,3,4)\n",
    "print(x)\n",
    "print(x.view(2, 12)) # 重构为2行12列\n",
    "# 同上。如果维度为-1,那么它的大小可以根据数据推断出来\n",
    "print(x.view(2, -1))"
   ]
  },
  {
   "cell_type": "code",
   "execution_count": null,
   "metadata": {},
   "outputs": [],
   "source": []
  }
 ],
 "metadata": {
  "kernelspec": {
   "display_name": "pytorch",
   "language": "python",
   "name": "pytorch"
  },
  "language_info": {
   "codemirror_mode": {
    "name": "ipython",
    "version": 3
   },
   "file_extension": ".py",
   "mimetype": "text/x-python",
   "name": "python",
   "nbconvert_exporter": "python",
   "pygments_lexer": "ipython3",
   "version": "3.7.8"
  }
 },
 "nbformat": 4,
 "nbformat_minor": 4
}
