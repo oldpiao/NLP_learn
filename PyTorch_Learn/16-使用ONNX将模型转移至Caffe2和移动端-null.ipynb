{
 "cells": [
  {
   "cell_type": "markdown",
   "metadata": {},
   "source": [
    "<font color=red>注：此处是文档第178页</font>"
   ]
  },
  {
   "cell_type": "markdown",
   "metadata": {},
   "source": [
    "# 使用ONNX将模型转移至Caffe2和移动端\n",
    "\n",
    "在本教程中，我们将介绍如何使用 `ONNX` 将 `PyTorch` 中定义的模型转换为 `ONNX` 格式，然后将其加载到 `Caffe2` 中。一旦进入 `Caffe2`，我们就可以运行模型来仔细检查它是否正确导出，然后我们展示了如何使用 `Caffe2` 功能（如移动导出器）在移动设备上执行模型。\n",
    "\n",
    "在本教程中，您需要安装`onnx`和`Caffe2`。 您可以使用 `pip install onnx` 来获取 `onnx`。\n",
    "\n",
    "注意：本教程需要 `PyTorch master` 分支，可以按照[这里](https://github.com/pytorch/pytorch#from-source)说明进行安装。"
   ]
  },
  {
   "cell_type": "code",
   "execution_count": null,
   "metadata": {},
   "outputs": [],
   "source": []
  }
 ],
 "metadata": {
  "kernelspec": {
   "display_name": "pytorch",
   "language": "python",
   "name": "pytorch"
  },
  "language_info": {
   "codemirror_mode": {
    "name": "ipython",
    "version": 3
   },
   "file_extension": ".py",
   "mimetype": "text/x-python",
   "name": "python",
   "nbconvert_exporter": "python",
   "pygments_lexer": "ipython3",
   "version": "3.7.8"
  }
 },
 "nbformat": 4,
 "nbformat_minor": 4
}
