{
 "cells": [
  {
   "cell_type": "markdown",
   "metadata": {},
   "source": [
    "<font color=red>注：此处是文档第42页</font>"
   ]
  },
  {
   "cell_type": "markdown",
   "metadata": {},
   "source": [
    "### 数据并行处理-GPU"
   ]
  },
  {
   "cell_type": "markdown",
   "metadata": {},
   "source": [
    "在这个教程中，我们将学习如何用 DataParallel 来使用多 GPU。 通过 PyTorch 使用多个GPU非常简单。你可以将模型放在一个 GPU：\n",
    "```python\n",
    "device = torch.device('cuda: 0')\n",
    "model.to(device)\n",
    "```\n",
    "然后可以复制所有的张量到GPU：\n",
    "```python\n",
    "mytensor = my_tensor.to(devive)\n",
    "```\n",
    "请注意，只是调用`my_tensor.to(device)`返回一个`my_tensor`新的复制在GPU上，而不是重写`my_tensor`。你需要分配给他一个新的张量并且在GPU上使用这个张量。\n",
    "\n",
    "在多GPU中执行前馈，后馈操作是非常自然的。尽管如此，PyTorch默认只会使用一个GPU。通过使用`DataParallel`让你的模型并行运行，你可以很容易的在多GPU上运行你的操作。 \n",
    "\n",
    "```python\n",
    "model = nn.DataParallel(model)\n",
    "```"
   ]
  },
  {
   "cell_type": "markdown",
   "metadata": {},
   "source": [
    "这是整个教程的核心，我们接下来将会详细讲解。 引用和参数\n",
    "\n",
    "引入 PyTorch 模块和定义参数 "
   ]
  },
  {
   "cell_type": "code",
   "execution_count": 3,
   "metadata": {},
   "outputs": [],
   "source": [
    "import torch\n",
    "import torch.nn as nn\n",
    "from torch.utils.data import Dataset, DataLoader"
   ]
  },
  {
   "cell_type": "markdown",
   "metadata": {},
   "source": [
    "#### 参数"
   ]
  },
  {
   "cell_type": "code",
   "execution_count": 4,
   "metadata": {},
   "outputs": [],
   "source": [
    "imput_size = 5\n",
    "output_size = 2\n",
    "\n",
    "batch_size = 30\n",
    "data_size = 100"
   ]
  },
  {
   "cell_type": "code",
   "execution_count": null,
   "metadata": {},
   "outputs": [],
   "source": []
  }
 ],
 "metadata": {
  "kernelspec": {
   "display_name": "Python [conda env:pytorch]",
   "language": "python",
   "name": "conda-env-pytorch-py"
  },
  "language_info": {
   "codemirror_mode": {
    "name": "ipython",
    "version": 3
   },
   "file_extension": ".py",
   "mimetype": "text/x-python",
   "name": "python",
   "nbconvert_exporter": "python",
   "pygments_lexer": "ipython3",
   "version": "3.7.7"
  }
 },
 "nbformat": 4,
 "nbformat_minor": 4
}
