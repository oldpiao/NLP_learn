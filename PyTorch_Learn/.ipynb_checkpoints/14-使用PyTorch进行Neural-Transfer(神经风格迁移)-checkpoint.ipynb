{
 "cells": [
  {
   "cell_type": "markdown",
   "metadata": {},
   "source": [
    "<font color=red>注：此处是文档第154页</font>"
   ]
  },
  {
   "cell_type": "markdown",
   "metadata": {},
   "source": [
    "# 使用PyTorch进行Neural-Transfer(神经风格迁移)\n",
    "\n",
    "## 1.简介\n",
    "\n",
    "本教程主要讲解如何实现由 Leon A. Gatys，Alexander S. Ecker和Matthias Bethge提出的[NeuralStyle](https://arxiv.org/abs/1508.06576)算法。`Neural-Style` 或者叫 `Neural-Transfer`，可以让你使用一种新的风格将指定的图片进行重构。 这个算法使用三张图片，一张输入图片，一张内容图片和一张风格图片，并将输入的图片变得与内容图片相似，且拥有风格图片的优美风格。\n",
    "\n",
    "## 2.基本原理\n",
    "我们定义两个间距，一个用于内容 `D_C` ，另一个用于风格 `D_S` 。 `D_C` 测量两张图片内容的不同，而 `D_S` 用来测量两张图片风格的不同。 然后，我们输入第三张图片，并改变这张图片，使其与内容图片的内容间距和风格图片的风格间距最小化。 现在，我们可以导入必要的包，开始图像风格转换。\n",
    "\n",
    "## 3.导包并选择设备\n",
    "下面是一张实现图像风格转换所需包的汇总。 \n",
    "- `torch, torch.nn, numpy`：使用PyTorch进行风格转换必不可少的包 \n",
    "- `torch.optim`：高效的梯度下降 \n",
    "- `PIL, PIL.Image, matplotlib.pyplot`：加载和展示图片 \n",
    "- `torchvision.transforms`：将PIL图片转换成张量 \n",
    "- `torchvision.models`：训练或加载预训练模型 \n",
    "- `copy`：对模型进行深度拷贝\n",
    "\n",
    "导入系统包"
   ]
  },
  {
   "cell_type": "code",
   "execution_count": null,
   "metadata": {},
   "outputs": [],
   "source": []
  }
 ],
 "metadata": {
  "kernelspec": {
   "display_name": "pytorch",
   "language": "python",
   "name": "pytorch"
  },
  "language_info": {
   "codemirror_mode": {
    "name": "ipython",
    "version": 3
   },
   "file_extension": ".py",
   "mimetype": "text/x-python",
   "name": "python",
   "nbconvert_exporter": "python",
   "pygments_lexer": "ipython3",
   "version": "3.7.8"
  }
 },
 "nbformat": 4,
 "nbformat_minor": 4
}
