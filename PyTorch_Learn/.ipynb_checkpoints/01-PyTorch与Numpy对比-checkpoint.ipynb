{
 "cells": [
  {
   "cell_type": "markdown",
   "metadata": {},
   "source": [
    "<font color=red>注：此处是文档第16页</font>"
   ]
  },
  {
   "cell_type": "markdown",
   "metadata": {},
   "source": [
    "## PyTorch与Numpy对比\n",
    "\n",
    "PyTorch在很多地方个Numpy的接口是复用的，很多功能是相同的"
   ]
  },
  {
   "cell_type": "code",
   "execution_count": 1,
   "metadata": {},
   "outputs": [],
   "source": [
    "import torch\n",
    "import numpy as np"
   ]
  },
  {
   "cell_type": "code",
   "execution_count": 2,
   "metadata": {},
   "outputs": [
    {
     "name": "stdout",
     "output_type": "stream",
     "text": [
      "tensor([[0.9571, 0.1413, 0.8268],\n",
      "        [0.7222, 0.2643, 0.7039],\n",
      "        [0.1790, 0.6101, 0.8220],\n",
      "        [0.9930, 0.8647, 0.0279],\n",
      "        [0.6549, 0.4188, 0.9734]])\n",
      "[[0.92575916 0.6646053  0.23556241]\n",
      " [0.76990574 0.56246408 0.05640695]\n",
      " [0.12531286 0.47657995 0.38020194]\n",
      " [0.91651188 0.79001948 0.99973528]\n",
      " [0.57250491 0.69340543 0.28752515]]\n"
     ]
    }
   ],
   "source": [
    "x1 = torch.rand(5, 3)\n",
    "x2 = np.random.rand(5, 3)\n",
    "print(x1)\n",
    "print(x2)"
   ]
  },
  {
   "cell_type": "code",
   "execution_count": 3,
   "metadata": {},
   "outputs": [
    {
     "name": "stdout",
     "output_type": "stream",
     "text": [
      "tensor([[0., 0., 0.],\n",
      "        [0., 0., 0.],\n",
      "        [0., 0., 0.],\n",
      "        [0., 0., 0.],\n",
      "        [0., 0., 0.]])\n",
      "[[0.92575916 0.6646053  0.23556241]\n",
      " [0.76990574 0.56246408 0.05640695]\n",
      " [0.12531286 0.47657995 0.38020194]\n",
      " [0.91651188 0.79001948 0.99973528]\n",
      " [0.57250491 0.69340543 0.28752515]]\n"
     ]
    }
   ],
   "source": [
    "x1 = torch.empty(5, 3)\n",
    "x2 = np.empty((5, 3))\n",
    "print(x1)\n",
    "print(x2)"
   ]
  },
  {
   "cell_type": "code",
   "execution_count": 4,
   "metadata": {},
   "outputs": [
    {
     "name": "stdout",
     "output_type": "stream",
     "text": [
      "tensor([[0, 0, 0],\n",
      "        [0, 0, 0],\n",
      "        [0, 0, 0],\n",
      "        [0, 0, 0],\n",
      "        [0, 0, 0]])\n",
      "[[0 0 0]\n",
      " [0 0 0]\n",
      " [0 0 0]\n",
      " [0 0 0]\n",
      " [0 0 0]]\n"
     ]
    }
   ],
   "source": [
    "x1 = torch.zeros(5, 3, dtype=torch.long)\n",
    "x2 = np.zeros((5, 3), dtype=np.long)\n",
    "print(x1)\n",
    "print(x2)"
   ]
  },
  {
   "cell_type": "code",
   "execution_count": 5,
   "metadata": {},
   "outputs": [
    {
     "name": "stdout",
     "output_type": "stream",
     "text": [
      "tensor([5.5000, 3.0000])\n",
      "[5.5 3. ]\n"
     ]
    }
   ],
   "source": [
    "x1 = torch.tensor([5.5, 3])\n",
    "x2 = np.array([5.5, 3])\n",
    "print(x1)\n",
    "print(x2)"
   ]
  },
  {
   "cell_type": "code",
   "execution_count": 6,
   "metadata": {},
   "outputs": [
    {
     "name": "stdout",
     "output_type": "stream",
     "text": [
      "tensor([[1., 1., 1.],\n",
      "        [1., 1., 1.],\n",
      "        [1., 1., 1.],\n",
      "        [1., 1., 1.],\n",
      "        [1., 1., 1.]], dtype=torch.float64)\n",
      "[[1. 1. 1.]\n",
      " [1. 1. 1.]\n",
      " [1. 1. 1.]\n",
      " [1. 1. 1.]\n",
      " [1. 1. 1.]]\n",
      "tensor([[0.2033, 0.0164, 0.5811],\n",
      "        [0.1800, 0.5488, 0.1640],\n",
      "        [0.9569, 0.6971, 0.9604],\n",
      "        [0.1805, 0.0086, 0.0400],\n",
      "        [0.7200, 0.5056, 0.4783]])\n"
     ]
    }
   ],
   "source": [
    "x1 = x1.new_ones(5, 3, dtype=torch.double)\n",
    "x2 = np.ones((5, 3), dtype=np.double)\n",
    "print(x1)\n",
    "print(x2)\n",
    "x3 = torch.rand_like(x1, dtype=torch.float)\n",
    "# result has the same size\n",
    "print(x3)"
   ]
  },
  {
   "cell_type": "code",
   "execution_count": 7,
   "metadata": {},
   "outputs": [
    {
     "data": {
      "text/plain": [
       "array([[1., 1., 1.],\n",
       "       [1., 1., 1.],\n",
       "       [1., 1., 1.],\n",
       "       [1., 1., 1.],\n",
       "       [1., 1., 1.]])"
      ]
     },
     "execution_count": 7,
     "metadata": {},
     "output_type": "execute_result"
    }
   ],
   "source": [
    "x5 = np.empty((5, 3))\n",
    "x5"
   ]
  },
  {
   "cell_type": "code",
   "execution_count": 8,
   "metadata": {},
   "outputs": [
    {
     "name": "stdout",
     "output_type": "stream",
     "text": [
      "torch.Size([5, 3])\n",
      "(5, 3)\n"
     ]
    }
   ],
   "source": [
    "print(x3.size())\n",
    "print(x2.shape)"
   ]
  },
  {
   "cell_type": "code",
   "execution_count": 9,
   "metadata": {},
   "outputs": [
    {
     "name": "stdout",
     "output_type": "stream",
     "text": [
      "tensor([[0.7608, 0.2857, 0.7985],\n",
      "        [0.7202, 0.4885, 0.8775],\n",
      "        [0.9053, 0.9836, 0.7409],\n",
      "        [0.9162, 0.1685, 0.3530],\n",
      "        [0.8934, 0.6707, 0.0573]])\n",
      "[[0.52721106 0.95144726 0.46719169]\n",
      " [0.64496342 0.00527067 0.56492943]\n",
      " [0.84465222 0.16016092 0.92749615]\n",
      " [0.55338942 0.45243598 0.96827558]\n",
      " [0.64003684 0.11647131 0.02082557]]\n",
      "tensor([[1.7608, 1.2857, 1.7985],\n",
      "        [1.7202, 1.4885, 1.8775],\n",
      "        [1.9053, 1.9836, 1.7409],\n",
      "        [1.9162, 1.1685, 1.3530],\n",
      "        [1.8934, 1.6707, 1.0573]], dtype=torch.float64)\n",
      "[[1.52721106 1.95144726 1.46719169]\n",
      " [1.64496342 1.00527067 1.56492943]\n",
      " [1.84465222 1.16016092 1.92749615]\n",
      " [1.55338942 1.45243598 1.96827558]\n",
      " [1.64003684 1.11647131 1.02082557]]\n"
     ]
    }
   ],
   "source": [
    "y1 = torch.rand(5, 3)\n",
    "y2 = np.random.random((5, 3))\n",
    "print(y1)\n",
    "print(y2)\n",
    "print(x1 + y1)\n",
    "print(x2 + y2)"
   ]
  },
  {
   "cell_type": "code",
   "execution_count": 10,
   "metadata": {},
   "outputs": [
    {
     "name": "stdout",
     "output_type": "stream",
     "text": [
      "tensor([[1.7608, 1.2857, 1.7985],\n",
      "        [1.7202, 1.4885, 1.8775],\n",
      "        [1.9053, 1.9836, 1.7409],\n",
      "        [1.9162, 1.1685, 1.3530],\n",
      "        [1.8934, 1.6707, 1.0573]], dtype=torch.float64)\n",
      "[[1.52721106 1.95144726 1.46719169]\n",
      " [1.64496342 1.00527067 1.56492943]\n",
      " [1.84465222 1.16016092 1.92749615]\n",
      " [1.55338942 1.45243598 1.96827558]\n",
      " [1.64003684 1.11647131 1.02082557]]\n"
     ]
    }
   ],
   "source": [
    "print(torch.add(x1, y1))\n",
    "print(np.add(x2, y2))"
   ]
  },
  {
   "cell_type": "code",
   "execution_count": 11,
   "metadata": {},
   "outputs": [
    {
     "name": "stdout",
     "output_type": "stream",
     "text": [
      "tensor([[1.7608, 1.2857, 1.7985],\n",
      "        [1.7202, 1.4885, 1.8775],\n",
      "        [1.9053, 1.9836, 1.7409],\n",
      "        [1.9162, 1.1685, 1.3530],\n",
      "        [1.8934, 1.6707, 1.0573]])\n",
      "[[1.52721106 1.95144726 1.46719169]\n",
      " [1.64496342 1.00527067 1.56492943]\n",
      " [1.84465222 1.16016092 1.92749615]\n",
      " [1.55338942 1.45243598 1.96827558]\n",
      " [1.64003684 1.11647131 1.02082557]]\n"
     ]
    }
   ],
   "source": [
    "result1 = torch.empty(5, 3)\n",
    "torch.add(x1, y1, out=result1)\n",
    "print(result1)\n",
    "\n",
    "result2 = np.empty((5, 3))\n",
    "np.add(x2, y2, out=result2)\n",
    "print(result2)"
   ]
  },
  {
   "cell_type": "code",
   "execution_count": 12,
   "metadata": {},
   "outputs": [
    {
     "name": "stdout",
     "output_type": "stream",
     "text": [
      "tensor([[1.7608, 1.2857, 1.7985],\n",
      "        [1.7202, 1.4885, 1.8775],\n",
      "        [1.9053, 1.9836, 1.7409],\n",
      "        [1.9162, 1.1685, 1.3530],\n",
      "        [1.8934, 1.6707, 1.0573]])\n"
     ]
    }
   ],
   "source": [
    "print(y1.add_(x1))"
   ]
  },
  {
   "cell_type": "code",
   "execution_count": 13,
   "metadata": {},
   "outputs": [
    {
     "name": "stdout",
     "output_type": "stream",
     "text": [
      "tensor([[4.6640e-321, 4.6640e-321, 4.7430e-321],\n",
      "        [4.7430e-321, 5.8102e-321, 5.8102e-321],\n",
      "        [5.6126e-321, 5.6126e-321, 5.7707e-321],\n",
      "        [5.7707e-321, 5.8300e-321, 5.8300e-321],\n",
      "        [5.8497e-321, 5.8497e-321, 5.7904e-321]], dtype=torch.float64)\n",
      "[[1.52721106 1.95144726 1.46719169]\n",
      " [1.64496342 1.00527067 1.56492943]\n",
      " [1.84465222 1.16016092 1.92749615]\n",
      " [1.55338942 1.45243598 1.96827558]\n",
      " [1.64003684 1.11647131 1.02082557]]\n"
     ]
    }
   ],
   "source": [
    "x1 = x1.new_empty(5, 3, dtype=torch.double)\n",
    "x2 = np.empty((5, 3), dtype=np.double)\n",
    "print(x1)\n",
    "print(x2)"
   ]
  },
  {
   "cell_type": "code",
   "execution_count": 14,
   "metadata": {},
   "outputs": [
    {
     "name": "stdout",
     "output_type": "stream",
     "text": [
      "tensor([[1.7608, 1.2857, 1.7985],\n",
      "        [1.7202, 1.4885, 1.8775],\n",
      "        [1.9053, 1.9836, 1.7409],\n",
      "        [1.9162, 1.1685, 1.3530],\n",
      "        [1.8934, 1.6707, 1.0573]])\n"
     ]
    }
   ],
   "source": [
    "print(y1.add_(x1))"
   ]
  },
  {
   "cell_type": "code",
   "execution_count": 15,
   "metadata": {},
   "outputs": [
    {
     "name": "stdout",
     "output_type": "stream",
     "text": [
      "tensor([4.6640e-321, 5.8102e-321, 5.6126e-321, 5.8300e-321, 5.8497e-321],\n",
      "       dtype=torch.float64)\n",
      "[1.95144726 1.00527067 1.16016092 1.45243598 1.11647131]\n"
     ]
    }
   ],
   "source": [
    "print(x1[:, 1])\n",
    "print(x2[:, 1])"
   ]
  },
  {
   "cell_type": "code",
   "execution_count": 16,
   "metadata": {},
   "outputs": [
    {
     "name": "stdout",
     "output_type": "stream",
     "text": [
      "torch.Size([4, 4]) torch.Size([16]) torch.Size([2, 8])\n",
      "(4, 4) (16,) (2, 8)\n"
     ]
    }
   ],
   "source": [
    "x1 = torch.randn(4, 4)\n",
    "y1 = x1.view(16)\n",
    "z1 = x1.view(-1, 8)  # the size -1 is inferred from other dimensions\n",
    "x2 = np.random.randn(4, 4)\n",
    "y2 = x2.reshape(16)\n",
    "z2 = x2.reshape((-1, 8))  # 大小-1是从其他维度推断出来的\n",
    "print(x1.size(), y1.size(), z1.size())\n",
    "print(x2.shape, y2.shape, z2.shape)"
   ]
  },
  {
   "cell_type": "code",
   "execution_count": 17,
   "metadata": {},
   "outputs": [
    {
     "name": "stdout",
     "output_type": "stream",
     "text": [
      "tensor([0.5666]) 0.5666370391845703 0.8862725496292114\n",
      "[0.55691517] 0.5569151713135492 0.3421400852597876\n"
     ]
    }
   ],
   "source": [
    "x1 = torch.randn(1)\n",
    "y1 = torch.randn(4, 4)\n",
    "x2 = np.random.randn(1)\n",
    "y2 = np.random.randn(4, 4)\n",
    "print(x1, x1.item(), y1[0, 0].item())\n",
    "print(x2, x2[0], y2[0, 0])"
   ]
  },
  {
   "cell_type": "markdown",
   "metadata": {},
   "source": [
    "#### 任何使张量会发生变化的操作都有一个前缀 "
   ]
  },
  {
   "cell_type": "code",
   "execution_count": 18,
   "metadata": {},
   "outputs": [
    {
     "name": "stdout",
     "output_type": "stream",
     "text": [
      "x1 tensor([[1., 2., 3., 4.],\n",
      "        [5., 6., 7., 8.]])\n",
      "y1 tensor([[2., 3., 4., 1.],\n",
      "        [6., 7., 8., 5.]])\n",
      "---用y1覆盖x1------\n",
      "x1 tensor([[2., 3., 4., 1.],\n",
      "        [6., 7., 8., 5.]])\n",
      "y1 tensor([[2., 3., 4., 1.],\n",
      "        [6., 7., 8., 5.]])\n",
      "z1 tensor([[2., 3., 4., 1.],\n",
      "        [6., 7., 8., 5.]])\n",
      "---修改参数,x1,y1互不影响,z1与x1是同一参数------\n",
      "x1 tensor([[10.,  3., 30.,  1.],\n",
      "        [ 6.,  7.,  8.,  5.]])\n",
      "y1 tensor([[ 2., 20.,  4.,  1.],\n",
      "        [ 6.,  7.,  8.,  5.]])\n",
      "z1 tensor([[10.,  3., 30.,  1.],\n",
      "        [ 6.,  7.,  8.,  5.]])\n",
      "tensor([[10.,  6.],\n",
      "        [ 3.,  7.],\n",
      "        [30.,  8.],\n",
      "        [ 1.,  5.]])\n"
     ]
    }
   ],
   "source": [
    "# pytorch的\n",
    "x1 = torch.Tensor([[1,2,3,4], [5,6,7,8]])\n",
    "y1 = torch.Tensor([[2,3,4,1], [6,7,8,5]])\n",
    "print(\"x1\", x1)\n",
    "print(\"y1\", y1)\n",
    "print('---用y1覆盖x1------')\n",
    "z1 = x1.copy_(y1)\n",
    "print(\"x1\", x1)\n",
    "print(\"y1\", y1)\n",
    "print(\"z1\", z1)\n",
    "\n",
    "print('---修改参数,x1,y1互不影响,z1与x1是同一参数------')\n",
    "x1[0,0] = 10\n",
    "y1[0,1] = 20\n",
    "z1[0,2] = 30\n",
    "print(\"x1\", x1)\n",
    "print(\"y1\", y1)\n",
    "print(\"z1\", z1)\n",
    "\n",
    "x1.t_()\n",
    "print(x1)"
   ]
  },
  {
   "cell_type": "code",
   "execution_count": null,
   "metadata": {},
   "outputs": [],
   "source": []
  }
 ],
 "metadata": {
  "kernelspec": {
   "display_name": "Python [conda env:pytorch]",
   "language": "python",
   "name": "conda-env-pytorch-py"
  },
  "language_info": {
   "codemirror_mode": {
    "name": "ipython",
    "version": 3
   },
   "file_extension": ".py",
   "mimetype": "text/x-python",
   "name": "python",
   "nbconvert_exporter": "python",
   "pygments_lexer": "ipython3",
   "version": "3.7.8"
  }
 },
 "nbformat": 4,
 "nbformat_minor": 4
}
