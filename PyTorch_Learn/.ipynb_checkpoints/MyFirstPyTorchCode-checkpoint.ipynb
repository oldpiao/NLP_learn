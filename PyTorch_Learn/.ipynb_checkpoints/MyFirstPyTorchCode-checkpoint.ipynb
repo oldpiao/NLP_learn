{
 "cells": [
  {
   "cell_type": "markdown",
   "metadata": {},
   "source": [
    "### PyTorch与Numpy对比\n",
    "\n",
    "PyTorch在很多地方个Numpy的接口是复用的，很多功能是相同的"
   ]
  },
  {
   "cell_type": "code",
   "execution_count": 4,
   "metadata": {},
   "outputs": [],
   "source": [
    "import torch\n",
    "import numpy as np"
   ]
  },
  {
   "cell_type": "code",
   "execution_count": 47,
   "metadata": {},
   "outputs": [
    {
     "name": "stdout",
     "output_type": "stream",
     "text": [
      "tensor([[0.4114, 0.2761, 0.4594],\n",
      "        [0.0359, 0.1541, 0.3638],\n",
      "        [0.7446, 0.7419, 0.0747],\n",
      "        [0.6547, 0.4000, 0.2273],\n",
      "        [0.7493, 0.9523, 0.1496]])\n",
      "[[0.70436684 0.00634363 0.07309778]\n",
      " [0.17712406 0.17935251 0.74888941]\n",
      " [0.90927267 0.68183032 0.20083544]\n",
      " [0.12932494 0.61726886 0.11800289]\n",
      " [0.19314692 0.51167789 0.12288183]]\n"
     ]
    }
   ],
   "source": [
    "x1 = torch.rand(5, 3)\n",
    "x2 = np.random.rand(5, 3)\n",
    "print(x1)\n",
    "print(x2)"
   ]
  },
  {
   "cell_type": "code",
   "execution_count": 48,
   "metadata": {},
   "outputs": [
    {
     "name": "stdout",
     "output_type": "stream",
     "text": [
      "tensor([[9.9184e-39, 8.7245e-39, 9.2755e-39],\n",
      "        [8.9082e-39, 9.9184e-39, 8.4490e-39],\n",
      "        [9.6429e-39, 1.0653e-38, 1.0469e-38],\n",
      "        [4.2246e-39, 1.0378e-38, 9.6429e-39],\n",
      "        [9.2755e-39, 9.7346e-39, 1.0745e-38]])\n",
      "[[0.70436684 0.00634363 0.07309778]\n",
      " [0.17712406 0.17935251 0.74888941]\n",
      " [0.90927267 0.68183032 0.20083544]\n",
      " [0.12932494 0.61726886 0.11800289]\n",
      " [0.19314692 0.51167789 0.12288183]]\n"
     ]
    }
   ],
   "source": [
    "x1 = torch.empty(5, 3)\n",
    "x2 = np.empty((5, 3))\n",
    "print(x1)\n",
    "print(x2)"
   ]
  },
  {
   "cell_type": "code",
   "execution_count": 25,
   "metadata": {},
   "outputs": [
    {
     "name": "stdout",
     "output_type": "stream",
     "text": [
      "tensor([[0, 0, 0],\n",
      "        [0, 0, 0],\n",
      "        [0, 0, 0],\n",
      "        [0, 0, 0],\n",
      "        [0, 0, 0]])\n",
      "[[0 0 0]\n",
      " [0 0 0]\n",
      " [0 0 0]\n",
      " [0 0 0]\n",
      " [0 0 0]]\n"
     ]
    }
   ],
   "source": [
    "x1 = torch.zeros(5, 3, dtype=torch.long)\n",
    "x2 = np.zeros((5, 3), dtype=np.long)\n",
    "print(x1)\n",
    "print(x2)"
   ]
  },
  {
   "cell_type": "code",
   "execution_count": 26,
   "metadata": {},
   "outputs": [
    {
     "name": "stdout",
     "output_type": "stream",
     "text": [
      "tensor([5.5000, 3.0000])\n",
      "[5.5 3. ]\n"
     ]
    }
   ],
   "source": [
    "x1 = torch.tensor([5.5, 3])\n",
    "x2 = np.array([5.5, 3])\n",
    "print(x1)\n",
    "print(x2)"
   ]
  },
  {
   "cell_type": "code",
   "execution_count": 59,
   "metadata": {},
   "outputs": [
    {
     "name": "stdout",
     "output_type": "stream",
     "text": [
      "tensor([[1., 1., 1.],\n",
      "        [1., 1., 1.],\n",
      "        [1., 1., 1.],\n",
      "        [1., 1., 1.],\n",
      "        [1., 1., 1.]], dtype=torch.float64)\n",
      "[[1. 1. 1.]\n",
      " [1. 1. 1.]\n",
      " [1. 1. 1.]\n",
      " [1. 1. 1.]\n",
      " [1. 1. 1.]]\n",
      "tensor([[0.8800, 0.7836, 0.4766],\n",
      "        [0.4261, 0.3910, 0.6787],\n",
      "        [0.0930, 0.8117, 0.8943],\n",
      "        [0.7003, 0.7202, 0.4769],\n",
      "        [0.7214, 0.4829, 0.6361]])\n"
     ]
    }
   ],
   "source": [
    "x1 = x1.new_ones(5, 3, dtype=torch.double)\n",
    "x2 = np.ones((5, 3), dtype=np.double)\n",
    "print(x1)\n",
    "print(x2)\n",
    "x3 = torch.rand_like(x1, dtype=torch.float)\n",
    "# result has the same size\n",
    "print(x3)"
   ]
  },
  {
   "cell_type": "code",
   "execution_count": 45,
   "metadata": {},
   "outputs": [
    {
     "data": {
      "text/plain": [
       "array([[1., 1., 1.],\n",
       "       [1., 1., 1.],\n",
       "       [1., 1., 1.],\n",
       "       [1., 1., 1.],\n",
       "       [1., 1., 1.]])"
      ]
     },
     "execution_count": 45,
     "metadata": {},
     "output_type": "execute_result"
    }
   ],
   "source": [
    "x5 = np.empty((5, 3))\n",
    "x5"
   ]
  },
  {
   "cell_type": "code",
   "execution_count": null,
   "metadata": {},
   "outputs": [],
   "source": [
    "x1 = torch\n",
    "x2 = np\n",
    "print(x1)\n",
    "print(x2)"
   ]
  },
  {
   "cell_type": "code",
   "execution_count": 62,
   "metadata": {},
   "outputs": [
    {
     "name": "stdout",
     "output_type": "stream",
     "text": [
      "torch.Size([5, 3])\n",
      "(5, 3)\n"
     ]
    }
   ],
   "source": [
    "print(x3.size())\n",
    "print(x2.shape)"
   ]
  },
  {
   "cell_type": "code",
   "execution_count": 65,
   "metadata": {},
   "outputs": [
    {
     "name": "stdout",
     "output_type": "stream",
     "text": [
      "tensor([[0.2089, 0.0689, 0.8483],\n",
      "        [0.4483, 0.5105, 0.9504],\n",
      "        [0.0529, 0.4283, 0.9449],\n",
      "        [0.9011, 0.4982, 0.7698],\n",
      "        [0.3762, 0.9745, 0.4631]])\n",
      "[[0.66073628 0.26091117 0.32163709]\n",
      " [0.38813585 0.42579982 0.77179191]\n",
      " [0.17213077 0.66688412 0.51632484]\n",
      " [0.70402799 0.66865081 0.52534292]\n",
      " [0.51299403 0.22186785 0.25163922]]\n",
      "tensor([[1.2089, 1.0689, 1.8483],\n",
      "        [1.4483, 1.5105, 1.9504],\n",
      "        [1.0529, 1.4283, 1.9449],\n",
      "        [1.9011, 1.4982, 1.7698],\n",
      "        [1.3762, 1.9745, 1.4631]], dtype=torch.float64)\n",
      "[[1.66073628 1.26091117 1.32163709]\n",
      " [1.38813585 1.42579982 1.77179191]\n",
      " [1.17213077 1.66688412 1.51632484]\n",
      " [1.70402799 1.66865081 1.52534292]\n",
      " [1.51299403 1.22186785 1.25163922]]\n"
     ]
    }
   ],
   "source": [
    "y1 = torch.rand(5, 3)\n",
    "y2 = np.random.random((5, 3))\n",
    "print(y1)\n",
    "print(y2)\n",
    "print(x1 + y1)\n",
    "print(x2 + y2)"
   ]
  },
  {
   "cell_type": "code",
   "execution_count": 67,
   "metadata": {},
   "outputs": [
    {
     "name": "stdout",
     "output_type": "stream",
     "text": [
      "tensor([[1.2089, 1.0689, 1.8483],\n",
      "        [1.4483, 1.5105, 1.9504],\n",
      "        [1.0529, 1.4283, 1.9449],\n",
      "        [1.9011, 1.4982, 1.7698],\n",
      "        [1.3762, 1.9745, 1.4631]], dtype=torch.float64)\n",
      "[[1.66073628 1.26091117 1.32163709]\n",
      " [1.38813585 1.42579982 1.77179191]\n",
      " [1.17213077 1.66688412 1.51632484]\n",
      " [1.70402799 1.66865081 1.52534292]\n",
      " [1.51299403 1.22186785 1.25163922]]\n"
     ]
    }
   ],
   "source": [
    "print(torch.add(x1, y1))\n",
    "print(np.add(x2, y2))"
   ]
  },
  {
   "cell_type": "code",
   "execution_count": 71,
   "metadata": {},
   "outputs": [
    {
     "name": "stdout",
     "output_type": "stream",
     "text": [
      "tensor([[1.2089, 1.0689, 1.8483],\n",
      "        [1.4483, 1.5105, 1.9504],\n",
      "        [1.0529, 1.4283, 1.9449],\n",
      "        [1.9011, 1.4982, 1.7698],\n",
      "        [1.3762, 1.9745, 1.4631]])\n",
      "[[1.66073628 1.26091117 1.32163709]\n",
      " [1.38813585 1.42579982 1.77179191]\n",
      " [1.17213077 1.66688412 1.51632484]\n",
      " [1.70402799 1.66865081 1.52534292]\n",
      " [1.51299403 1.22186785 1.25163922]]\n"
     ]
    }
   ],
   "source": [
    "result1 = torch.empty(5, 3)\n",
    "torch.add(x1, y1, out=result1)\n",
    "print(result1)\n",
    "\n",
    "result2 = np.empty((5, 3))\n",
    "np.add(x2, y2, out=result2)\n",
    "print(result2)"
   ]
  },
  {
   "cell_type": "code",
   "execution_count": 73,
   "metadata": {},
   "outputs": [
    {
     "name": "stdout",
     "output_type": "stream",
     "text": [
      "tensor([[2.2089, 2.0689, 2.8483],\n",
      "        [2.4483, 2.5105, 2.9504],\n",
      "        [2.0529, 2.4283, 2.9449],\n",
      "        [2.9011, 2.4982, 2.7698],\n",
      "        [2.3762, 2.9745, 2.4631]])\n"
     ]
    }
   ],
   "source": [
    "print(y1.add_(x1))"
   ]
  },
  {
   "cell_type": "code",
   "execution_count": 58,
   "metadata": {},
   "outputs": [
    {
     "name": "stdout",
     "output_type": "stream",
     "text": [
      "tensor([[2.5296e-321, 2.5296e-321, 3.9921e-321],\n",
      "        [3.9921e-321, 2.3913e-321, 2.3913e-321],\n",
      "        [4.8221e-321, 4.8221e-321, 5.2964e-321],\n",
      "        [5.2964e-321, 5.2766e-321, 5.2766e-321],\n",
      "        [5.7904e-321, 5.7904e-321, 5.8102e-321]], dtype=torch.float64)\n",
      "[[1. 1. 1.]\n",
      " [1. 1. 1.]\n",
      " [1. 1. 1.]\n",
      " [1. 1. 1.]\n",
      " [1. 1. 1.]]\n"
     ]
    }
   ],
   "source": [
    "x1 = x1.new_empty(5, 3, dtype=torch.double)\n",
    "x2 = np.empty((5, 3), dtype=np.double)\n",
    "print(x1)\n",
    "print(x2)"
   ]
  },
  {
   "cell_type": "code",
   "execution_count": 74,
   "metadata": {},
   "outputs": [
    {
     "name": "stdout",
     "output_type": "stream",
     "text": [
      "tensor([[3.2089, 3.0689, 3.8483],\n",
      "        [3.4483, 3.5105, 3.9504],\n",
      "        [3.0529, 3.4283, 3.9449],\n",
      "        [3.9011, 3.4982, 3.7698],\n",
      "        [3.3762, 3.9745, 3.4631]])\n"
     ]
    }
   ],
   "source": [
    "print(y1.add_(x1))"
   ]
  },
  {
   "cell_type": "code",
   "execution_count": 76,
   "metadata": {},
   "outputs": [
    {
     "name": "stdout",
     "output_type": "stream",
     "text": [
      "tensor([1., 1., 1., 1., 1.], dtype=torch.float64)\n",
      "[1. 1. 1. 1. 1.]\n"
     ]
    }
   ],
   "source": [
    "print(x1[:, 1])\n",
    "print(x2[:, 1])"
   ]
  },
  {
   "cell_type": "code",
   "execution_count": 93,
   "metadata": {},
   "outputs": [
    {
     "name": "stdout",
     "output_type": "stream",
     "text": [
      "torch.Size([4, 4]) torch.Size([16]) torch.Size([2, 8])\n",
      "(4, 4) (16,) (2, 8)\n"
     ]
    }
   ],
   "source": [
    "x1 = torch.randn(4, 4)\n",
    "y1 = x1.view(16)\n",
    "z1 = x1.view(-1, 8)  # the size -1 is inferred from other dimensions\n",
    "x2 = np.random.randn(4, 4)\n",
    "y2 = x2.reshape(16)\n",
    "z2 = x2.reshape((-1, 8))  # 大小-1是从其他维度推断出来的\n",
    "print(x1.size(), y1.size(), z1.size())\n",
    "print(x2.shape, y2.shape, z2.shape)"
   ]
  },
  {
   "cell_type": "code",
   "execution_count": 104,
   "metadata": {},
   "outputs": [
    {
     "name": "stdout",
     "output_type": "stream",
     "text": [
      "tensor([0.2306]) 0.23059606552124023 -0.8247631788253784\n",
      "[-0.13179297] -0.13179296510994878 0.6916514836567711\n"
     ]
    }
   ],
   "source": [
    "x1 = torch.randn(1)\n",
    "y1 = torch.randn(4, 4)\n",
    "x2 = np.random.randn(1)\n",
    "y2 = np.random.randn(4, 4)\n",
    "print(x1, x1.item(), y1[0, 0].item())\n",
    "print(x2, x2[0], y2[0, 0])"
   ]
  },
  {
   "cell_type": "markdown",
   "metadata": {},
   "source": [
    "#### 任何使张量会发生变化的操作都有一个前缀 "
   ]
  },
  {
   "cell_type": "code",
   "execution_count": 137,
   "metadata": {},
   "outputs": [
    {
     "name": "stdout",
     "output_type": "stream",
     "text": [
      "x1 tensor([[1., 2., 3., 4.],\n",
      "        [5., 6., 7., 8.]])\n",
      "y1 tensor([[2., 3., 4., 1.],\n",
      "        [6., 7., 8., 5.]])\n",
      "---用y1覆盖x1------\n",
      "x1 tensor([[2., 3., 4., 1.],\n",
      "        [6., 7., 8., 5.]])\n",
      "y1 tensor([[2., 3., 4., 1.],\n",
      "        [6., 7., 8., 5.]])\n",
      "z1 tensor([[2., 3., 4., 1.],\n",
      "        [6., 7., 8., 5.]])\n",
      "---修改参数,x1,y1互不影响,z1与x1是同一参数------\n",
      "x1 tensor([[10.,  3., 30.,  1.],\n",
      "        [ 6.,  7.,  8.,  5.]])\n",
      "y1 tensor([[ 2., 20.,  4.,  1.],\n",
      "        [ 6.,  7.,  8.,  5.]])\n",
      "z1 tensor([[10.,  3., 30.,  1.],\n",
      "        [ 6.,  7.,  8.,  5.]])\n",
      "tensor([[10.,  6.],\n",
      "        [ 3.,  7.],\n",
      "        [30.,  8.],\n",
      "        [ 1.,  5.]])\n"
     ]
    }
   ],
   "source": [
    "# pytorch的\n",
    "x1 = torch.Tensor([[1,2,3,4], [5,6,7,8]])\n",
    "y1 = torch.Tensor([[2,3,4,1], [6,7,8,5]])\n",
    "print(\"x1\", x1)\n",
    "print(\"y1\", y1)\n",
    "print('---用y1覆盖x1------')\n",
    "z1 = x1.copy_(y1)\n",
    "print(\"x1\", x1)\n",
    "print(\"y1\", y1)\n",
    "print(\"z1\", z1)\n",
    "\n",
    "print('---修改参数,x1,y1互不影响,z1与x1是同一参数------')\n",
    "x1[0,0] = 10\n",
    "y1[0,1] = 20\n",
    "z1[0,2] = 30\n",
    "print(\"x1\", x1)\n",
    "print(\"y1\", y1)\n",
    "print(\"z1\", z1)\n",
    "\n",
    "x1.t_()\n",
    "print(x1)"
   ]
  },
  {
   "cell_type": "code",
   "execution_count": null,
   "metadata": {},
   "outputs": [],
   "source": []
  }
 ],
 "metadata": {
  "kernelspec": {
   "display_name": "Python [conda env:pytorch]",
   "language": "python",
   "name": "conda-env-pytorch-py"
  },
  "language_info": {
   "codemirror_mode": {
    "name": "ipython",
    "version": 3
   },
   "file_extension": ".py",
   "mimetype": "text/x-python",
   "name": "python",
   "nbconvert_exporter": "python",
   "pygments_lexer": "ipython3",
   "version": "3.7.8"
  }
 },
 "nbformat": 4,
 "nbformat_minor": 4
}
